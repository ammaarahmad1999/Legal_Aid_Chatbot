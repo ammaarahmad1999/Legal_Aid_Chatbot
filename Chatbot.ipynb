{
  "nbformat": 4,
  "nbformat_minor": 0,
  "metadata": {
    "accelerator": "TPU",
    "colab": {
      "name": "Project.ipynb",
      "provenance": [],
      "collapsed_sections": [],
      "include_colab_link": true
    },
    "kernelspec": {
      "display_name": "Python 3",
      "name": "python3"
    }
  },
  "cells": [
    {
      "cell_type": "markdown",
      "metadata": {
        "id": "view-in-github",
        "colab_type": "text"
      },
      "source": [
        "<a href=\"https://colab.research.google.com/github/ammaarahmad1999/Legal_Aid_Chatbot/blob/main/Chatbot.ipynb\" target=\"_parent\"><img src=\"https://colab.research.google.com/assets/colab-badge.svg\" alt=\"Open In Colab\"/></a>"
      ]
    },
    {
      "cell_type": "code",
      "metadata": {
        "colab": {
          "base_uri": "https://localhost:8080/"
        },
        "id": "KG4IFALFZ_-e",
        "outputId": "443ad86a-3cdd-4c55-9774-c10ac55804d2"
      },
      "source": [
        "from google.colab import drive\n",
        "drive.mount('/content/drive')"
      ],
      "execution_count": null,
      "outputs": [
        {
          "output_type": "stream",
          "text": [
            "Mounted at /content/drive\n"
          ],
          "name": "stdout"
        }
      ]
    },
    {
      "cell_type": "code",
      "metadata": {
        "id": "V2dSiEHGMNMO",
        "colab": {
          "base_uri": "https://localhost:8080/"
        },
        "outputId": "11910d4f-cacf-400e-c6eb-12c3f1c0fe03"
      },
      "source": [
        "import nltk\r\n",
        "import collections\r\n",
        "nltk.download('punkt')\r\n",
        "nltk.download('stopwords')\r\n",
        "nltk.download('wordnet')\r\n",
        "nltk.download('averaged_perceptron_tagger')"
      ],
      "execution_count": null,
      "outputs": [
        {
          "output_type": "stream",
          "text": [
            "[nltk_data] Downloading package punkt to /root/nltk_data...\n",
            "[nltk_data]   Unzipping tokenizers/punkt.zip.\n",
            "[nltk_data] Downloading package stopwords to /root/nltk_data...\n",
            "[nltk_data]   Unzipping corpora/stopwords.zip.\n",
            "[nltk_data] Downloading package wordnet to /root/nltk_data...\n",
            "[nltk_data]   Unzipping corpora/wordnet.zip.\n",
            "[nltk_data] Downloading package averaged_perceptron_tagger to\n",
            "[nltk_data]     /root/nltk_data...\n",
            "[nltk_data]   Unzipping taggers/averaged_perceptron_tagger.zip.\n"
          ],
          "name": "stdout"
        },
        {
          "output_type": "execute_result",
          "data": {
            "text/plain": [
              "True"
            ]
          },
          "metadata": {
            "tags": []
          },
          "execution_count": 2
        }
      ]
    },
    {
      "cell_type": "code",
      "metadata": {
        "id": "FpUpkYlCb2TH"
      },
      "source": [
        "#Cyber Crime intents and sections\r\n",
        "intent_cyber_crime=[['private part', False, 0], ['genitals', False, 0], ['photo', False, 0], ['video', False, 0], ['consent', False, 0], ['share', False], ['pornography', False, 1], \r\n",
        "                    ['obscene', False, 1], ['child', False, 2], ['offensive', False, 3], ['threaten', False, 4], ['defame', False, 5], ['blackmailing', False, 6], ['extortion', False, 7], \r\n",
        "                    ['illegal', False, 8], ['sex', False, 8], ['stalking', False, 9], ['insulting', False],  ['modesty',False, 12], ['date', False, 10], ['matrimonial', False, 11], \r\n",
        "                    ['cheat',False], ['message',False], ['remark',False], ['harass',False]]\r\n",
        "sections_cyber_crime=[['IPC Section 504 2 years jail or fine or both', False], ['IPC Section 292 fine 2000-5000 jail 2-5 years', False], \r\n",
        "                      ['IPC Section 384 upto 3 years jail or fine or both', False], ['IPC Section 354A upto 3 years jail or fine or both', False], \r\n",
        "                      ['IPC Section 354D: First time-3 years jail or fine or both, Second time onwards-upto 5 years jail or fine or both', False], \r\n",
        "                      ['IPC Section 417 1 year jail or fine or both ', False], ['IPC Section 509 1 year jail or fine or both', False], \r\n",
        "                      ['IPC Section 508 2 years jail or fine or both', False], ['Section 66E of IT Act 2000: fine 2 lakhs, 3 years jail or both', False],\r\n",
        "                      ['Section 67 of IT Act 2000 – first conviction up to 3 years and 5 lakhs Second and subsequent conviction – upto 5 years and upto 10 lakhs', False],\r\n",
        "                      ['Section 66D of IT Act 2000: upto 3 years jail and fine upto 1 lakh', False], ['IPC Section 507 2 years jail with Section 506', False], \r\n",
        "                      ['Section 79(3)(A) of IT Act 2000', False], ['IPC Section 506 2 years jail or fine or both', False], \r\n",
        "                      ['IPC Section 503 2-4 years jail or fine or both', False], ['IPC Section 500 2 years jail or fine or both', False], \r\n",
        "                      ['IPC Section 419 3 years jail or fine or both', False], ['IPC Section 416', False], \r\n",
        "                      ['section 67 B of IT act 2000 - first conviction upto 5 years and upto 10 lakhs fine  second conviction upto 7 year and upto 10 lakhs', False]]"
      ],
      "execution_count": null,
      "outputs": []
    },
    {
      "cell_type": "code",
      "metadata": {
        "id": "TsE9Lo9qpvV5"
      },
      "source": [
        "questions_cyber_crime = [[\"Did anyone click or share your private pictures/videos without your consent?\",False], \r\n",
        "                         [\"Did anyone send any obscene pictures or videos to disturb you?\",False],\r\n",
        "                         [\"Did obscene content have any child involved?\",False], \r\n",
        "                         [\"Did anyone send offensive messages to you?\",False], \r\n",
        "                         [\"Did anyone send threatening messages to you?\",False],\r\n",
        "                         [\"Did anyone try to defame you on social media or any other platform?\",False],\r\n",
        "                         [\"Did someone blackmail you on social media or any other platform?\", False],\r\n",
        "                         [\"Did they demand money or any property while blackmailing?\", False],\r\n",
        "                         [\"Have anyone ever approached you and demand for illegal sex?\", False],\r\n",
        "                         [\"Have you ever undergone the unpleasant experience of being stalked?\", False],\r\n",
        "                         [\"In the world of social media online dating as well as scam related to it is on a rise. Have you ever been victim of online dating?\",False],\r\n",
        "                         [\"Did someone dupe you for money on matrimonial websites?\", False],\r\n",
        "                         [\"Did someone try to insult your modesty with some kind of act, word or gesture?\", False]]"
      ],
      "execution_count": null,
      "outputs": []
    },
    {
      "cell_type": "code",
      "metadata": {
        "id": "I-k9v270iTGF"
      },
      "source": [
        "order_cyber_crime = [[2,4,7], [2,4,7], [0,4,6], [0,4,6], [0,3,7], [0,2,4,7], [8,0], [8,0], [6], [10,11], [9,11], [9,10], [13,14,15], [14,15], [15], [14], \r\n",
        "                     [12,14,15], [18,7,11], [], [20], [], [19,20], [9,10,11], [9,10,11], [16]]"
      ],
      "execution_count": null,
      "outputs": []
    },
    {
      "cell_type": "code",
      "metadata": {
        "id": "i2D6QQPeaTWU"
      },
      "source": [
        "#Domestic violence intents and sections\r\n",
        "intent_domestic_violence = [['salary', False, 0],  ['evict', False, 1], ['force', False, 1], ['intimidate', False, 2], ['manipulate', False, 2], ['shouting', False, 3], \r\n",
        "                            ['criticise', False, 3], ['threaten', False, 4], ['hit', False, 5], ['beating',False, 5], ['insulting', False], ['abuse', False], \r\n",
        "                            ['psychological', False],  ['physically', False], ['alcohol', False], ['maintenance', False, 6], ['restriction', False, 7], ['job', False, 7], \r\n",
        "                            ['restriction', False, 8], ['house', False, 8], ['restriction', False, 9], ['marriage', False, 9], ['force', False, 10], ['marriage', False, 10], \r\n",
        "                            ['snatch', False, 0], ['dowry', False], ['molest', False], ['torture',False]]\r\n",
        "sections_domestic_violence = [['Section 3 of Domestic violence Act under sexual abuse', False], ['Section 3 of Domestic violence Act under economic abuse', False], \r\n",
        "                              ['Section 3 of Domestic violence Act under verbal abuse', False], ['Section 3 of Domestic violence Act under emotional abuse', False], \r\n",
        "                              ['Section 3 of Domestic violence Act under physical abuse', False]]"
      ],
      "execution_count": null,
      "outputs": []
    },
    {
      "cell_type": "code",
      "metadata": {
        "id": "SqUQTKC8sEpe"
      },
      "source": [
        "questions_domestic_violence = [[\"Did anyone of your family members try to take away your income?\",False],\r\n",
        "                               [\"Did your family members evicted you from home anytime?\",False],\r\n",
        "                               [\"Did your family members abuse you mentally or emotionally?\",False],\r\n",
        "                               [\"Did they abuse you verbally like speaking ill of you, mocking or insulting you in anyway?\",False],\r\n",
        "                               [\"Does any of your family members trying to threaten you by any action or gesture?\",False],\r\n",
        "                               [\"Have you ever been abused physically like beating, hitting etc… by your family members?\",False],\r\n",
        "                               [\"Are your basic needs being fulfilled by your family members?\",False],\r\n",
        "                               [\"Do you face any restrictions on taking jobs or working outside home from your family members?\",False],\r\n",
        "                               [\"Do you face any other restrictions on using household items from your family members?\",False],\r\n",
        "                               [\"Are you being restricted to marry the person of your choice?\",False],\r\n",
        "                               [\"Are you being forced to marry against your will?\",False],\r\n",
        "                               [\"Are you a victim of any kind of sexual abuse?\",False]]"
      ],
      "execution_count": null,
      "outputs": []
    },
    {
      "cell_type": "code",
      "metadata": {
        "id": "QyCaIolUnrAU"
      },
      "source": [
        "order_domestic_violence = [[24,1,16,17,18,19], [16,17,18,19], [1,23], [], [], [7], [7], [5], [], [], [5,7], [3,5,7,9], [3,5,7,9], [3,5,7,9], [8,5,3], \r\n",
        "                           [0,1,16,17,18,19], [17,19,21], [16,18,19,0,1], [17,19,21], [18,1,16,17], [17,19,21], [20], [1,23], [22], [0,1], [3,5,7,9], [], [3,9]]"
      ],
      "execution_count": null,
      "outputs": []
    },
    {
      "cell_type": "code",
      "metadata": {
        "id": "Hfj_wjfXgJ-p"
      },
      "source": [
        "l = len(intent_domestic_violence)\r\n",
        "for i in range(0,l):\r\n",
        "  print(i, intent_domestic_violence[i][0])"
      ],
      "execution_count": null,
      "outputs": []
    },
    {
      "cell_type": "code",
      "metadata": {
        "id": "qKaDa6f5B4Xn"
      },
      "source": [
        "def update_cyber_crime():\r\n",
        "  intent_cyber_crime[0][1]=intent_cyber_crime[0][1]|intent_cyber_crime[1][1]\r\n",
        "  intent_cyber_crime[1][1]=intent_cyber_crime[0][1]\r\n",
        "  intent_cyber_crime[2][1]=intent_cyber_crime[2][1]|intent_cyber_crime[3][1]\r\n",
        "  intent_cyber_crime[3][1]=intent_cyber_crime[2][1]\r\n",
        "  intent_cyber_crime[6][1]=intent_cyber_crime[6][1]|intent_cyber_crime[7][1]\r\n",
        "  intent_cyber_crime[7][1]=intent_cyber_crime[6][1]\r\n",
        "  id = intent_cyber_crime[7][2]\r\n",
        "  if intent_cyber_crime[7][1]==False and questions_cyber_crime[id][1]==True:\r\n",
        "    questions_cyber_crime[id+1][1]==True\r\n",
        "  id = intent_cyber_crime[12][2]\r\n",
        "  if intent_cyber_crime[12][1]==False and questions_cyber_crime[id][1]==True:\r\n",
        "    questions_cyber_crime[id+1][1]==True\r\n",
        "  id = intent_cyber_crime[19][2]\r\n",
        "  if intent_cyber_crime[19][1]==False and questions_cyber_crime[id][1]==True:\r\n",
        "    questions_cyber_crime[id+1][1]==True"
      ],
      "execution_count": null,
      "outputs": []
    },
    {
      "cell_type": "code",
      "metadata": {
        "id": "aaLlLbkTKOAj"
      },
      "source": [
        "def update_domestic_violence():\r\n",
        "  intent_domestic_violence[3][1]=intent_domestic_violence[3][1]|intent_domestic_violence[4][1]\r\n",
        "  intent_domestic_violence[4][1]=intent_domestic_violence[3][1]\r\n",
        "  intent_domestic_violence[5][1]=intent_domestic_violence[5][1]|intent_domestic_violence[6][1]\r\n",
        "  intent_domestic_violence[6][1]=intent_domestic_violence[5][1]\r\n",
        "  intent_domestic_violence[8][1]=intent_domestic_violence[8][1]|intent_domestic_violence[9][1]\r\n",
        "  intent_domestic_violence[9][1]=intent_domestic_violence[8][1]"
      ],
      "execution_count": null,
      "outputs": []
    },
    {
      "cell_type": "code",
      "metadata": {
        "id": "-V5piUkQblse"
      },
      "source": [
        "%cp /content/drive/MyDrive/doc2vec20_100.model ./"
      ],
      "execution_count": null,
      "outputs": []
    },
    {
      "cell_type": "code",
      "metadata": {
        "id": "WYkbNXhp_Xkd"
      },
      "source": [
        "from gensim.models.doc2vec import Doc2Vec \r\n",
        "model=\"doc2vec20_100.model\"  #point to downloaded pre-trained doc2vec model\r\n",
        "m = Doc2Vec.load(model)"
      ],
      "execution_count": null,
      "outputs": []
    },
    {
      "cell_type": "code",
      "metadata": {
        "id": "M6pUMiNVrFtC",
        "colab": {
          "base_uri": "https://localhost:8080/"
        },
        "outputId": "9b0bd8f9-031d-4a99-e1ca-a9ae236c7ec9"
      },
      "source": [
        "print(m.wv.most_similar(\"intimidating\", topn=50))"
      ],
      "execution_count": null,
      "outputs": [
        {
          "output_type": "stream",
          "text": [
            "[('agressive', 0.6781207323074341), ('threatening', 0.6701663732528687), ('argumentative', 0.660290539264679), ('erratic', 0.6497961282730103), ('domineering', 0.6487255096435547), ('insulting', 0.6344987154006958), ('pushy', 0.63239586353302), ('unpleasant', 0.6303631663322449), ('demeaning', 0.627422571182251), ('hostile', 0.6203800439834595), ('aggressive', 0.6191757321357727), ('unpredictable', 0.6138052344322205), ('annoying', 0.6106954216957092), ('childish', 0.603320837020874), ('embarrassing', 0.6004969477653503), ('disrespectful', 0.5943245887756348), ('egotistical', 0.5895531177520752), ('heartbreakingly', 0.5892499685287476), ('shirty', 0.5890860557556152), ('vindictive', 0.5869518518447876), ('impatient', 0.5866142511367798), ('impulsive', 0.5861508846282959), ('domineer', 0.5823655128479004), ('degrading', 0.5821319818496704), ('humiliating', 0.5815277099609375), ('accusatory', 0.5813024044036865), ('clingy', 0.580519437789917), ('irresponsible', 0.5802348852157593), ('contemptuous', 0.5790532231330872), ('uncaring', 0.5757490396499634), ('unkind', 0.5747330188751221), ('creepy', 0.5697559118270874), ('sulky', 0.5690523386001587), ('calculating', 0.5658615827560425), ('abrupt', 0.5644341707229614), ('spiteful', 0.563818097114563), ('nasty', 0.5591005086898804), ('edgy', 0.5585590600967407), ('unaffectionate', 0.5581852197647095), ('dictatorial', 0.5564994812011719), ('cruel', 0.5561922192573547), ('shouty', 0.5560050010681152), ('inconsiderate', 0.5552443861961365), ('manipulative', 0.5551968812942505), ('withdrawn', 0.5545080304145813), ('possessive', 0.554350733757019), ('cordial', 0.5535882711410522), ('controling', 0.5533080697059631), ('exploitative', 0.5510503053665161), ('pissy', 0.5491822957992554)]\n"
          ],
          "name": "stdout"
        }
      ]
    },
    {
      "cell_type": "code",
      "metadata": {
        "id": "XLnh3TKfTKbl"
      },
      "source": [
        "#crude, vile, repulsive"
      ],
      "execution_count": null,
      "outputs": []
    },
    {
      "cell_type": "code",
      "metadata": {
        "id": "jV25uv26E5Cf"
      },
      "source": [
        "x=\"filthy\"\r\n",
        "y=\"offence\"\r\n",
        "print(m.wv.n_similarity(x.lower().split(),y.lower().split()))"
      ],
      "execution_count": null,
      "outputs": []
    },
    {
      "cell_type": "code",
      "metadata": {
        "id": "ojswsObr_hrk"
      },
      "source": [
        "def related_intent_cyber(id,signal):\r\n",
        "  related = [0,1,2,3,4]\r\n",
        "  if id in related and signal == 1:\r\n",
        "    for id in related:\r\n",
        "      intent_cyber_crime[id][1]=True\r\n",
        "      \r\n",
        "  related = [14,15]\r\n",
        "  if id in related and signal == 1:\r\n",
        "    for id in related:\r\n",
        "      intent_cyber_crime[id][1]=True"
      ],
      "execution_count": null,
      "outputs": []
    },
    {
      "cell_type": "code",
      "metadata": {
        "id": "-DhTNEOL6Yg6"
      },
      "source": [
        "def related_intent_domestic(id,signal):\r\n",
        "  if id in [0,24] and signal == 1:\r\n",
        "    for id in [0,24]:\r\n",
        "      intent_cyber_crime[id][1]=True\r\n",
        "\r\n",
        "  if id in [16,17] and signal == 1:\r\n",
        "    for id in [16,17]:\r\n",
        "      intent_cyber_crime[id][1]=True\r\n",
        "\r\n",
        "  if id in [18,19] and signal == 1:\r\n",
        "    for id in [18,19]:\r\n",
        "      intent_cyber_crime[id][1]=True\r\n",
        "\r\n",
        "  if id in [20,21] and signal == 1:\r\n",
        "    for id in [20,21]:\r\n",
        "      intent_cyber_crime[id][1]=True\r\n",
        "\r\n",
        "  if id in [22,23] and signal == 1:\r\n",
        "    for id in [22,23]:\r\n",
        "      intent_cyber_crime[id][1]=True"
      ],
      "execution_count": null,
      "outputs": []
    },
    {
      "cell_type": "code",
      "metadata": {
        "id": "vCKPLvaDT-7e"
      },
      "source": [
        "contractions = {\r\n",
        "\"ain't\": \"am not\",\r\n",
        "\"aren't\": \"are not\",\r\n",
        "\"can't\": \"cannot\",\r\n",
        "\"can't've\": \"cannot have\",\r\n",
        "\"'cause\": \"because\",\r\n",
        "\"could've\": \"could have\",\r\n",
        "\"couldn't\": \"could not\",\r\n",
        "\"couldn't've\": \"could not have\",\r\n",
        "\"didn't\": \"did not\",\r\n",
        "\"doesn't\": \"does not\",\r\n",
        "\"don't\": \"do not\",\r\n",
        "\"hadn't\": \"had not\",\r\n",
        "\"hadn't've\": \"had not have\",\r\n",
        "\"hasn't\": \"has not\",\r\n",
        "\"haven't\": \"have not\",\r\n",
        "\"he'd\": \"he had\",\r\n",
        "\"he'd've\": \"he would have\",\r\n",
        "\"he'll\": \"he shall\",\r\n",
        "\"he'll've\": \"he shall have\",\r\n",
        "\"he's\": \"he has\",\r\n",
        "\"how'd\": \"how did\",\r\n",
        "\"how'd'y\": \"how do you\",\r\n",
        "\"how'll\": \"how will\",\r\n",
        "\"how's\": \"how has\",\r\n",
        "\"i'd\": \"I had\",\r\n",
        "\"i'd've\": \"I would have\",\r\n",
        "\"i'll\": \"I shall\",\r\n",
        "\"i'll've\": \"I shall have\",\r\n",
        "\"i'm\": \"I am\",\r\n",
        "\"i've\": \"I have\",\r\n",
        "\"isn't\": \"is not\",\r\n",
        "\"it'd\": \"it had\",\r\n",
        "\"it'd've\": \"it would have\",\r\n",
        "\"it'll\": \"it shall\",\r\n",
        "\"it'll've\": \"it shall have\",\r\n",
        "\"it's\": \"it has\",\r\n",
        "\"let's\": \"let us\",\r\n",
        "\"ma'am\": \"madam\",\r\n",
        "\"mayn't\": \"may not\",\r\n",
        "\"might've\": \"might have\",\r\n",
        "\"mightn't\": \"might not\",\r\n",
        "\"mightn't've\": \"might not have\",\r\n",
        "\"must've\": \"must have\",\r\n",
        "\"mustn't\": \"must not\",\r\n",
        "\"mustn't've\": \"must not have\",\r\n",
        "\"needn't\": \"need not\",\r\n",
        "\"needn't've\": \"need not have\",\r\n",
        "\"o'clock\": \"of the clock\",\r\n",
        "\"oughtn't\": \"ought not\",\r\n",
        "\"oughtn't've\": \"ought not have\",\r\n",
        "\"shan't\": \"shall not\",\r\n",
        "\"sha'n't\": \"shall not\",\r\n",
        "\"shan't've\": \"shall not have\",\r\n",
        "\"she'd\": \"she had\",\r\n",
        "\"she'd've\": \"she would have\",\r\n",
        "\"she'll\": \"she shall\",\r\n",
        "\"she'll've\": \"she shall have\",\r\n",
        "\"she's\": \"she has\",\r\n",
        "\"should've\": \"should have\",\r\n",
        "\"shouldn't\": \"should not\",\r\n",
        "\"shouldn't've\": \"should not have\",\r\n",
        "\"so've\": \"so have\",\r\n",
        "\"so's\": \"so as\",\r\n",
        "\"that'd\": \"that would\",\r\n",
        "\"that'd've\": \"that would have\",\r\n",
        "\"that's\": \"that is\",\r\n",
        "\"there'd\": \"there had\",\r\n",
        "\"there'd've\": \"there would have\",\r\n",
        "\"there's\": \"there has\",\r\n",
        "\"they'd\": \"they had\",\r\n",
        "\"they'd've\": \"they would have\",\r\n",
        "\"they'll\": \"they shall\",\r\n",
        "\"they'll've\": \"they shall have\",\r\n",
        "\"they're\": \"they are\",\r\n",
        "\"they've\": \"they have\",\r\n",
        "\"to've\": \"to have\",\r\n",
        "\"wasn't\": \"was not\",\r\n",
        "\"we'd\": \"we had\",\r\n",
        "\"we'd've\": \"we would have\",\r\n",
        "\"we'll\": \"we will\",\r\n",
        "\"we'll've\": \"we will have\",\r\n",
        "\"we're\": \"we are\",\r\n",
        "\"we've\": \"we have\",\r\n",
        "\"weren't\": \"were not\",\r\n",
        "\"what'll\": \"what shall\",\r\n",
        "\"what'll've\": \"what shall have\",\r\n",
        "\"what're\": \"what are\",\r\n",
        "\"what's\": \"what is\",\r\n",
        "\"what've\": \"what have\",\r\n",
        "\"when's\": \"when has\",\r\n",
        "\"when've\": \"when have\",\r\n",
        "\"where'd\": \"where did\",\r\n",
        "\"where's\": \"where is\",\r\n",
        "\"where've\": \"where have\",\r\n",
        "\"who'll\": \"who will\",\r\n",
        "\"who'll've\": \"who will have\",\r\n",
        "\"who's\": \"who is\",\r\n",
        "\"who've\": \"who have\",\r\n",
        "\"why's\": \"why is\",\r\n",
        "\"why've\": \"why have\",\r\n",
        "\"will've\": \"will have\",\r\n",
        "\"won't\": \"will not\",\r\n",
        "\"won't've\": \"will not have\",\r\n",
        "\"would've\": \"would have\",\r\n",
        "\"wouldn't\": \"would not\",\r\n",
        "\"wouldn't've\": \"would not have\",\r\n",
        "\"y'all\": \"you all\",\r\n",
        "\"y'all'd\": \"you all would\",\r\n",
        "\"y'all'd've\": \"you all would have\",\r\n",
        "\"y'all're\": \"you all are\",\r\n",
        "\"y'all've\": \"you all have\",\r\n",
        "\"you'd\": \"you would\",\r\n",
        "\"you'd've\": \"you would have\",\r\n",
        "\"you'll\": \"you will\",\r\n",
        "\"you'll've\": \"you will have\",\r\n",
        "\"you're\": \"you are\",\r\n",
        "\"you've\": \"you have\"\r\n",
        "}"
      ],
      "execution_count": null,
      "outputs": []
    },
    {
      "cell_type": "code",
      "metadata": {
        "id": "si6lhIk2vA12"
      },
      "source": [
        "from nltk.corpus import stopwords\r\n",
        "stop_words = set(stopwords.words('english'))\r\n",
        "married = 0\r\n",
        "working = 0\r\n",
        "age = 0"
      ],
      "execution_count": null,
      "outputs": []
    },
    {
      "cell_type": "code",
      "metadata": {
        "id": "1n8zaFGEC0V2"
      },
      "source": [
        "from nltk.corpus import wordnet\r\n",
        "lemmatizer = nltk.WordNetLemmatizer()\r\n",
        "def lemmatization(sentence):\r\n",
        "  \r\n",
        "  sentence=sentence.lower()\r\n",
        "  tokens = []\r\n",
        "  for word,tag in nltk.pos_tag(nltk.word_tokenize(sentence)):\r\n",
        "    if (tag[0] == 'N') or (tag[0]== 'V'):\r\n",
        "      token = lemmatizer.lemmatize(word,pos=tag[0].lower())\r\n",
        "    else:\r\n",
        "      token = lemmatizer.lemmatize(word,pos='a')\r\n",
        "    tokens.append(token)\r\n",
        "  return tokens\r\n",
        "#lemmatization(input())"
      ],
      "execution_count": null,
      "outputs": []
    },
    {
      "cell_type": "code",
      "metadata": {
        "id": "5l3P2vqzNsD-"
      },
      "source": [
        "import re\r\n",
        "def cleaning_text(text):\r\n",
        "\r\n",
        "  text=text.lower()\r\n",
        "  for word in text.split():\r\n",
        "    if word.lower in contractions:\r\n",
        "      text=text.replace(word,contractions[word])\r\n",
        "  sentence=\"\"\r\n",
        "  text=re.sub(r'[^\\w\\s]', ' ', text)\r\n",
        "  tokens=lemmatization(text)\r\n",
        "  tokens = [word for word in tokens if word.isalpha() and word in m.wv.vocab]\r\n",
        "  sentence = \" \".join(tokens)\r\n",
        "  tokens = [word for word in tokens if word not in stop_words]\r\n",
        "  return tokens\r\n",
        "#cleaning_text(input())"
      ],
      "execution_count": null,
      "outputs": []
    },
    {
      "cell_type": "code",
      "metadata": {
        "id": "ytCNIhIv8XMe"
      },
      "source": [
        "from nltk import word_tokenize, pos_tag\r\n",
        "from nltk.corpus import wordnet\r\n",
        "import re\r\n",
        "lemmatizer = nltk.WordNetLemmatizer()\r\n",
        "\r\n",
        "#word tokenizeing and part-of-speech tagger\r\n",
        "def find_phrase(document):\r\n",
        "  \r\n",
        "  tokens = [nltk.word_tokenize(sent) for sent in [document]]\r\n",
        "  postag = [nltk.pos_tag(sent) for sent in tokens][0]\r\n",
        "  # Rule for NP chunk and VB Chunk\r\n",
        "  grammar = r\"\"\"\r\n",
        "    NBAR:\r\n",
        "        {<NN.*|JJ>*<NN.*>}  # Nouns and Adjectives, terminated with Nouns\r\n",
        "        {<RB.?>*<VB.?>*<JJ>*<VB.?>+<VB>?} # Verbs and Verb Phrases\r\n",
        "    NP:\r\n",
        "        {<NBAR>}\r\n",
        "        {<NBAR><IN><NBAR>}  # Above, connected with in/of/etc...\r\n",
        "  \"\"\"  \r\n",
        "  #Chunking\r\n",
        "  cp = nltk.RegexpParser(grammar)\r\n",
        "\r\n",
        "  # the result is a tree\r\n",
        "  tree = cp.parse(postag)\r\n",
        "  terms = get_terms(tree)\r\n",
        "  features = []\r\n",
        "  for term in terms:\r\n",
        "    _term = ''\r\n",
        "    for word in term:\r\n",
        "        _term += ' ' + word\r\n",
        "    features.append(_term.strip())\r\n",
        "  return features\r\n",
        "\r\n",
        "def leaves(tree):\r\n",
        "    \"\"\"Finds NP (nounphrase) leaf nodes of a chunk tree.\"\"\"\r\n",
        "    for subtree in tree.subtrees(filter = lambda t: t.label() =='NP'):\r\n",
        "        yield subtree.leaves()\r\n",
        "        \r\n",
        "def get_word_postag(word):\r\n",
        "    if pos_tag([word])[0][1].startswith('J'):\r\n",
        "        return wordnet.ADJ\r\n",
        "    if pos_tag([word])[0][1].startswith('V'):\r\n",
        "        return wordnet.VERB\r\n",
        "    if pos_tag([word])[0][1].startswith('N'):\r\n",
        "        return wordnet.NOUN\r\n",
        "    else:\r\n",
        "        return wordnet.NOUN\r\n",
        "    \r\n",
        "def normalise(word):\r\n",
        "    \"\"\"Normalises words to lowercase and stems and lemmatizes it.\"\"\"\r\n",
        "    word = word.lower()\r\n",
        "    postag = get_word_postag(word)\r\n",
        "    token = lemmatizer.lemmatize(word,postag)\r\n",
        "    if (token in m.wv.vocab):\r\n",
        "      word = token\r\n",
        "    return word\r\n",
        "\r\n",
        "def get_terms(tree):    \r\n",
        "    for leaf in leaves(tree):\r\n",
        "        terms = [normalise(w) for w,t in leaf]\r\n",
        "        yield terms\r\n",
        "#find_phrase(input())"
      ],
      "execution_count": null,
      "outputs": []
    },
    {
      "cell_type": "code",
      "metadata": {
        "id": "g1etd66anlWK"
      },
      "source": [
        "def list_phrases(text):\r\n",
        "  features=find_phrase(text)\r\n",
        "  phrases=cleaning_text(text)\r\n",
        "  for sen in features:\r\n",
        "    tokens = lemmatization(sen)\r\n",
        "    uni_gram = [word for word in tokens if word.isalpha() and  word not in stop_words and word in m.wv.vocab]\r\n",
        "    filtered_sentence = (\" \").join(uni_gram)\r\n",
        "    phrases.extend(uni_gram)\r\n",
        "    if filtered_sentence != \"\" and len(uni_gram)>1:\r\n",
        "      phrases.append(filtered_sentence)\r\n",
        "  return phrases\r\n",
        "#list_phrases(input())"
      ],
      "execution_count": null,
      "outputs": []
    },
    {
      "cell_type": "code",
      "metadata": {
        "id": "RvnVkZpvpepN"
      },
      "source": [
        "#Doc2vec Domestic violence implementation\r\n",
        "#Function to take bi_gram list as input and generate the changes in global variables\r\n",
        "def check(phrases):\r\n",
        "  intent=[]\r\n",
        "  for x in intent_domestic_violence:\r\n",
        "    intent.append(x[0])\r\n",
        "  for y in intent_cyber_crime:\r\n",
        "    intent.append(y[0])\r\n",
        "\r\n",
        "  for x in phrases:\r\n",
        "    for y in intent:\r\n",
        "      sim = m.wv.n_similarity(x.lower().split(), y.lower().split())\r\n",
        "      if sim>=0.54:\r\n",
        "       print(x,\":\",y,\" \",sim)\r\n",
        "#check(list_phrases(input()))"
      ],
      "execution_count": null,
      "outputs": []
    },
    {
      "cell_type": "code",
      "metadata": {
        "id": "AasKwuXXfTZH"
      },
      "source": [
        "from nltk.tokenize import word_tokenize\r\n",
        "from nltk.corpus import stopwords\r\n",
        "def statements_processing(Human_text):\r\n",
        "  te=Human_text\r\n",
        "  for word in te.split():\r\n",
        "    if word.lower() in contractions:\r\n",
        "      te = te.replace(word, contractions[word.lower()])\r\n",
        "\r\n",
        "  te=te.lower()\r\n",
        "  tokens = word_tokenize(te)\r\n",
        "  \r\n",
        "  words_yes_no = [word for word in tokens if word.isalpha()]\r\n",
        "  #print(words_yes_no)\r\n",
        "  list_len=len(words_yes_no)\r\n",
        "  for i in words_yes_no:\r\n",
        "    if i=='yes':\r\n",
        "      return 1\r\n",
        "    if i=='no':\r\n",
        "      return 0 \r\n",
        "  return 0"
      ],
      "execution_count": null,
      "outputs": []
    },
    {
      "cell_type": "code",
      "metadata": {
        "id": "w0V1tZfJw451"
      },
      "source": [
        "#Given domestic violence intent finding index\r\n",
        "def find_domestic_intent_index(intent):\r\n",
        "  l = len(intent_domestic_violence)\r\n",
        "  for i in range(0,l):\r\n",
        "    if intent==intent_domestic_violence[i][0]:\r\n",
        "      return i"
      ],
      "execution_count": null,
      "outputs": []
    },
    {
      "cell_type": "code",
      "metadata": {
        "id": "XFCvf_dbcN6g"
      },
      "source": [
        "#Given domestic sections finding index\r\n",
        "def find_domestic_section_index(section):\r\n",
        "  l = len(sections_domestic_violence)\r\n",
        "  for i in range(0,l):\r\n",
        "    if section==sections_domestic_violence[i][0]:\r\n",
        "      return i"
      ],
      "execution_count": null,
      "outputs": []
    },
    {
      "cell_type": "code",
      "metadata": {
        "id": "L5-tYoXIPInj"
      },
      "source": [
        "from collections import deque\r\n",
        "def implemented_domestic_violence():\r\n",
        "\r\n",
        "  asking_questions = deque()\r\n",
        "  l = len(intent_domestic_violence)\r\n",
        "  for i in range(0,l):\r\n",
        "    if(intent_domestic_violence[i][1]==True):\r\n",
        "      for j in order_domestic_violence[i]:\r\n",
        "        asking_questions.append(j)\r\n",
        "\r\n",
        "  while asking_questions:\r\n",
        "    j=asking_questions[0]\r\n",
        "    asking_questions.popleft()\r\n",
        "    if intent_domestic_violence[j][1]==False:\r\n",
        "      qid = intent_domestic_violence[j][2]\r\n",
        "      if questions_domestic_violence[qid][1]==False:\r\n",
        "        print(questions_domestic_violence[qid][0])\r\n",
        "        questions_domestic_violence[qid][1]=True\r\n",
        "        response=input().lower()\r\n",
        "        signal = statements_processing(response)\r\n",
        "        if j==17:\r\n",
        "          signal = signal^1\r\n",
        "        update_domestic_violence()\r\n",
        "        related_intent_domestic(id,signal)\r\n",
        "        if signal==1:\r\n",
        "          intent_domestic_violence[j][1] = True\r\n",
        "          for i in reversed(order_domestic_violence[j]):\r\n",
        "            if i not in asking_questions:\r\n",
        "              asking_questions.appendleft(i)"
      ],
      "execution_count": null,
      "outputs": []
    },
    {
      "cell_type": "code",
      "metadata": {
        "id": "IFqoh__Egxbj"
      },
      "source": [
        "def final_output_domestic():\r\n",
        "  ans_domestic_set=set()\r\n",
        "  \r\n",
        "  if intent_domestic_violence[8][1]==True or intent_domestic_violence[9][1]==True :\r\n",
        "    ans_domestic_set.add(4)\r\n",
        "  if intent_domestic_violence[22][1]==True and intent_domestic_violence[23][1]==True and married == 0 :\r\n",
        "    ans_domestic_set.add(3)\r\n",
        "  if intent_domestic_violence[20][1]==True and intent_domestic_violence[21][1]==True and married == 0 :\r\n",
        "    ans_domestic_set.add(3)\r\n",
        "  if intent_domestic_violence[3][1]==True or intent_domestic_violence[4][1]==True :\r\n",
        "    ans_domestic_set.add(3)\r\n",
        "  if intent_domestic_violence[5][1]==True or intent_domestic_violence[6][1]==True or intent_domestic_violence[7][1]==True :\r\n",
        "    ans_domestic_set.add(2)\r\n",
        "  if intent_domestic_violence[16][1]==True and intent_domestic_violence[17][1]==True :\r\n",
        "    ans_domestic_set.add(1)\r\n",
        "  if intent_domestic_violence[0][1]==True and intent_domestic_violence[24][1]==True and working == 1 :\r\n",
        "    ans_domestic_set.add(1)\r\n",
        "  if intent_domestic_violence[1][1]==True and intent_domestic_violence[19][1]==True :\r\n",
        "    ans_domestic_set.add(1)\r\n",
        "  if intent_domestic_violence[15][1]==True :\r\n",
        "    ans_domestic_set.add(1)\r\n",
        "\r\n",
        "  ans_domestic = []\r\n",
        "  for i in ans_domestic_set:\r\n",
        "    ans_domestic.append(sections_domestic_violence[i][0])\r\n",
        "\r\n",
        "  return ans_domestic\r\n",
        "       "
      ],
      "execution_count": null,
      "outputs": []
    },
    {
      "cell_type": "code",
      "metadata": {
        "id": "fcd0bL3UP5kT"
      },
      "source": [
        "#Doc2vec Domestic violence implementation\r\n",
        "#Function to take bi_gram list as input and generate the changes in global variables\r\n",
        "def domestic_function(phrases):\r\n",
        "\r\n",
        "  for x in phrases:\r\n",
        "    l = len(intent_domestic_violence)\r\n",
        "    for id in range(0,l):\r\n",
        "      y = intent_domestic_violence[id][0]\r\n",
        "      sim = m.wv.n_similarity(x.lower().split(), y.lower().split())\r\n",
        "      if sim>=0.50:\r\n",
        "        print(x,\":\",y,\" \",sim)\r\n",
        "        intent_domestic_violence[id][1] = True\r\n",
        "  implemented_domestic_violence()"
      ],
      "execution_count": null,
      "outputs": []
    },
    {
      "cell_type": "code",
      "metadata": {
        "id": "wA35DodD0P16"
      },
      "source": [
        "def domestic_violence_input_new(phrases):\r\n",
        "  for intent in intent_domestic_violence:\r\n",
        "    intent[1]=False\r\n",
        "  for sections in sections_domestic_violence:\r\n",
        "    sections[1]=False\r\n",
        "  for question in questions_domestic_violence:\r\n",
        "    question[1]=False\r\n",
        "  if(working==0):\r\n",
        "    questions_domestic_violence[0][1]=True\r\n",
        "  if(married==1):\r\n",
        "    questions_domestic_violence[9][1]=True\r\n",
        "    questions_domestic_violence[10][1]=True\r\n",
        "  domestic_function(phrases)\r\n",
        "  ans_domestic=final_output_domestic()\r\n",
        "  return ans_domestic"
      ],
      "execution_count": null,
      "outputs": []
    },
    {
      "cell_type": "markdown",
      "metadata": {
        "id": "4_Rq0Wt1Oe1o"
      },
      "source": [
        "Cyber Crime form here\r\n"
      ]
    },
    {
      "cell_type": "code",
      "metadata": {
        "id": "EHWyH1gHVdQ7"
      },
      "source": [
        "#Given cyber crime intent finding index\r\n",
        "def find_cyber_intent_index(intent):\r\n",
        "  l = len(intent_cyber_crime)\r\n",
        "  for i in range(0,l):\r\n",
        "    if intent==intent_cyber_crime[i][0]:\r\n",
        "      return i"
      ],
      "execution_count": null,
      "outputs": []
    },
    {
      "cell_type": "code",
      "metadata": {
        "id": "CKcHbpVNhPvo"
      },
      "source": [
        "from collections import deque\r\n",
        "def implemented_cyber_crime():\r\n",
        "\r\n",
        "  asking_questions = deque()\r\n",
        "  l = len(intent_cyber_crime)\r\n",
        "  for i in range(0,l):\r\n",
        "    if(intent_cyber_crime[i][1]==True):\r\n",
        "      for j in order_cyber_crime[i]:\r\n",
        "        asking_questions.append(j)\r\n",
        "\r\n",
        "  while asking_questions:\r\n",
        "    j=asking_questions[0]\r\n",
        "    asking_questions.popleft()\r\n",
        "    if intent_cyber_crime[j][1]==False:\r\n",
        "      qid = intent_cyber_crime[j][2]\r\n",
        "      if questions_cyber_crime[qid][1]==False:\r\n",
        "        print(questions_cyber_crime[qid][0])\r\n",
        "        questions_cyber_crime[qid][1]=True\r\n",
        "        response=input().lower()\r\n",
        "        signal = statements_processing(response)\r\n",
        "        update_cyber_crime()\r\n",
        "        related_intent_cyber(j,signal)\r\n",
        "        if signal==1:\r\n",
        "          intent_cyber_crime[j][1] = True\r\n",
        "          for i in reversed(order_cyber_crime[j]):\r\n",
        "            if i not in asking_questions:\r\n",
        "              asking_questions.appendleft(i)"
      ],
      "execution_count": null,
      "outputs": []
    },
    {
      "cell_type": "code",
      "metadata": {
        "id": "s3ArZ9wo99-P"
      },
      "source": [
        "def final_output_cyber():\r\n",
        "  ans_cyber_set=set()\r\n",
        "  if intent_cyber_crime[10][1]==True :\r\n",
        "    ans_cyber_set.update([0])\r\n",
        "  if intent_cyber_crime[9][1]==True :\r\n",
        "    ans_cyber_set.update([0,6,7,11,13,15])\r\n",
        "  if (intent_cyber_crime[2][1]==True or intent_cyber_crime[3][1]) and (intent_cyber_crime[0][1]==True or intent_cyber_crime[1][1]==True) and intent_cyber_crime[4][1]==True :\r\n",
        "    ans_cyber_set.update([1,8])\r\n",
        "  if (intent_cyber_crime[6][1]==True or intent_cyber_crime[7][1]) :\r\n",
        "    ans_cyber_set.update([1,9])\r\n",
        "  if (intent_cyber_crime[6][1]==True or intent_cyber_crime[7][1]) and intent_cyber_crime[8][1]==True :\r\n",
        "    ans_cyber_set.update([1,9,18])\r\n",
        "  if intent_cyber_crime[12][1]==True :\r\n",
        "    ans_cyber_set.update([14])\r\n",
        "  if intent_cyber_crime[13][1]==True :\r\n",
        "    ans_cyber_set.update([2,14])\r\n",
        "  if intent_cyber_crime[14][1]==True and intent_cyber_crime[15][1]==True :\r\n",
        "    ans_cyber_set.update([3])\r\n",
        "  if intent_cyber_crime[16][1]==True :\r\n",
        "    ans_cyber_set.update([4])\r\n",
        "  if intent_cyber_crime[19][1]==True :\r\n",
        "    ans_cyber_set.update([5,10,16,17,12])\r\n",
        "  if intent_cyber_crime[18][1]==True :\r\n",
        "    ans_cyber_set.update([6])\r\n",
        "  if intent_cyber_crime[20][1]==True :\r\n",
        "    ans_cyber_set.update([12])\r\n",
        "  if intent_cyber_crime[11][1]==True :\r\n",
        "    ans_cyber_set.update([15])\r\n",
        "  \r\n",
        "  ans_cyber = []\r\n",
        "  for i in ans_cyber_set:\r\n",
        "    ans_cyber.append(sections_cyber_crime[i][0])\r\n",
        "  \r\n",
        "  return ans_cyber"
      ],
      "execution_count": null,
      "outputs": []
    },
    {
      "cell_type": "code",
      "metadata": {
        "id": "QGB50DVrUKt9"
      },
      "source": [
        "#cyber crimes Doc2vec\r\n",
        "def cyber_function(bi_gram):\r\n",
        "\r\n",
        "  for x in bi_gram:\r\n",
        "    l = len(intent_cyber_crime)\r\n",
        "    for id in range(0,l):\r\n",
        "      y = intent_cyber_crime[id][0]\r\n",
        "      sim = m.wv.n_similarity(x.lower().split(), y.lower().split())\r\n",
        "      if sim>=0.54:\r\n",
        "        print(x,\":\",y,\" \",sim)\r\n",
        "        intent_cyber_crime[id][1] = True\r\n",
        "  implemented_cyber_crime()"
      ],
      "execution_count": null,
      "outputs": []
    },
    {
      "cell_type": "code",
      "metadata": {
        "id": "5Y57ULx6s9rN"
      },
      "source": [
        "def cyber_crime_input_new(phrases):\r\n",
        "  for intent in intent_cyber_crime:\r\n",
        "    intent[1]=False\r\n",
        "  for sections in sections_cyber_crime:\r\n",
        "    sections[1]=False\r\n",
        "  for question in questions_cyber_crime:\r\n",
        "    question[1]=False\r\n",
        "  cyber_function(phrases)\r\n",
        "  ans_cyber=final_output_cyber()\r\n",
        "  return ans_cyber"
      ],
      "execution_count": null,
      "outputs": []
    },
    {
      "cell_type": "code",
      "metadata": {
        "id": "cfvryrlGCd7W"
      },
      "source": [
        "def diff1(phrases):\r\n",
        "  \r\n",
        "  intent_domestic=[]\r\n",
        "  for x in intent_domestic_violence:\r\n",
        "    intent_domestic.append(x[0])\r\n",
        "  intent_cyber=[]\r\n",
        "  for y in intent_cyber_crime:\r\n",
        "    intent_cyber.append(y[0])\r\n",
        "  \r\n",
        "  c1=0\r\n",
        "  c2=0\r\n",
        "  a1=set()\r\n",
        "  a2=set()\r\n",
        "  for x in phrases:\r\n",
        "    for y in intent_domestic:\r\n",
        "      sim = m.wv.n_similarity(x.lower().split(), y.lower().split())\r\n",
        "      if sim > 0.50:\r\n",
        "        #print(x,\":\",y,\" \",sim)\r\n",
        "        a1.add(y)\r\n",
        "        \r\n",
        "  for x in phrases:\r\n",
        "    for y in intent_cyber:\r\n",
        "      sim = m.wv.n_similarity(x.lower().split(), y.lower().split())\r\n",
        "      if sim > 0.54:\r\n",
        "        #print(x,\":\",y,\" \",sim)\r\n",
        "        a2.add(y)\r\n",
        "\r\n",
        "  c1=len(a1)\r\n",
        "  c2=len(a2)   \r\n",
        "  print(c1,c2)   \r\n",
        "  if c2 >= 3 and c1 >= 3:\r\n",
        "    return 0\r\n",
        "  if c1 > c2:\r\n",
        "    return 2\r\n",
        "  if c2 > c1:\r\n",
        "    return 1\r\n",
        "  return 0"
      ],
      "execution_count": null,
      "outputs": []
    },
    {
      "cell_type": "code",
      "metadata": {
        "id": "aXbku1B7V70X"
      },
      "source": [
        "def introduction_questions():\r\n",
        "  global working\r\n",
        "  global married\r\n",
        "  global age\r\n",
        "  print(\"My introduction: I am Anita, What about you?\")\r\n",
        "  introduction = input()\r\n",
        "  print(\"What is your age?\")\r\n",
        "  age = int(input())\r\n",
        "  if (age>=18):\r\n",
        "    print(\"Are you married?\")\r\n",
        "    reply = input()\r\n",
        "    married = statements_processing(reply)\r\n",
        "  print(\"Do you do some kind of work for living?\")\r\n",
        "  reply = input()\r\n",
        "  working = statements_processing(reply)"
      ],
      "execution_count": null,
      "outputs": []
    },
    {
      "cell_type": "code",
      "metadata": {
        "id": "3kHwMfZ8EraD"
      },
      "source": [
        "def general_questions():\r\n",
        "  answer_sections = []\r\n",
        "  introduction_questions()\r\n",
        "  print(\"What brings you here. How can I help you?\")\r\n",
        "  reply = input()\r\n",
        "  phrases = list_phrases(reply)\r\n",
        "  while True:\r\n",
        "    check = diff1(phrases)\r\n",
        "    print(check)\r\n",
        "    if check == 2:\r\n",
        "      answer_sections.extend(domestic_violence_input_new(phrases))\r\n",
        "    if check == 1:\r\n",
        "      answer_sections.extend(cyber_crime_input_new(phrases))\r\n",
        "    if check == 0:\r\n",
        "      answer_sections.extend(cyber_crime_input_new(phrases))\r\n",
        "      answer_sections.extend(domestic_violence_input_new(phrases))\r\n",
        "    print(\"Do you want to share anything else?\")\r\n",
        "    reply = input()\r\n",
        "    response = statements_processing(reply)\r\n",
        "    if(response == 0):\r\n",
        "      break\r\n",
        "  print(\"You may file a case under the following sections:\")\r\n",
        "  for x in answer_sections:\r\n",
        "    print(\"  * \",x)\r\n",
        "general_questions()"
      ],
      "execution_count": null,
      "outputs": []
    },
    {
      "cell_type": "code",
      "metadata": {
        "id": "uKp9QM1rm_M6"
      },
      "source": [
        "def differentiate(phrases):\r\n",
        "  cyber_keywords=[\"privacy\",\"social medium\",\"internet\",\"video\",\"cyberbullying\",\"stalking\",\"message\",\"emails\",\"facebook\",\"instagram\",\"website\",\"photo\",\"obscene\",\"online\"]\r\n",
        "  domestic_keywords=[\"husband\",\"family\",\"marriage\",\"dowry\",\"alcohol\",\"beating\",\"alcohol\",\"hit\",\"manipulate\",\"restriction\",\"violence\",\"house\",\"divorce\"]\r\n",
        "  count1 = 0\r\n",
        "  count2 = 0\r\n",
        "  a1=set()\r\n",
        "  a2=set()\r\n",
        "  for x in phrases:\r\n",
        "    for y in cyber_keywords:\r\n",
        "      sim = m.wv.n_similarity(x.lower().split(), y.lower().split())\r\n",
        "      if sim >= 0.54:\r\n",
        "        #print(x,\":\",y,\" \",sim)\r\n",
        "        a1.add(y)\r\n",
        "    for y in domestic_keywords:\r\n",
        "      sim = m.wv.n_similarity(x.lower().split(), y.lower().split())\r\n",
        "      if sim >= 0.50:\r\n",
        "        #print(x,\":\",y,\" \",sim)\r\n",
        "        a2.add(y)\r\n",
        "  count1=len(a1)\r\n",
        "  count2=len(a2)\r\n",
        "  print(count1, count2)\r\n",
        "  if count2 >= 2 and count1 >= 2:\r\n",
        "    print(\"both\")\r\n",
        "    return 0\r\n",
        "  if count1 > count2:\r\n",
        "    print(\"cyber\")\r\n",
        "    return 1\r\n",
        "  if count2 > count1:\r\n",
        "    print(\"domestic\")\r\n",
        "    return 2\r\n",
        "  \r\n",
        "  return 0 "
      ],
      "execution_count": null,
      "outputs": []
    },
    {
      "cell_type": "code",
      "metadata": {
        "id": "5kqslLtED8VF"
      },
      "source": [
        "def general_questions():\r\n",
        "  answer_sections = []\r\n",
        "  introduction_questions()\r\n",
        "  print(\"What brings you here. How can I help you?\")\r\n",
        "  reply = input()\r\n",
        "  phrases = list_phrases(reply)\r\n",
        "  while True:\r\n",
        "    check = differentiate(phrases)\r\n",
        "    if check == 2:\r\n",
        "      answer_sections.extend(domestic_violence_input_new(phrases))\r\n",
        "    if check == 1:\r\n",
        "      answer_sections.extend(cyber_crime_input_new(phrases))\r\n",
        "    if check == 0:\r\n",
        "      answer_sections.extend(cyber_crime_input_new(phrases))\r\n",
        "      answer_sections.extend(domestic_violence_input_new(phrases))\r\n",
        "    print(\"Do you want to share anything else?\")\r\n",
        "    reply = input()\r\n",
        "    response = statements_processing(reply)\r\n",
        "    if(response == 0):\r\n",
        "      break\r\n",
        "  print(\"You may file a case under the following sections:\")\r\n",
        "  for x in answer_sections:\r\n",
        "    print(\"  * \",x)\r\n",
        "general_questions()"
      ],
      "execution_count": null,
      "outputs": []
    },
    {
      "cell_type": "markdown",
      "metadata": {
        "id": "ey76YVNxpHit"
      },
      "source": [
        "TestCases\r\n"
      ]
    },
    {
      "cell_type": "code",
      "metadata": {
        "id": "Gsl7Lh9BAQfh"
      },
      "source": [
        "#Day in and day out my husband behaviour towards me is getting worse. He cannot control his words and often abuses me in someway or the other. I don't know how to deal with it.\r\n",
        "#I am quite frustrated with my husband addiction of alcohol. He come back drunken everyday and shouts at me for small things. He often insults me as well. I am fed up of him\r\n",
        "#We had a very good relationship initially and I thought I was in dreams but I never imagined he wanted just sex and once we had it on his wish. But I had no idea he will do such a shameless thing of saving our intimacy pictures on his phone to blackmail me later.\r\n",
        "#I am very much active on social media and I have been dating a guy online. But I had no idea he is a fraud who is now blackmailing me with my personal pictures.\r\n",
        "#Our relationship was toxic and I suffered verbal, philosophical, emotional, sexually, financially and physical abuse by him.\r\n",
        "# My husband want money for drinking alcohol everyday but does not do any work he come home and snatches away my daily earning and also he will beat and shouts unnecessary if i don't give him money"
      ],
      "execution_count": null,
      "outputs": []
    },
    {
      "cell_type": "code",
      "metadata": {
        "id": "YtGeR2IOpVE4"
      },
      "source": [
        "#test cases\r\n",
        "# My husband is not providing me basic needs(maintainance)\r\n",
        "# My friend clicked my images of private part without consent(capture,image,genitals,without consent)\r\n",
        "# My friend is sending me sexually explicit act in which child are present(obscene material,child)\r\n",
        "# My friend is sending me threaten messages(threaten)\r\n",
        "# My friend insulted me (insult)\r\n",
        "# My husband thrown me out of house(eviction from home)\r\n",
        "# my mother in law forced me to leave my job(restriction ,employment)\r\n",
        "# My husband daily drinks alcohol and beats me.He also scolds me.(beating,vilifying(it is verbal abuse)) - Not working well\r\n",
        "# My family members touturing me to bring more dowry(intimidating(it is related to mental abuse))\r\n",
        "# My husband always try to insult me by calling with bad names(insulting)\r\n",
        "# My friend is send me some vulgar clips(obscene material,share)\r\n",
        "# My mother in law forcing me not to use some household things(restriction ,household)\r\n",
        "# My husband threatens me (threaten)\r\n",
        "# My husband is not allowing my child to have education(restriction)\r\n",
        "# My parents are forcing me to marry a person not of my choice(forceful, marraige)\r\n",
        "# My boyfriend is blackmail me that he will share my private pictures on internet(threaten,genitals,image,share,privacy)\r\n",
        "#My boyfriend blackmail me that he will share my private pictures on internet\r\n",
        "#my friend is blackmail me for money that he will share our private pictures on internet\r\n",
        "#We had a very good relationship initially and I thought I was in dreams but I never imagined he wanted just sex and once we had it on his wish. But I had no idea he will do such a shameless thing of saving our intimacy pictures on his phone to blackmail me later. Output should be (Section 503 2-4 years jail or fine or both: [blackmail], Section 292 fine 2000-5000 jail 2-5 years:, Section 66E fine 2 lakhs, 3 years jail or both: [capture publish share] [private part] [image] [consent] [privacy], )\r\n",
        "#I am very much active on social media and I have been dating a guy online. But I had no idea he is a fraud who is now blackmail me with my personal pictures.\r\n",
        "#I am afraid he will leak my photos online if I don't meet his illegal sex demand. I need help\r\n",
        "# my friend sending me some offensive messages on facebook\r\n",
        "# someone is repeatedly stalking at me\r\n",
        "\r\n",
        "\r\n",
        "\r\n",
        "\r\n",
        "#genitals--->private part\r\n",
        "\r\n",
        "#contradiction test cases\r\n",
        "#My husband is not providing me any shelter\r\n",
        "#Consent doesn’t involve coercion or compliance. Women have historically been assumed to be compliant. Rape within marriage couldn’t happen because women were supposed to comply and compliance became synonymous with consent\r\n",
        "#My husband beating me daily after drinking alcohol . He is not allowing me to take up job\r\n",
        "#My family members are restricting me not to use particular room\r\n",
        "#I am quite frustrated with my husband addiction of alcohol. He come back drunken everyday and shouts at me for small things. He often insults me as well. I am fed up of him\r\n",
        "#Day in and day out his behaviour towards me is getting worse. He cannot control his words and often abuses me in someway or the other. I don't know how to deal with it.\r\n",
        "#Husband got drunk last night and was verbally abusive to me in front of our kids. I said to him this morning that this was unacceptable. He's now saying I'm a moaning, judgmental u can imagine the rest. All men get drunk why am I ruining his Xmas. He can't actually remember it happening and us saying it's Christmas he can do what he likes and I’m afraid what would be his next step.\r\n",
        "#Our relationship was toxic and I suffered verbal, philosophical, emotional, sexually, financially and physical abuse by him.\r\n",
        "# I am very afraid i do not know from couple of days one person is following me\r\n",
        "#someone trying to post  disrespectful messages about me facebook\r\n",
        "\r\n",
        "#GUI, Model, Seminar, Presentation"
      ],
      "execution_count": null,
      "outputs": []
    },
    {
      "cell_type": "code",
      "metadata": {
        "id": "Ic0Y3i4Ul_4i"
      },
      "source": [
        "from bs4 import BeautifulSoup as bs\r\n",
        "from urllib.request import Request, urlopen\r\n",
        "import re\r\n",
        "import nltk\r\n",
        "\r\n",
        "URL='https://survivorsforum.womensaid.org.uk/topics/page/'\r\n",
        "URL1='https://survivorsforum.womensaid.org.uk/forums/topic/'\r\n",
        "\r\n",
        "article_text = \"\"\r\n",
        "\r\n",
        "for page in range(900,948):\r\n",
        "    pg = (URL+str(page)+'/')\r\n",
        "\r\n",
        "\r\n",
        "\r\n",
        "    req = Request(pg, headers={'User-Agent': 'Mozilla/5.0'})\r\n",
        "\r\n",
        "\r\n",
        "    web = urlopen(req).read()\r\n",
        "    source = bs(web, 'lxml')\r\n",
        "    table = source.find(class_='bbp-body').find_all('ul')\r\n",
        "    for tab in table:\r\n",
        "        links = []\r\n",
        "        c=0\r\n",
        "        for link in tab.find_all('a'):\r\n",
        "            links = []\r\n",
        "            c=c+1\r\n",
        "            if c==2:\r\n",
        "              break\r\n",
        "            links.append(link.get('href'))\r\n",
        "            topic=links[:5]\r\n",
        "            final_link=topic[0]\r\n",
        "\r\n",
        "            #print(final_link)\r\n",
        "        \r\n",
        "            req1 = Request(final_link, headers={'User-Agent': 'Mozilla/5.0'})\r\n",
        "            webpage = urlopen(req1).read()\r\n",
        "            scrapped_data =webpage         \r\n",
        "            article = scrapped_data \r\n",
        "            parsed_article = bs(article,'lxml')\r\n",
        "            paragraphs = parsed_article.find_all('p')\r\n",
        "            for p in paragraphs:\r\n",
        "                article_text += p.text\r\n",
        "            article_text +=\"\\n\"\r\n",
        "    if(page%5==0):\r\n",
        "      print(page)       \r\n",
        "\r\n",
        "# Cleaing the text\r\n",
        "#print(article_text)\r\n",
        "processed_article = article_text.lower()\r\n",
        "#processed_article = re.sub('[^a-zA-Z]', ' ', processed_article)\r\n",
        "#processed_article = re.sub(r'\\s+', ' ', processed_article)\r\n",
        "#print(processed_article)\r\n",
        "\r\n"
      ],
      "execution_count": null,
      "outputs": []
    },
    {
      "cell_type": "code",
      "metadata": {
        "id": "zLlMKmPj1GRi"
      },
      "source": [
        "print(processed_article)"
      ],
      "execution_count": null,
      "outputs": []
    },
    {
      "cell_type": "code",
      "metadata": {
        "id": "t_ypLjcUEWVE"
      },
      "source": [
        "#print(processed_article)\r\n",
        "f= open(\"model.txt\",\"a+\")\r\n",
        "f.write(processed_article)\r\n",
        "f.close()"
      ],
      "execution_count": null,
      "outputs": []
    },
    {
      "cell_type": "code",
      "metadata": {
        "id": "j0-5xyrJWNu9"
      },
      "source": [
        "%cp /content/drive/MyDrive/UK_forum.txt ./"
      ],
      "execution_count": null,
      "outputs": []
    },
    {
      "cell_type": "code",
      "metadata": {
        "id": "9wRGN1SywD-X"
      },
      "source": [
        "%cp /content/drive/MyDrive/links_and_related_content.txt ./"
      ],
      "execution_count": null,
      "outputs": []
    },
    {
      "cell_type": "code",
      "metadata": {
        "id": "dbLjFHOEqXTA"
      },
      "source": [
        "#Import all the dependencies\r\n",
        "from gensim.models.doc2vec import Doc2Vec, TaggedDocument\r\n",
        "from nltk.tokenize import word_tokenize\r\n",
        "from nltk.tokenize import sent_tokenize"
      ],
      "execution_count": null,
      "outputs": []
    },
    {
      "cell_type": "code",
      "metadata": {
        "id": "7KwM7M03OMks"
      },
      "source": [
        "from nltk.corpus import wordnet\r\n",
        "lemmatizer = nltk.WordNetLemmatizer()"
      ],
      "execution_count": null,
      "outputs": []
    },
    {
      "cell_type": "code",
      "metadata": {
        "id": "zbeb-B7FNNu6"
      },
      "source": [
        "import re\r\n",
        "articles=\"\"\r\n",
        "f = open(\"UK_forum.txt\", 'r')\r\n",
        "articles = f.read()\r\n",
        "f.close()\r\n",
        "f = open(\"links_and_related_content.txt\", 'r')\r\n",
        "article = f.read()\r\n",
        "f.close()\r\n",
        "f = open(\"data.txt\", 'r')\r\n",
        "article = f.read()\r\n",
        "f.close()\r\n",
        "articles = articles + article\r\n",
        "sentences = sent_tokenize(articles)\r\n",
        "document = []\r\n",
        "for sent in sentences:\r\n",
        "  sent = re.sub('[^a-zA-Z]', ' ', sent)\r\n",
        "  sent = re.sub(r'\\s+', ' ', sent)\r\n",
        "  document.append(lemmatization(sent))\r\n",
        "tagged_data = [TaggedDocument(d, tags=[str(i)]) for i, d in enumerate(document)]"
      ],
      "execution_count": null,
      "outputs": []
    },
    {
      "cell_type": "code",
      "metadata": {
        "colab": {
          "base_uri": "https://localhost:8080/"
        },
        "id": "Nen_etGKUdFL",
        "outputId": "0563a418-79e7-4fdc-f098-1d939792df18"
      },
      "source": [
        "print(len(tagged_data))"
      ],
      "execution_count": null,
      "outputs": [
        {
          "output_type": "stream",
          "text": [
            "56190\n"
          ],
          "name": "stdout"
        }
      ]
    },
    {
      "cell_type": "code",
      "metadata": {
        "id": "GEfcycSRUZSp"
      },
      "source": [
        "model = Doc2Vec(tagged_data, dm=0, dbow_words=1, vector_size=100, window=2, alpha=0.025, min_alpha=0.0025, min_count=1, epochs = 100)\r\n",
        "model.save(\"doc2vec.model\")\r\n",
        "print(\"Model Saved\")"
      ],
      "execution_count": null,
      "outputs": []
    },
    {
      "cell_type": "code",
      "metadata": {
        "id": "i4DenniCd0Sg"
      },
      "source": [
        "model = Doc2Vec(vector_size=100, alpha=0.025, min_alpha=0.00025, min_count=1, dm = 1)\r\n",
        "\r\n",
        "model.build_vocab(tagged_data)"
      ],
      "execution_count": null,
      "outputs": []
    },
    {
      "cell_type": "code",
      "metadata": {
        "colab": {
          "base_uri": "https://localhost:8080/"
        },
        "id": "BvALkhfiq94r",
        "outputId": "33a0650a-409a-40e3-bbb7-b1b03c6c6f61"
      },
      "source": [
        "for epoch in range(2):\r\n",
        "    print('iteration {0}'.format(epoch))\r\n",
        "    model.train(tagged_data, total_examples=model.corpus_count, epochs=1)\r\n",
        "    model.save(\"doc2vec.model\")\r\n",
        "print(\"Model Saved\")\r\n",
        "print(len(model.wv.vocab))"
      ],
      "execution_count": null,
      "outputs": [
        {
          "output_type": "stream",
          "text": [
            "iteration 0\n",
            "iteration 1\n",
            "Model Saved\n",
            "28482\n"
          ],
          "name": "stdout"
        }
      ]
    },
    {
      "cell_type": "code",
      "metadata": {
        "id": "M2kkRJ1BrUhZ"
      },
      "source": [
        "from gensim.models.doc2vec import Doc2Vec\r\n",
        "model=\"doc2vec.model\"  #point to downloaded pre-trained doc2vec model\r\n",
        "m = Doc2Vec.load(model)"
      ],
      "execution_count": null,
      "outputs": []
    },
    {
      "cell_type": "code",
      "metadata": {
        "id": "oRtZSkF7j7YZ"
      },
      "source": [
        "#Domestic violence intents and sections\r\n",
        "intent_domestic_violence = [['alcohol', False], ['dowry', False], ['molestation', False], ['restriction', False], ['house', False], \r\n",
        "                            ['salary', False],  ['eviction', False], ['maintenance', False], ['employment', False], ['blame', False], ['forceful', False], \r\n",
        "                            ['marriage', False], ['threaten', False], ['emotion', False], ['beating', False]]\r\n",
        "sections_domestic_violence = [['Section 3 of Domestic violence Act under sexual abuse', False], ['Section 3 of Domestic violence Act under economic abuse', False], \r\n",
        "                              ['Section 3 of Domestic violence Act under verbal abuse', False], ['Section 3 of Domestic violence Act under emotional abuse', False], \r\n",
        "                              ['Section 3 of Domestic violence Act under physical abuse', False]]"
      ],
      "execution_count": null,
      "outputs": []
    },
    {
      "cell_type": "code",
      "metadata": {
        "id": "jQMDa_IEX5tc"
      },
      "source": [
        "print(model.wv.most_similar(\"sexual\"))"
      ],
      "execution_count": null,
      "outputs": []
    },
    {
      "cell_type": "code",
      "metadata": {
        "id": "-gwMtlMerc95"
      },
      "source": [
        "x = model.infer_vector(\"i wish someone would tell me what the right thing do is \")\r\n",
        "print(model.docvecs.most_similar([x]))"
      ],
      "execution_count": null,
      "outputs": []
    },
    {
      "cell_type": "code",
      "metadata": {
        "id": "qL_yIzP0S0sc"
      },
      "source": [
        "import json\r\n",
        "\r\n",
        "# Enter your keys/secrets as strings in the following fields\r\n",
        "credentials = {}\r\n",
        "credentials['CONSUMER_KEY'] = 'ce25aZWRWRcSNoJHcR8rdE2eK'\r\n",
        "credentials['CONSUMER_SECRET'] = 'qPiRwYAi5ukskF9EcSZNq6ljjUbMnwJoilsxfGewS26LqyhseC'\r\n",
        "credentials['ACCESS_TOKEN'] = '1345777647112994821-DpnwVuxi57z0KcOPR1jRrSdjM9Dqt3'\r\n",
        "credentials['ACCESS_SECRET'] = 'eXSJsXzqTncrJGVB4JqjPs3fzCaV6XnTSZGghaWNNSyC6'\r\n",
        "\r\n",
        "# Save the credentials object to file\r\n",
        "with open(\"twitter_credentials.json\", \"w\") as file:\r\n",
        "    json.dump(credentials, file)"
      ],
      "execution_count": null,
      "outputs": []
    },
    {
      "cell_type": "code",
      "metadata": {
        "colab": {
          "base_uri": "https://localhost:8080/"
        },
        "id": "bvyHyqMATND7",
        "outputId": "6dc698b5-8fa2-4019-94df-730edfb05275"
      },
      "source": [
        "!pip install twython"
      ],
      "execution_count": null,
      "outputs": [
        {
          "output_type": "stream",
          "text": [
            "Collecting twython\n",
            "  Downloading https://files.pythonhosted.org/packages/24/80/579b96dfaa9b536efde883d4f0df7ea2598a6f3117a6dd572787f4a2bcfb/twython-3.8.2-py3-none-any.whl\n",
            "Requirement already satisfied: requests>=2.1.0 in /usr/local/lib/python3.6/dist-packages (from twython) (2.23.0)\n",
            "Requirement already satisfied: requests-oauthlib>=0.4.0 in /usr/local/lib/python3.6/dist-packages (from twython) (1.3.0)\n",
            "Requirement already satisfied: urllib3!=1.25.0,!=1.25.1,<1.26,>=1.21.1 in /usr/local/lib/python3.6/dist-packages (from requests>=2.1.0->twython) (1.24.3)\n",
            "Requirement already satisfied: certifi>=2017.4.17 in /usr/local/lib/python3.6/dist-packages (from requests>=2.1.0->twython) (2020.12.5)\n",
            "Requirement already satisfied: chardet<4,>=3.0.2 in /usr/local/lib/python3.6/dist-packages (from requests>=2.1.0->twython) (3.0.4)\n",
            "Requirement already satisfied: idna<3,>=2.5 in /usr/local/lib/python3.6/dist-packages (from requests>=2.1.0->twython) (2.10)\n",
            "Requirement already satisfied: oauthlib>=3.0.0 in /usr/local/lib/python3.6/dist-packages (from requests-oauthlib>=0.4.0->twython) (3.1.0)\n",
            "Installing collected packages: twython\n",
            "Successfully installed twython-3.8.2\n"
          ],
          "name": "stdout"
        }
      ]
    },
    {
      "cell_type": "code",
      "metadata": {
        "id": "uGE-jSZ7S69y"
      },
      "source": [
        "from twython import Twython\r\n",
        "import json\r\n",
        "\r\n",
        "# Load credentials from json file\r\n",
        "with open(\"twitter_credentials.json\", \"r\") as file:\r\n",
        "    creds = json.load(file)\r\n",
        "\r\n",
        "# Instantiate an object\r\n",
        "python_tweets = Twython(creds['CONSUMER_KEY'], creds['CONSUMER_SECRET'])\r\n",
        "\r\n",
        "# Create our query\r\n",
        "query = {'q': 'learn python',\r\n",
        "        'result_type': 'popular',\r\n",
        "        'count': 10,\r\n",
        "        'lang': 'en',\r\n",
        "        }"
      ],
      "execution_count": null,
      "outputs": []
    },
    {
      "cell_type": "code",
      "metadata": {
        "colab": {
          "base_uri": "https://localhost:8080/",
          "height": 141
        },
        "id": "Xk9WRFwZTVwb",
        "outputId": "cf9b4996-5455-4058-943a-3596c465ec23"
      },
      "source": [
        "import pandas as pd\r\n",
        "\r\n",
        "# Search tweets\r\n",
        "dict_ = {'user': [], 'date': [], 'text': [], 'favorite_count': []}\r\n",
        "for status in python_tweets.search(**query)['statuses']:\r\n",
        "    dict_['user'].append(status['user']['screen_name'])\r\n",
        "    dict_['date'].append(status['created_at'])\r\n",
        "    dict_['text'].append(status['text'])\r\n",
        "    dict_['favorite_count'].append(status['favorite_count'])\r\n",
        "\r\n",
        "# Structure data in a pandas DataFrame for easier manipulation\r\n",
        "df = pd.DataFrame(dict_)\r\n",
        "df.sort_values(by='favorite_count', inplace=True, ascending=False)\r\n",
        "df.head(5)"
      ],
      "execution_count": null,
      "outputs": [
        {
          "output_type": "execute_result",
          "data": {
            "text/html": [
              "<div>\n",
              "<style scoped>\n",
              "    .dataframe tbody tr th:only-of-type {\n",
              "        vertical-align: middle;\n",
              "    }\n",
              "\n",
              "    .dataframe tbody tr th {\n",
              "        vertical-align: top;\n",
              "    }\n",
              "\n",
              "    .dataframe thead th {\n",
              "        text-align: right;\n",
              "    }\n",
              "</style>\n",
              "<table border=\"1\" class=\"dataframe\">\n",
              "  <thead>\n",
              "    <tr style=\"text-align: right;\">\n",
              "      <th></th>\n",
              "      <th>user</th>\n",
              "      <th>date</th>\n",
              "      <th>text</th>\n",
              "      <th>favorite_count</th>\n",
              "    </tr>\n",
              "  </thead>\n",
              "  <tbody>\n",
              "    <tr>\n",
              "      <th>1</th>\n",
              "      <td>KirkDBorne</td>\n",
              "      <td>Thu Dec 31 04:53:34 +0000 2020</td>\n",
              "      <td>The top #DeepLearning package seen at #AI conf...</td>\n",
              "      <td>258</td>\n",
              "    </tr>\n",
              "    <tr>\n",
              "      <th>0</th>\n",
              "      <td>KirkDBorne</td>\n",
              "      <td>Sat Jan 02 20:57:35 +0000 2021</td>\n",
              "      <td>997-page book \"Dive into #DeepLearning\" teache...</td>\n",
              "      <td>162</td>\n",
              "    </tr>\n",
              "    <tr>\n",
              "      <th>2</th>\n",
              "      <td>KirkDBorne</td>\n",
              "      <td>Sun Dec 27 21:20:10 +0000 2020</td>\n",
              "      <td>#Python #MachineLearning — ML and #DeepLearnin...</td>\n",
              "      <td>48</td>\n",
              "    </tr>\n",
              "  </tbody>\n",
              "</table>\n",
              "</div>"
            ],
            "text/plain": [
              "         user  ... favorite_count\n",
              "1  KirkDBorne  ...            258\n",
              "0  KirkDBorne  ...            162\n",
              "2  KirkDBorne  ...             48\n",
              "\n",
              "[3 rows x 4 columns]"
            ]
          },
          "metadata": {
            "tags": []
          },
          "execution_count": 8
        }
      ]
    },
    {
      "cell_type": "code",
      "metadata": {
        "id": "PPrqJZeiUCCu"
      },
      "source": [
        "from twython import TwythonStreamer\r\n",
        "import csv\r\n",
        "\r\n",
        "# Filter out unwanted data\r\n",
        "def process_tweet(tweet):\r\n",
        "    d = {}\r\n",
        "    d['hashtags'] = [hashtag['text'] for hashtag in tweet['entities']['hashtags']]\r\n",
        "    d['text'] = tweet['text']\r\n",
        "    d['user'] = tweet['user']['screen_name']\r\n",
        "    d['user_loc'] = tweet['user']['location']\r\n",
        "    return d\r\n",
        "    \r\n",
        "    \r\n",
        "# Create a class that inherits TwythonStreamer\r\n",
        "class MyStreamer(TwythonStreamer):     \r\n",
        "\r\n",
        "    # Received data\r\n",
        "    def on_success(self, data):\r\n",
        "\r\n",
        "        # Only collect tweets in English\r\n",
        "        if data['lang'] == 'en':\r\n",
        "            tweet_data = process_tweet(data)\r\n",
        "            self.save_to_csv(tweet_data)\r\n",
        "\r\n",
        "    # Problem with the API\r\n",
        "    def on_error(self, status_code, data):\r\n",
        "        print(status_code, data)\r\n",
        "        self.disconnect()\r\n",
        "        \r\n",
        "    # Save each tweet to csv file\r\n",
        "    def save_to_csv(self, tweet):\r\n",
        "        with open(r'saved_tweets.csv', 'a') as file:\r\n",
        "            writer = csv.writer(file)\r\n",
        "            writer.writerow(list(tweet.values()))"
      ],
      "execution_count": null,
      "outputs": []
    },
    {
      "cell_type": "code",
      "metadata": {
        "colab": {
          "base_uri": "https://localhost:8080/",
          "height": 346
        },
        "id": "FsunabZ9UJ-Q",
        "outputId": "128a5612-afae-4e3e-93ea-9103f5c1102e"
      },
      "source": [
        "stream = MyStreamer(creds['CONSUMER_KEY'], creds['CONSUMER_SECRET'], \r\n",
        "                    creds['ACCESS_TOKEN'], creds['ACCESS_SECRET'])\r\n",
        "# Start the stream\r\n",
        "stream.statuses.filter(track='domestic violence ')"
      ],
      "execution_count": null,
      "outputs": [
        {
          "output_type": "error",
          "ename": "KeyboardInterrupt",
          "evalue": "ignored",
          "traceback": [
            "\u001b[0;31m---------------------------------------------------------------------------\u001b[0m",
            "\u001b[0;31mKeyboardInterrupt\u001b[0m                         Traceback (most recent call last)",
            "\u001b[0;32m<ipython-input-16-81213598c350>\u001b[0m in \u001b[0;36m<module>\u001b[0;34m()\u001b[0m\n\u001b[1;32m      2\u001b[0m                     creds['ACCESS_TOKEN'], creds['ACCESS_SECRET'])\n\u001b[1;32m      3\u001b[0m \u001b[0;31m# Start the stream\u001b[0m\u001b[0;34m\u001b[0m\u001b[0;34m\u001b[0m\u001b[0;34m\u001b[0m\u001b[0m\n\u001b[0;32m----> 4\u001b[0;31m \u001b[0mstream\u001b[0m\u001b[0;34m.\u001b[0m\u001b[0mstatuses\u001b[0m\u001b[0;34m.\u001b[0m\u001b[0mfilter\u001b[0m\u001b[0;34m(\u001b[0m\u001b[0mtrack\u001b[0m\u001b[0;34m=\u001b[0m\u001b[0;34m'domestic violence in india'\u001b[0m\u001b[0;34m)\u001b[0m\u001b[0;34m\u001b[0m\u001b[0;34m\u001b[0m\u001b[0m\n\u001b[0m",
            "\u001b[0;32m/usr/local/lib/python3.6/dist-packages/twython/streaming/types.py\u001b[0m in \u001b[0;36mfilter\u001b[0;34m(self, **params)\u001b[0m\n\u001b[1;32m     45\u001b[0m         \u001b[0murl\u001b[0m \u001b[0;34m=\u001b[0m \u001b[0;34m'https://stream.twitter.com/%s/statuses/filter.json'\u001b[0m\u001b[0;31m \u001b[0m\u001b[0;31m\\\u001b[0m\u001b[0;34m\u001b[0m\u001b[0;34m\u001b[0m\u001b[0m\n\u001b[1;32m     46\u001b[0m               \u001b[0;34m%\u001b[0m \u001b[0mself\u001b[0m\u001b[0;34m.\u001b[0m\u001b[0mstreamer\u001b[0m\u001b[0;34m.\u001b[0m\u001b[0mapi_version\u001b[0m\u001b[0;34m\u001b[0m\u001b[0;34m\u001b[0m\u001b[0m\n\u001b[0;32m---> 47\u001b[0;31m         \u001b[0mself\u001b[0m\u001b[0;34m.\u001b[0m\u001b[0mstreamer\u001b[0m\u001b[0;34m.\u001b[0m\u001b[0m_request\u001b[0m\u001b[0;34m(\u001b[0m\u001b[0murl\u001b[0m\u001b[0;34m,\u001b[0m \u001b[0;34m'POST'\u001b[0m\u001b[0;34m,\u001b[0m \u001b[0mparams\u001b[0m\u001b[0;34m=\u001b[0m\u001b[0mparams\u001b[0m\u001b[0;34m)\u001b[0m\u001b[0;34m\u001b[0m\u001b[0;34m\u001b[0m\u001b[0m\n\u001b[0m\u001b[1;32m     48\u001b[0m \u001b[0;34m\u001b[0m\u001b[0m\n\u001b[1;32m     49\u001b[0m     \u001b[0;32mdef\u001b[0m \u001b[0msample\u001b[0m\u001b[0;34m(\u001b[0m\u001b[0mself\u001b[0m\u001b[0;34m,\u001b[0m \u001b[0;34m**\u001b[0m\u001b[0mparams\u001b[0m\u001b[0;34m)\u001b[0m\u001b[0;34m:\u001b[0m\u001b[0;34m\u001b[0m\u001b[0;34m\u001b[0m\u001b[0m\n",
            "\u001b[0;32m/usr/local/lib/python3.6/dist-packages/twython/streaming/api.py\u001b[0m in \u001b[0;36m_request\u001b[0;34m(self, url, method, params)\u001b[0m\n\u001b[1;32m    137\u001b[0m             \u001b[0mresponse\u001b[0m \u001b[0;34m=\u001b[0m \u001b[0m_send\u001b[0m\u001b[0;34m(\u001b[0m\u001b[0mretry_counter\u001b[0m\u001b[0;34m)\u001b[0m\u001b[0;34m\u001b[0m\u001b[0;34m\u001b[0m\u001b[0m\n\u001b[1;32m    138\u001b[0m \u001b[0;34m\u001b[0m\u001b[0m\n\u001b[0;32m--> 139\u001b[0;31m             \u001b[0;32mfor\u001b[0m \u001b[0mline\u001b[0m \u001b[0;32min\u001b[0m \u001b[0mresponse\u001b[0m\u001b[0;34m.\u001b[0m\u001b[0miter_lines\u001b[0m\u001b[0;34m(\u001b[0m\u001b[0mself\u001b[0m\u001b[0;34m.\u001b[0m\u001b[0mchunk_size\u001b[0m\u001b[0;34m)\u001b[0m\u001b[0;34m:\u001b[0m\u001b[0;34m\u001b[0m\u001b[0;34m\u001b[0m\u001b[0m\n\u001b[0m\u001b[1;32m    140\u001b[0m                 \u001b[0;32mif\u001b[0m \u001b[0;32mnot\u001b[0m \u001b[0mself\u001b[0m\u001b[0;34m.\u001b[0m\u001b[0mconnected\u001b[0m\u001b[0;34m:\u001b[0m\u001b[0;34m\u001b[0m\u001b[0;34m\u001b[0m\u001b[0m\n\u001b[1;32m    141\u001b[0m                     \u001b[0;32mbreak\u001b[0m\u001b[0;34m\u001b[0m\u001b[0;34m\u001b[0m\u001b[0m\n",
            "\u001b[0;32m/usr/local/lib/python3.6/dist-packages/requests/models.py\u001b[0m in \u001b[0;36miter_lines\u001b[0;34m(self, chunk_size, decode_unicode, delimiter)\u001b[0m\n\u001b[1;32m    793\u001b[0m         \u001b[0mpending\u001b[0m \u001b[0;34m=\u001b[0m \u001b[0;32mNone\u001b[0m\u001b[0;34m\u001b[0m\u001b[0;34m\u001b[0m\u001b[0m\n\u001b[1;32m    794\u001b[0m \u001b[0;34m\u001b[0m\u001b[0m\n\u001b[0;32m--> 795\u001b[0;31m         \u001b[0;32mfor\u001b[0m \u001b[0mchunk\u001b[0m \u001b[0;32min\u001b[0m \u001b[0mself\u001b[0m\u001b[0;34m.\u001b[0m\u001b[0miter_content\u001b[0m\u001b[0;34m(\u001b[0m\u001b[0mchunk_size\u001b[0m\u001b[0;34m=\u001b[0m\u001b[0mchunk_size\u001b[0m\u001b[0;34m,\u001b[0m \u001b[0mdecode_unicode\u001b[0m\u001b[0;34m=\u001b[0m\u001b[0mdecode_unicode\u001b[0m\u001b[0;34m)\u001b[0m\u001b[0;34m:\u001b[0m\u001b[0;34m\u001b[0m\u001b[0;34m\u001b[0m\u001b[0m\n\u001b[0m\u001b[1;32m    796\u001b[0m \u001b[0;34m\u001b[0m\u001b[0m\n\u001b[1;32m    797\u001b[0m             \u001b[0;32mif\u001b[0m \u001b[0mpending\u001b[0m \u001b[0;32mis\u001b[0m \u001b[0;32mnot\u001b[0m \u001b[0;32mNone\u001b[0m\u001b[0;34m:\u001b[0m\u001b[0;34m\u001b[0m\u001b[0;34m\u001b[0m\u001b[0m\n",
            "\u001b[0;32m/usr/local/lib/python3.6/dist-packages/requests/models.py\u001b[0m in \u001b[0;36mgenerate\u001b[0;34m()\u001b[0m\n\u001b[1;32m    749\u001b[0m             \u001b[0;32mif\u001b[0m \u001b[0mhasattr\u001b[0m\u001b[0;34m(\u001b[0m\u001b[0mself\u001b[0m\u001b[0;34m.\u001b[0m\u001b[0mraw\u001b[0m\u001b[0;34m,\u001b[0m \u001b[0;34m'stream'\u001b[0m\u001b[0;34m)\u001b[0m\u001b[0;34m:\u001b[0m\u001b[0;34m\u001b[0m\u001b[0;34m\u001b[0m\u001b[0m\n\u001b[1;32m    750\u001b[0m                 \u001b[0;32mtry\u001b[0m\u001b[0;34m:\u001b[0m\u001b[0;34m\u001b[0m\u001b[0;34m\u001b[0m\u001b[0m\n\u001b[0;32m--> 751\u001b[0;31m                     \u001b[0;32mfor\u001b[0m \u001b[0mchunk\u001b[0m \u001b[0;32min\u001b[0m \u001b[0mself\u001b[0m\u001b[0;34m.\u001b[0m\u001b[0mraw\u001b[0m\u001b[0;34m.\u001b[0m\u001b[0mstream\u001b[0m\u001b[0;34m(\u001b[0m\u001b[0mchunk_size\u001b[0m\u001b[0;34m,\u001b[0m \u001b[0mdecode_content\u001b[0m\u001b[0;34m=\u001b[0m\u001b[0;32mTrue\u001b[0m\u001b[0;34m)\u001b[0m\u001b[0;34m:\u001b[0m\u001b[0;34m\u001b[0m\u001b[0;34m\u001b[0m\u001b[0m\n\u001b[0m\u001b[1;32m    752\u001b[0m                         \u001b[0;32myield\u001b[0m \u001b[0mchunk\u001b[0m\u001b[0;34m\u001b[0m\u001b[0;34m\u001b[0m\u001b[0m\n\u001b[1;32m    753\u001b[0m                 \u001b[0;32mexcept\u001b[0m \u001b[0mProtocolError\u001b[0m \u001b[0;32mas\u001b[0m \u001b[0me\u001b[0m\u001b[0;34m:\u001b[0m\u001b[0;34m\u001b[0m\u001b[0;34m\u001b[0m\u001b[0m\n",
            "\u001b[0;32m/usr/local/lib/python3.6/dist-packages/urllib3/response.py\u001b[0m in \u001b[0;36mstream\u001b[0;34m(self, amt, decode_content)\u001b[0m\n\u001b[1;32m    490\u001b[0m         \"\"\"\n\u001b[1;32m    491\u001b[0m         \u001b[0;32mif\u001b[0m \u001b[0mself\u001b[0m\u001b[0;34m.\u001b[0m\u001b[0mchunked\u001b[0m \u001b[0;32mand\u001b[0m \u001b[0mself\u001b[0m\u001b[0;34m.\u001b[0m\u001b[0msupports_chunked_reads\u001b[0m\u001b[0;34m(\u001b[0m\u001b[0;34m)\u001b[0m\u001b[0;34m:\u001b[0m\u001b[0;34m\u001b[0m\u001b[0;34m\u001b[0m\u001b[0m\n\u001b[0;32m--> 492\u001b[0;31m             \u001b[0;32mfor\u001b[0m \u001b[0mline\u001b[0m \u001b[0;32min\u001b[0m \u001b[0mself\u001b[0m\u001b[0;34m.\u001b[0m\u001b[0mread_chunked\u001b[0m\u001b[0;34m(\u001b[0m\u001b[0mamt\u001b[0m\u001b[0;34m,\u001b[0m \u001b[0mdecode_content\u001b[0m\u001b[0;34m=\u001b[0m\u001b[0mdecode_content\u001b[0m\u001b[0;34m)\u001b[0m\u001b[0;34m:\u001b[0m\u001b[0;34m\u001b[0m\u001b[0;34m\u001b[0m\u001b[0m\n\u001b[0m\u001b[1;32m    493\u001b[0m                 \u001b[0;32myield\u001b[0m \u001b[0mline\u001b[0m\u001b[0;34m\u001b[0m\u001b[0;34m\u001b[0m\u001b[0m\n\u001b[1;32m    494\u001b[0m         \u001b[0;32melse\u001b[0m\u001b[0;34m:\u001b[0m\u001b[0;34m\u001b[0m\u001b[0;34m\u001b[0m\u001b[0m\n",
            "\u001b[0;32m/usr/local/lib/python3.6/dist-packages/urllib3/response.py\u001b[0m in \u001b[0;36mread_chunked\u001b[0;34m(self, amt, decode_content)\u001b[0m\n\u001b[1;32m    666\u001b[0m \u001b[0;34m\u001b[0m\u001b[0m\n\u001b[1;32m    667\u001b[0m             \u001b[0;32mwhile\u001b[0m \u001b[0;32mTrue\u001b[0m\u001b[0;34m:\u001b[0m\u001b[0;34m\u001b[0m\u001b[0;34m\u001b[0m\u001b[0m\n\u001b[0;32m--> 668\u001b[0;31m                 \u001b[0mself\u001b[0m\u001b[0;34m.\u001b[0m\u001b[0m_update_chunk_length\u001b[0m\u001b[0;34m(\u001b[0m\u001b[0;34m)\u001b[0m\u001b[0;34m\u001b[0m\u001b[0;34m\u001b[0m\u001b[0m\n\u001b[0m\u001b[1;32m    669\u001b[0m                 \u001b[0;32mif\u001b[0m \u001b[0mself\u001b[0m\u001b[0;34m.\u001b[0m\u001b[0mchunk_left\u001b[0m \u001b[0;34m==\u001b[0m \u001b[0;36m0\u001b[0m\u001b[0;34m:\u001b[0m\u001b[0;34m\u001b[0m\u001b[0;34m\u001b[0m\u001b[0m\n\u001b[1;32m    670\u001b[0m                     \u001b[0;32mbreak\u001b[0m\u001b[0;34m\u001b[0m\u001b[0;34m\u001b[0m\u001b[0m\n",
            "\u001b[0;32m/usr/local/lib/python3.6/dist-packages/urllib3/response.py\u001b[0m in \u001b[0;36m_update_chunk_length\u001b[0;34m(self)\u001b[0m\n\u001b[1;32m    598\u001b[0m         \u001b[0;32mif\u001b[0m \u001b[0mself\u001b[0m\u001b[0;34m.\u001b[0m\u001b[0mchunk_left\u001b[0m \u001b[0;32mis\u001b[0m \u001b[0;32mnot\u001b[0m \u001b[0;32mNone\u001b[0m\u001b[0;34m:\u001b[0m\u001b[0;34m\u001b[0m\u001b[0;34m\u001b[0m\u001b[0m\n\u001b[1;32m    599\u001b[0m             \u001b[0;32mreturn\u001b[0m\u001b[0;34m\u001b[0m\u001b[0;34m\u001b[0m\u001b[0m\n\u001b[0;32m--> 600\u001b[0;31m         \u001b[0mline\u001b[0m \u001b[0;34m=\u001b[0m \u001b[0mself\u001b[0m\u001b[0;34m.\u001b[0m\u001b[0m_fp\u001b[0m\u001b[0;34m.\u001b[0m\u001b[0mfp\u001b[0m\u001b[0;34m.\u001b[0m\u001b[0mreadline\u001b[0m\u001b[0;34m(\u001b[0m\u001b[0;34m)\u001b[0m\u001b[0;34m\u001b[0m\u001b[0;34m\u001b[0m\u001b[0m\n\u001b[0m\u001b[1;32m    601\u001b[0m         \u001b[0mline\u001b[0m \u001b[0;34m=\u001b[0m \u001b[0mline\u001b[0m\u001b[0;34m.\u001b[0m\u001b[0msplit\u001b[0m\u001b[0;34m(\u001b[0m\u001b[0;34mb';'\u001b[0m\u001b[0;34m,\u001b[0m \u001b[0;36m1\u001b[0m\u001b[0;34m)\u001b[0m\u001b[0;34m[\u001b[0m\u001b[0;36m0\u001b[0m\u001b[0;34m]\u001b[0m\u001b[0;34m\u001b[0m\u001b[0;34m\u001b[0m\u001b[0m\n\u001b[1;32m    602\u001b[0m         \u001b[0;32mtry\u001b[0m\u001b[0;34m:\u001b[0m\u001b[0;34m\u001b[0m\u001b[0;34m\u001b[0m\u001b[0m\n",
            "\u001b[0;32m/usr/lib/python3.6/socket.py\u001b[0m in \u001b[0;36mreadinto\u001b[0;34m(self, b)\u001b[0m\n\u001b[1;32m    584\u001b[0m         \u001b[0;32mwhile\u001b[0m \u001b[0;32mTrue\u001b[0m\u001b[0;34m:\u001b[0m\u001b[0;34m\u001b[0m\u001b[0;34m\u001b[0m\u001b[0m\n\u001b[1;32m    585\u001b[0m             \u001b[0;32mtry\u001b[0m\u001b[0;34m:\u001b[0m\u001b[0;34m\u001b[0m\u001b[0;34m\u001b[0m\u001b[0m\n\u001b[0;32m--> 586\u001b[0;31m                 \u001b[0;32mreturn\u001b[0m \u001b[0mself\u001b[0m\u001b[0;34m.\u001b[0m\u001b[0m_sock\u001b[0m\u001b[0;34m.\u001b[0m\u001b[0mrecv_into\u001b[0m\u001b[0;34m(\u001b[0m\u001b[0mb\u001b[0m\u001b[0;34m)\u001b[0m\u001b[0;34m\u001b[0m\u001b[0;34m\u001b[0m\u001b[0m\n\u001b[0m\u001b[1;32m    587\u001b[0m             \u001b[0;32mexcept\u001b[0m \u001b[0mtimeout\u001b[0m\u001b[0;34m:\u001b[0m\u001b[0;34m\u001b[0m\u001b[0;34m\u001b[0m\u001b[0m\n\u001b[1;32m    588\u001b[0m                 \u001b[0mself\u001b[0m\u001b[0;34m.\u001b[0m\u001b[0m_timeout_occurred\u001b[0m \u001b[0;34m=\u001b[0m \u001b[0;32mTrue\u001b[0m\u001b[0;34m\u001b[0m\u001b[0;34m\u001b[0m\u001b[0m\n",
            "\u001b[0;32m/usr/lib/python3.6/ssl.py\u001b[0m in \u001b[0;36mrecv_into\u001b[0;34m(self, buffer, nbytes, flags)\u001b[0m\n\u001b[1;32m   1010\u001b[0m                   \u001b[0;34m\"non-zero flags not allowed in calls to recv_into() on %s\"\u001b[0m \u001b[0;34m%\u001b[0m\u001b[0;34m\u001b[0m\u001b[0;34m\u001b[0m\u001b[0m\n\u001b[1;32m   1011\u001b[0m                   self.__class__)\n\u001b[0;32m-> 1012\u001b[0;31m             \u001b[0;32mreturn\u001b[0m \u001b[0mself\u001b[0m\u001b[0;34m.\u001b[0m\u001b[0mread\u001b[0m\u001b[0;34m(\u001b[0m\u001b[0mnbytes\u001b[0m\u001b[0;34m,\u001b[0m \u001b[0mbuffer\u001b[0m\u001b[0;34m)\u001b[0m\u001b[0;34m\u001b[0m\u001b[0;34m\u001b[0m\u001b[0m\n\u001b[0m\u001b[1;32m   1013\u001b[0m         \u001b[0;32melse\u001b[0m\u001b[0;34m:\u001b[0m\u001b[0;34m\u001b[0m\u001b[0;34m\u001b[0m\u001b[0m\n\u001b[1;32m   1014\u001b[0m             \u001b[0;32mreturn\u001b[0m \u001b[0msocket\u001b[0m\u001b[0;34m.\u001b[0m\u001b[0mrecv_into\u001b[0m\u001b[0;34m(\u001b[0m\u001b[0mself\u001b[0m\u001b[0;34m,\u001b[0m \u001b[0mbuffer\u001b[0m\u001b[0;34m,\u001b[0m \u001b[0mnbytes\u001b[0m\u001b[0;34m,\u001b[0m \u001b[0mflags\u001b[0m\u001b[0;34m)\u001b[0m\u001b[0;34m\u001b[0m\u001b[0;34m\u001b[0m\u001b[0m\n",
            "\u001b[0;32m/usr/lib/python3.6/ssl.py\u001b[0m in \u001b[0;36mread\u001b[0;34m(self, len, buffer)\u001b[0m\n\u001b[1;32m    872\u001b[0m             \u001b[0;32mraise\u001b[0m \u001b[0mValueError\u001b[0m\u001b[0;34m(\u001b[0m\u001b[0;34m\"Read on closed or unwrapped SSL socket.\"\u001b[0m\u001b[0;34m)\u001b[0m\u001b[0;34m\u001b[0m\u001b[0;34m\u001b[0m\u001b[0m\n\u001b[1;32m    873\u001b[0m         \u001b[0;32mtry\u001b[0m\u001b[0;34m:\u001b[0m\u001b[0;34m\u001b[0m\u001b[0;34m\u001b[0m\u001b[0m\n\u001b[0;32m--> 874\u001b[0;31m             \u001b[0;32mreturn\u001b[0m \u001b[0mself\u001b[0m\u001b[0;34m.\u001b[0m\u001b[0m_sslobj\u001b[0m\u001b[0;34m.\u001b[0m\u001b[0mread\u001b[0m\u001b[0;34m(\u001b[0m\u001b[0mlen\u001b[0m\u001b[0;34m,\u001b[0m \u001b[0mbuffer\u001b[0m\u001b[0;34m)\u001b[0m\u001b[0;34m\u001b[0m\u001b[0;34m\u001b[0m\u001b[0m\n\u001b[0m\u001b[1;32m    875\u001b[0m         \u001b[0;32mexcept\u001b[0m \u001b[0mSSLError\u001b[0m \u001b[0;32mas\u001b[0m \u001b[0mx\u001b[0m\u001b[0;34m:\u001b[0m\u001b[0;34m\u001b[0m\u001b[0;34m\u001b[0m\u001b[0m\n\u001b[1;32m    876\u001b[0m             \u001b[0;32mif\u001b[0m \u001b[0mx\u001b[0m\u001b[0;34m.\u001b[0m\u001b[0margs\u001b[0m\u001b[0;34m[\u001b[0m\u001b[0;36m0\u001b[0m\u001b[0;34m]\u001b[0m \u001b[0;34m==\u001b[0m \u001b[0mSSL_ERROR_EOF\u001b[0m \u001b[0;32mand\u001b[0m \u001b[0mself\u001b[0m\u001b[0;34m.\u001b[0m\u001b[0msuppress_ragged_eofs\u001b[0m\u001b[0;34m:\u001b[0m\u001b[0;34m\u001b[0m\u001b[0;34m\u001b[0m\u001b[0m\n",
            "\u001b[0;32m/usr/lib/python3.6/ssl.py\u001b[0m in \u001b[0;36mread\u001b[0;34m(self, len, buffer)\u001b[0m\n\u001b[1;32m    629\u001b[0m         \"\"\"\n\u001b[1;32m    630\u001b[0m         \u001b[0;32mif\u001b[0m \u001b[0mbuffer\u001b[0m \u001b[0;32mis\u001b[0m \u001b[0;32mnot\u001b[0m \u001b[0;32mNone\u001b[0m\u001b[0;34m:\u001b[0m\u001b[0;34m\u001b[0m\u001b[0;34m\u001b[0m\u001b[0m\n\u001b[0;32m--> 631\u001b[0;31m             \u001b[0mv\u001b[0m \u001b[0;34m=\u001b[0m \u001b[0mself\u001b[0m\u001b[0;34m.\u001b[0m\u001b[0m_sslobj\u001b[0m\u001b[0;34m.\u001b[0m\u001b[0mread\u001b[0m\u001b[0;34m(\u001b[0m\u001b[0mlen\u001b[0m\u001b[0;34m,\u001b[0m \u001b[0mbuffer\u001b[0m\u001b[0;34m)\u001b[0m\u001b[0;34m\u001b[0m\u001b[0;34m\u001b[0m\u001b[0m\n\u001b[0m\u001b[1;32m    632\u001b[0m         \u001b[0;32melse\u001b[0m\u001b[0;34m:\u001b[0m\u001b[0;34m\u001b[0m\u001b[0;34m\u001b[0m\u001b[0m\n\u001b[1;32m    633\u001b[0m             \u001b[0mv\u001b[0m \u001b[0;34m=\u001b[0m \u001b[0mself\u001b[0m\u001b[0;34m.\u001b[0m\u001b[0m_sslobj\u001b[0m\u001b[0;34m.\u001b[0m\u001b[0mread\u001b[0m\u001b[0;34m(\u001b[0m\u001b[0mlen\u001b[0m\u001b[0;34m)\u001b[0m\u001b[0;34m\u001b[0m\u001b[0;34m\u001b[0m\u001b[0m\n",
            "\u001b[0;31mKeyboardInterrupt\u001b[0m: "
          ]
        }
      ]
    },
    {
      "cell_type": "code",
      "metadata": {
        "colab": {
          "base_uri": "https://localhost:8080/"
        },
        "id": "8VtUm9DXSOxU",
        "outputId": "8bacf052-8cf7-4d1c-cf05-c263c542fc23"
      },
      "source": [
        "!pip install tweepy"
      ],
      "execution_count": null,
      "outputs": [
        {
          "output_type": "stream",
          "text": [
            "Requirement already satisfied: tweepy in /usr/local/lib/python3.6/dist-packages (3.6.0)\n",
            "Requirement already satisfied: requests-oauthlib>=0.7.0 in /usr/local/lib/python3.6/dist-packages (from tweepy) (1.3.0)\n",
            "Requirement already satisfied: six>=1.10.0 in /usr/local/lib/python3.6/dist-packages (from tweepy) (1.15.0)\n",
            "Requirement already satisfied: requests>=2.11.1 in /usr/local/lib/python3.6/dist-packages (from tweepy) (2.23.0)\n",
            "Requirement already satisfied: PySocks>=1.5.7 in /usr/local/lib/python3.6/dist-packages (from tweepy) (1.7.1)\n",
            "Requirement already satisfied: oauthlib>=3.0.0 in /usr/local/lib/python3.6/dist-packages (from requests-oauthlib>=0.7.0->tweepy) (3.1.0)\n",
            "Requirement already satisfied: chardet<4,>=3.0.2 in /usr/local/lib/python3.6/dist-packages (from requests>=2.11.1->tweepy) (3.0.4)\n",
            "Requirement already satisfied: idna<3,>=2.5 in /usr/local/lib/python3.6/dist-packages (from requests>=2.11.1->tweepy) (2.10)\n",
            "Requirement already satisfied: urllib3!=1.25.0,!=1.25.1,<1.26,>=1.21.1 in /usr/local/lib/python3.6/dist-packages (from requests>=2.11.1->tweepy) (1.24.3)\n",
            "Requirement already satisfied: certifi>=2017.4.17 in /usr/local/lib/python3.6/dist-packages (from requests>=2.11.1->tweepy) (2020.12.5)\n"
          ],
          "name": "stdout"
        }
      ]
    },
    {
      "cell_type": "code",
      "metadata": {
        "colab": {
          "base_uri": "https://localhost:8080/"
        },
        "id": "x64yrTdvSR1n",
        "outputId": "2b302a56-11fb-4ecb-bc65-e6cb906c00c2"
      },
      "source": [
        "\r\n",
        "import tweepy\r\n",
        "from tweepy import OAuthHandler\r\n",
        " \r\n",
        "# Your Twittter App Credentials\r\n",
        "consumer_key = 'ce25aZWRWRcSNoJHcR8rdE2eK'\r\n",
        "consumer_secret = 'qPiRwYAi5ukskF9EcSZNq6ljjUbMnwJoilsxfGewS26LqyhseC'\r\n",
        "access_token = '1345777647112994821-DpnwVuxi57z0KcOPR1jRrSdjM9Dqt3'\r\n",
        "access_token_secret = 'eXSJsXzqTncrJGVB4JqjPs3fzCaV6XnTSZGghaWNNSyC6'\r\n",
        " \r\n",
        "# Calling API\r\n",
        "auth = tweepy.OAuthHandler(consumer_key, consumer_secret)\r\n",
        "auth.set_access_token(access_token, access_token_secret)\r\n",
        "api = tweepy.API(auth)\r\n",
        " \r\n",
        "# Provide the keyword you want to pull the data e.g. \"Python\".\r\n",
        "keyword = \"domestic violence\"\r\n",
        " \r\n",
        "# Fetching tweets\r\n",
        "tweets = api.search(keyword, count=10, lang='en', exclude='retweets')\r\n",
        "li=[]\r\n",
        "for item in tweets:\r\n",
        "  print(item)"
      ],
      "execution_count": null,
      "outputs": [
        {
          "output_type": "stream",
          "text": [
            "Status(_api=<tweepy.api.API object at 0x7f2891c1e588>, _json={'created_at': 'Mon Jan 04 15:02:10 +0000 2021', 'id': 1346109675897577474, 'id_str': '1346109675897577474', 'text': '@CountDankulaTV They say they do this because they care.\\nThey also ignore things like the increase in domestic viol… https://t.co/khHE7zlqZx', 'truncated': True, 'entities': {'hashtags': [], 'symbols': [], 'user_mentions': [{'screen_name': 'CountDankulaTV', 'name': 'Count Brexula🏴\\U000e0067\\U000e0062\\U000e0073\\U000e0063\\U000e0074\\U000e007f🏳️\\u200d🌈', 'id': 730121169194655748, 'id_str': '730121169194655748', 'indices': [0, 15]}], 'urls': [{'url': 'https://t.co/khHE7zlqZx', 'expanded_url': 'https://twitter.com/i/web/status/1346109675897577474', 'display_url': 'twitter.com/i/web/status/1…', 'indices': [117, 140]}]}, 'metadata': {'iso_language_code': 'en', 'result_type': 'recent'}, 'source': '<a href=\"http://twitter.com/download/android\" rel=\"nofollow\">Twitter for Android</a>', 'in_reply_to_status_id': 1346096478381617152, 'in_reply_to_status_id_str': '1346096478381617152', 'in_reply_to_user_id': 730121169194655748, 'in_reply_to_user_id_str': '730121169194655748', 'in_reply_to_screen_name': 'CountDankulaTV', 'user': {'id': 1301529646664736768, 'id_str': '1301529646664736768', 'name': 'Voice Of Prospero', 'screen_name': 'VoiceOfProspero', 'location': 'Scotland, United Kingdom', 'description': 'If you bend the knee to those who demand it they will take your head.\\n\\nfreedom of speech is a right, not a debate.', 'url': None, 'entities': {'description': {'urls': []}}, 'protected': False, 'followers_count': 60, 'friends_count': 182, 'listed_count': 0, 'created_at': 'Thu Sep 03 14:37:28 +0000 2020', 'favourites_count': 1754, 'utc_offset': None, 'time_zone': None, 'geo_enabled': False, 'verified': False, 'statuses_count': 1977, 'lang': None, 'contributors_enabled': False, 'is_translator': False, 'is_translation_enabled': False, 'profile_background_color': 'F5F8FA', 'profile_background_image_url': None, 'profile_background_image_url_https': None, 'profile_background_tile': False, 'profile_image_url': 'http://pbs.twimg.com/profile_images/1301529987187646465/EPhXqjGm_normal.jpg', 'profile_image_url_https': 'https://pbs.twimg.com/profile_images/1301529987187646465/EPhXqjGm_normal.jpg', 'profile_banner_url': 'https://pbs.twimg.com/profile_banners/1301529646664736768/1599145152', 'profile_link_color': '1DA1F2', 'profile_sidebar_border_color': 'C0DEED', 'profile_sidebar_fill_color': 'DDEEF6', 'profile_text_color': '333333', 'profile_use_background_image': True, 'has_extended_profile': True, 'default_profile': True, 'default_profile_image': False, 'following': False, 'follow_request_sent': False, 'notifications': False, 'translator_type': 'none'}, 'geo': None, 'coordinates': None, 'place': None, 'contributors': None, 'is_quote_status': False, 'retweet_count': 0, 'favorite_count': 0, 'favorited': False, 'retweeted': False, 'lang': 'en'}, created_at=datetime.datetime(2021, 1, 4, 15, 2, 10), id=1346109675897577474, id_str='1346109675897577474', text='@CountDankulaTV They say they do this because they care.\\nThey also ignore things like the increase in domestic viol… https://t.co/khHE7zlqZx', truncated=True, entities={'hashtags': [], 'symbols': [], 'user_mentions': [{'screen_name': 'CountDankulaTV', 'name': 'Count Brexula🏴\\U000e0067\\U000e0062\\U000e0073\\U000e0063\\U000e0074\\U000e007f🏳️\\u200d🌈', 'id': 730121169194655748, 'id_str': '730121169194655748', 'indices': [0, 15]}], 'urls': [{'url': 'https://t.co/khHE7zlqZx', 'expanded_url': 'https://twitter.com/i/web/status/1346109675897577474', 'display_url': 'twitter.com/i/web/status/1…', 'indices': [117, 140]}]}, metadata={'iso_language_code': 'en', 'result_type': 'recent'}, source='Twitter for Android', source_url='http://twitter.com/download/android', in_reply_to_status_id=1346096478381617152, in_reply_to_status_id_str='1346096478381617152', in_reply_to_user_id=730121169194655748, in_reply_to_user_id_str='730121169194655748', in_reply_to_screen_name='CountDankulaTV', author=User(_api=<tweepy.api.API object at 0x7f2891c1e588>, _json={'id': 1301529646664736768, 'id_str': '1301529646664736768', 'name': 'Voice Of Prospero', 'screen_name': 'VoiceOfProspero', 'location': 'Scotland, United Kingdom', 'description': 'If you bend the knee to those who demand it they will take your head.\\n\\nfreedom of speech is a right, not a debate.', 'url': None, 'entities': {'description': {'urls': []}}, 'protected': False, 'followers_count': 60, 'friends_count': 182, 'listed_count': 0, 'created_at': 'Thu Sep 03 14:37:28 +0000 2020', 'favourites_count': 1754, 'utc_offset': None, 'time_zone': None, 'geo_enabled': False, 'verified': False, 'statuses_count': 1977, 'lang': None, 'contributors_enabled': False, 'is_translator': False, 'is_translation_enabled': False, 'profile_background_color': 'F5F8FA', 'profile_background_image_url': None, 'profile_background_image_url_https': None, 'profile_background_tile': False, 'profile_image_url': 'http://pbs.twimg.com/profile_images/1301529987187646465/EPhXqjGm_normal.jpg', 'profile_image_url_https': 'https://pbs.twimg.com/profile_images/1301529987187646465/EPhXqjGm_normal.jpg', 'profile_banner_url': 'https://pbs.twimg.com/profile_banners/1301529646664736768/1599145152', 'profile_link_color': '1DA1F2', 'profile_sidebar_border_color': 'C0DEED', 'profile_sidebar_fill_color': 'DDEEF6', 'profile_text_color': '333333', 'profile_use_background_image': True, 'has_extended_profile': True, 'default_profile': True, 'default_profile_image': False, 'following': False, 'follow_request_sent': False, 'notifications': False, 'translator_type': 'none'}, id=1301529646664736768, id_str='1301529646664736768', name='Voice Of Prospero', screen_name='VoiceOfProspero', location='Scotland, United Kingdom', description='If you bend the knee to those who demand it they will take your head.\\n\\nfreedom of speech is a right, not a debate.', url=None, entities={'description': {'urls': []}}, protected=False, followers_count=60, friends_count=182, listed_count=0, created_at=datetime.datetime(2020, 9, 3, 14, 37, 28), favourites_count=1754, utc_offset=None, time_zone=None, geo_enabled=False, verified=False, statuses_count=1977, lang=None, contributors_enabled=False, is_translator=False, is_translation_enabled=False, profile_background_color='F5F8FA', profile_background_image_url=None, profile_background_image_url_https=None, profile_background_tile=False, profile_image_url='http://pbs.twimg.com/profile_images/1301529987187646465/EPhXqjGm_normal.jpg', profile_image_url_https='https://pbs.twimg.com/profile_images/1301529987187646465/EPhXqjGm_normal.jpg', profile_banner_url='https://pbs.twimg.com/profile_banners/1301529646664736768/1599145152', profile_link_color='1DA1F2', profile_sidebar_border_color='C0DEED', profile_sidebar_fill_color='DDEEF6', profile_text_color='333333', profile_use_background_image=True, has_extended_profile=True, default_profile=True, default_profile_image=False, following=False, follow_request_sent=False, notifications=False, translator_type='none'), user=User(_api=<tweepy.api.API object at 0x7f2891c1e588>, _json={'id': 1301529646664736768, 'id_str': '1301529646664736768', 'name': 'Voice Of Prospero', 'screen_name': 'VoiceOfProspero', 'location': 'Scotland, United Kingdom', 'description': 'If you bend the knee to those who demand it they will take your head.\\n\\nfreedom of speech is a right, not a debate.', 'url': None, 'entities': {'description': {'urls': []}}, 'protected': False, 'followers_count': 60, 'friends_count': 182, 'listed_count': 0, 'created_at': 'Thu Sep 03 14:37:28 +0000 2020', 'favourites_count': 1754, 'utc_offset': None, 'time_zone': None, 'geo_enabled': False, 'verified': False, 'statuses_count': 1977, 'lang': None, 'contributors_enabled': False, 'is_translator': False, 'is_translation_enabled': False, 'profile_background_color': 'F5F8FA', 'profile_background_image_url': None, 'profile_background_image_url_https': None, 'profile_background_tile': False, 'profile_image_url': 'http://pbs.twimg.com/profile_images/1301529987187646465/EPhXqjGm_normal.jpg', 'profile_image_url_https': 'https://pbs.twimg.com/profile_images/1301529987187646465/EPhXqjGm_normal.jpg', 'profile_banner_url': 'https://pbs.twimg.com/profile_banners/1301529646664736768/1599145152', 'profile_link_color': '1DA1F2', 'profile_sidebar_border_color': 'C0DEED', 'profile_sidebar_fill_color': 'DDEEF6', 'profile_text_color': '333333', 'profile_use_background_image': True, 'has_extended_profile': True, 'default_profile': True, 'default_profile_image': False, 'following': False, 'follow_request_sent': False, 'notifications': False, 'translator_type': 'none'}, id=1301529646664736768, id_str='1301529646664736768', name='Voice Of Prospero', screen_name='VoiceOfProspero', location='Scotland, United Kingdom', description='If you bend the knee to those who demand it they will take your head.\\n\\nfreedom of speech is a right, not a debate.', url=None, entities={'description': {'urls': []}}, protected=False, followers_count=60, friends_count=182, listed_count=0, created_at=datetime.datetime(2020, 9, 3, 14, 37, 28), favourites_count=1754, utc_offset=None, time_zone=None, geo_enabled=False, verified=False, statuses_count=1977, lang=None, contributors_enabled=False, is_translator=False, is_translation_enabled=False, profile_background_color='F5F8FA', profile_background_image_url=None, profile_background_image_url_https=None, profile_background_tile=False, profile_image_url='http://pbs.twimg.com/profile_images/1301529987187646465/EPhXqjGm_normal.jpg', profile_image_url_https='https://pbs.twimg.com/profile_images/1301529987187646465/EPhXqjGm_normal.jpg', profile_banner_url='https://pbs.twimg.com/profile_banners/1301529646664736768/1599145152', profile_link_color='1DA1F2', profile_sidebar_border_color='C0DEED', profile_sidebar_fill_color='DDEEF6', profile_text_color='333333', profile_use_background_image=True, has_extended_profile=True, default_profile=True, default_profile_image=False, following=False, follow_request_sent=False, notifications=False, translator_type='none'), geo=None, coordinates=None, place=None, contributors=None, is_quote_status=False, retweet_count=0, favorite_count=0, favorited=False, retweeted=False, lang='en')\n",
            "Status(_api=<tweepy.api.API object at 0x7f2891c1e588>, _json={'created_at': 'Mon Jan 04 15:01:07 +0000 2021', 'id': 1346109410616205314, 'id_str': '1346109410616205314', 'text': 'Drunk driving, abuse and domestic violence cases among noteworthy 2020 Edmonton court stories \\n\\n#yeg \\nhttps://t.co/AUtDBp3zlC', 'truncated': False, 'entities': {'hashtags': [{'text': 'yeg', 'indices': [96, 100]}], 'symbols': [], 'user_mentions': [], 'urls': [{'url': 'https://t.co/AUtDBp3zlC', 'expanded_url': 'https://edmontonjournal.com/news/crime/drunk-driving-abuse-and-domestic-violence-cases-among-noteworthy-2020-edmonton-court-stories?utm_medium=Social&utm_source=Twitter#Echobox=1609769677', 'display_url': 'edmontonjournal.com/news/crime/dru…', 'indices': [102, 125]}]}, 'metadata': {'iso_language_code': 'en', 'result_type': 'recent'}, 'source': '<a href=\"https://www.echobox.com\" rel=\"nofollow\">Echobox</a>', 'in_reply_to_status_id': None, 'in_reply_to_status_id_str': None, 'in_reply_to_user_id': None, 'in_reply_to_user_id_str': None, 'in_reply_to_screen_name': None, 'user': {'id': 15769858, 'id_str': '15769858', 'name': 'Edmonton Journal', 'screen_name': 'edmontonjournal', 'location': 'Edmonton, Alberta, Canada', 'description': 'Headlines on all subjects from the Edmonton Journal. A list of our journalists: https://t.co/rqClvn2uCQ', 'url': 'https://t.co/61f2HYVvZU', 'entities': {'url': {'urls': [{'url': 'https://t.co/61f2HYVvZU', 'expanded_url': 'http://www.edmontonjournal.com', 'display_url': 'edmontonjournal.com', 'indices': [0, 23]}]}, 'description': {'urls': [{'url': 'https://t.co/rqClvn2uCQ', 'expanded_url': 'https://twitter.com/edmontonjournal/lists/edmonton-journal', 'display_url': 'twitter.com/edmontonjourna…', 'indices': [80, 103]}]}}, 'protected': False, 'followers_count': 179609, 'friends_count': 238, 'listed_count': 1966, 'created_at': 'Thu Aug 07 21:27:06 +0000 2008', 'favourites_count': 2374, 'utc_offset': None, 'time_zone': None, 'geo_enabled': False, 'verified': True, 'statuses_count': 211064, 'lang': None, 'contributors_enabled': False, 'is_translator': False, 'is_translation_enabled': False, 'profile_background_color': 'FFFFFF', 'profile_background_image_url': 'http://abs.twimg.com/images/themes/theme1/bg.png', 'profile_background_image_url_https': 'https://abs.twimg.com/images/themes/theme1/bg.png', 'profile_background_tile': False, 'profile_image_url': 'http://pbs.twimg.com/profile_images/1048353217568894976/ABDUk0gh_normal.jpg', 'profile_image_url_https': 'https://pbs.twimg.com/profile_images/1048353217568894976/ABDUk0gh_normal.jpg', 'profile_banner_url': 'https://pbs.twimg.com/profile_banners/15769858/1578457464', 'profile_link_color': '0084B4', 'profile_sidebar_border_color': 'ADBCDB', 'profile_sidebar_fill_color': 'E4EBF7', 'profile_text_color': '333333', 'profile_use_background_image': True, 'has_extended_profile': False, 'default_profile': False, 'default_profile_image': False, 'following': False, 'follow_request_sent': False, 'notifications': False, 'translator_type': 'none'}, 'geo': None, 'coordinates': None, 'place': None, 'contributors': None, 'is_quote_status': False, 'retweet_count': 0, 'favorite_count': 0, 'favorited': False, 'retweeted': False, 'possibly_sensitive': False, 'lang': 'en'}, created_at=datetime.datetime(2021, 1, 4, 15, 1, 7), id=1346109410616205314, id_str='1346109410616205314', text='Drunk driving, abuse and domestic violence cases among noteworthy 2020 Edmonton court stories \\n\\n#yeg \\nhttps://t.co/AUtDBp3zlC', truncated=False, entities={'hashtags': [{'text': 'yeg', 'indices': [96, 100]}], 'symbols': [], 'user_mentions': [], 'urls': [{'url': 'https://t.co/AUtDBp3zlC', 'expanded_url': 'https://edmontonjournal.com/news/crime/drunk-driving-abuse-and-domestic-violence-cases-among-noteworthy-2020-edmonton-court-stories?utm_medium=Social&utm_source=Twitter#Echobox=1609769677', 'display_url': 'edmontonjournal.com/news/crime/dru…', 'indices': [102, 125]}]}, metadata={'iso_language_code': 'en', 'result_type': 'recent'}, source='Echobox', source_url='https://www.echobox.com', in_reply_to_status_id=None, in_reply_to_status_id_str=None, in_reply_to_user_id=None, in_reply_to_user_id_str=None, in_reply_to_screen_name=None, author=User(_api=<tweepy.api.API object at 0x7f2891c1e588>, _json={'id': 15769858, 'id_str': '15769858', 'name': 'Edmonton Journal', 'screen_name': 'edmontonjournal', 'location': 'Edmonton, Alberta, Canada', 'description': 'Headlines on all subjects from the Edmonton Journal. A list of our journalists: https://t.co/rqClvn2uCQ', 'url': 'https://t.co/61f2HYVvZU', 'entities': {'url': {'urls': [{'url': 'https://t.co/61f2HYVvZU', 'expanded_url': 'http://www.edmontonjournal.com', 'display_url': 'edmontonjournal.com', 'indices': [0, 23]}]}, 'description': {'urls': [{'url': 'https://t.co/rqClvn2uCQ', 'expanded_url': 'https://twitter.com/edmontonjournal/lists/edmonton-journal', 'display_url': 'twitter.com/edmontonjourna…', 'indices': [80, 103]}]}}, 'protected': False, 'followers_count': 179609, 'friends_count': 238, 'listed_count': 1966, 'created_at': 'Thu Aug 07 21:27:06 +0000 2008', 'favourites_count': 2374, 'utc_offset': None, 'time_zone': None, 'geo_enabled': False, 'verified': True, 'statuses_count': 211064, 'lang': None, 'contributors_enabled': False, 'is_translator': False, 'is_translation_enabled': False, 'profile_background_color': 'FFFFFF', 'profile_background_image_url': 'http://abs.twimg.com/images/themes/theme1/bg.png', 'profile_background_image_url_https': 'https://abs.twimg.com/images/themes/theme1/bg.png', 'profile_background_tile': False, 'profile_image_url': 'http://pbs.twimg.com/profile_images/1048353217568894976/ABDUk0gh_normal.jpg', 'profile_image_url_https': 'https://pbs.twimg.com/profile_images/1048353217568894976/ABDUk0gh_normal.jpg', 'profile_banner_url': 'https://pbs.twimg.com/profile_banners/15769858/1578457464', 'profile_link_color': '0084B4', 'profile_sidebar_border_color': 'ADBCDB', 'profile_sidebar_fill_color': 'E4EBF7', 'profile_text_color': '333333', 'profile_use_background_image': True, 'has_extended_profile': False, 'default_profile': False, 'default_profile_image': False, 'following': False, 'follow_request_sent': False, 'notifications': False, 'translator_type': 'none'}, id=15769858, id_str='15769858', name='Edmonton Journal', screen_name='edmontonjournal', location='Edmonton, Alberta, Canada', description='Headlines on all subjects from the Edmonton Journal. A list of our journalists: https://t.co/rqClvn2uCQ', url='https://t.co/61f2HYVvZU', entities={'url': {'urls': [{'url': 'https://t.co/61f2HYVvZU', 'expanded_url': 'http://www.edmontonjournal.com', 'display_url': 'edmontonjournal.com', 'indices': [0, 23]}]}, 'description': {'urls': [{'url': 'https://t.co/rqClvn2uCQ', 'expanded_url': 'https://twitter.com/edmontonjournal/lists/edmonton-journal', 'display_url': 'twitter.com/edmontonjourna…', 'indices': [80, 103]}]}}, protected=False, followers_count=179609, friends_count=238, listed_count=1966, created_at=datetime.datetime(2008, 8, 7, 21, 27, 6), favourites_count=2374, utc_offset=None, time_zone=None, geo_enabled=False, verified=True, statuses_count=211064, lang=None, contributors_enabled=False, is_translator=False, is_translation_enabled=False, profile_background_color='FFFFFF', profile_background_image_url='http://abs.twimg.com/images/themes/theme1/bg.png', profile_background_image_url_https='https://abs.twimg.com/images/themes/theme1/bg.png', profile_background_tile=False, profile_image_url='http://pbs.twimg.com/profile_images/1048353217568894976/ABDUk0gh_normal.jpg', profile_image_url_https='https://pbs.twimg.com/profile_images/1048353217568894976/ABDUk0gh_normal.jpg', profile_banner_url='https://pbs.twimg.com/profile_banners/15769858/1578457464', profile_link_color='0084B4', profile_sidebar_border_color='ADBCDB', profile_sidebar_fill_color='E4EBF7', profile_text_color='333333', profile_use_background_image=True, has_extended_profile=False, default_profile=False, default_profile_image=False, following=False, follow_request_sent=False, notifications=False, translator_type='none'), user=User(_api=<tweepy.api.API object at 0x7f2891c1e588>, _json={'id': 15769858, 'id_str': '15769858', 'name': 'Edmonton Journal', 'screen_name': 'edmontonjournal', 'location': 'Edmonton, Alberta, Canada', 'description': 'Headlines on all subjects from the Edmonton Journal. A list of our journalists: https://t.co/rqClvn2uCQ', 'url': 'https://t.co/61f2HYVvZU', 'entities': {'url': {'urls': [{'url': 'https://t.co/61f2HYVvZU', 'expanded_url': 'http://www.edmontonjournal.com', 'display_url': 'edmontonjournal.com', 'indices': [0, 23]}]}, 'description': {'urls': [{'url': 'https://t.co/rqClvn2uCQ', 'expanded_url': 'https://twitter.com/edmontonjournal/lists/edmonton-journal', 'display_url': 'twitter.com/edmontonjourna…', 'indices': [80, 103]}]}}, 'protected': False, 'followers_count': 179609, 'friends_count': 238, 'listed_count': 1966, 'created_at': 'Thu Aug 07 21:27:06 +0000 2008', 'favourites_count': 2374, 'utc_offset': None, 'time_zone': None, 'geo_enabled': False, 'verified': True, 'statuses_count': 211064, 'lang': None, 'contributors_enabled': False, 'is_translator': False, 'is_translation_enabled': False, 'profile_background_color': 'FFFFFF', 'profile_background_image_url': 'http://abs.twimg.com/images/themes/theme1/bg.png', 'profile_background_image_url_https': 'https://abs.twimg.com/images/themes/theme1/bg.png', 'profile_background_tile': False, 'profile_image_url': 'http://pbs.twimg.com/profile_images/1048353217568894976/ABDUk0gh_normal.jpg', 'profile_image_url_https': 'https://pbs.twimg.com/profile_images/1048353217568894976/ABDUk0gh_normal.jpg', 'profile_banner_url': 'https://pbs.twimg.com/profile_banners/15769858/1578457464', 'profile_link_color': '0084B4', 'profile_sidebar_border_color': 'ADBCDB', 'profile_sidebar_fill_color': 'E4EBF7', 'profile_text_color': '333333', 'profile_use_background_image': True, 'has_extended_profile': False, 'default_profile': False, 'default_profile_image': False, 'following': False, 'follow_request_sent': False, 'notifications': False, 'translator_type': 'none'}, id=15769858, id_str='15769858', name='Edmonton Journal', screen_name='edmontonjournal', location='Edmonton, Alberta, Canada', description='Headlines on all subjects from the Edmonton Journal. A list of our journalists: https://t.co/rqClvn2uCQ', url='https://t.co/61f2HYVvZU', entities={'url': {'urls': [{'url': 'https://t.co/61f2HYVvZU', 'expanded_url': 'http://www.edmontonjournal.com', 'display_url': 'edmontonjournal.com', 'indices': [0, 23]}]}, 'description': {'urls': [{'url': 'https://t.co/rqClvn2uCQ', 'expanded_url': 'https://twitter.com/edmontonjournal/lists/edmonton-journal', 'display_url': 'twitter.com/edmontonjourna…', 'indices': [80, 103]}]}}, protected=False, followers_count=179609, friends_count=238, listed_count=1966, created_at=datetime.datetime(2008, 8, 7, 21, 27, 6), favourites_count=2374, utc_offset=None, time_zone=None, geo_enabled=False, verified=True, statuses_count=211064, lang=None, contributors_enabled=False, is_translator=False, is_translation_enabled=False, profile_background_color='FFFFFF', profile_background_image_url='http://abs.twimg.com/images/themes/theme1/bg.png', profile_background_image_url_https='https://abs.twimg.com/images/themes/theme1/bg.png', profile_background_tile=False, profile_image_url='http://pbs.twimg.com/profile_images/1048353217568894976/ABDUk0gh_normal.jpg', profile_image_url_https='https://pbs.twimg.com/profile_images/1048353217568894976/ABDUk0gh_normal.jpg', profile_banner_url='https://pbs.twimg.com/profile_banners/15769858/1578457464', profile_link_color='0084B4', profile_sidebar_border_color='ADBCDB', profile_sidebar_fill_color='E4EBF7', profile_text_color='333333', profile_use_background_image=True, has_extended_profile=False, default_profile=False, default_profile_image=False, following=False, follow_request_sent=False, notifications=False, translator_type='none'), geo=None, coordinates=None, place=None, contributors=None, is_quote_status=False, retweet_count=0, favorite_count=0, favorited=False, retweeted=False, possibly_sensitive=False, lang='en')\n",
            "Status(_api=<tweepy.api.API object at 0x7f2891c1e588>, _json={'created_at': 'Mon Jan 04 15:00:50 +0000 2021', 'id': 1346109339027841024, 'id_str': '1346109339027841024', 'text': 'profusely by a gate, i approach her to know what the problem was , and then there it was , staring me in the face,… https://t.co/WBsxdCLULz', 'truncated': True, 'entities': {'hashtags': [], 'symbols': [], 'user_mentions': [], 'urls': [{'url': 'https://t.co/WBsxdCLULz', 'expanded_url': 'https://twitter.com/i/web/status/1346109339027841024', 'display_url': 'twitter.com/i/web/status/1…', 'indices': [116, 139]}]}, 'metadata': {'iso_language_code': 'en', 'result_type': 'recent'}, 'source': '<a href=\"http://twitter.com/download/android\" rel=\"nofollow\">Twitter for Android</a>', 'in_reply_to_status_id': 1346109336129589249, 'in_reply_to_status_id_str': '1346109336129589249', 'in_reply_to_user_id': 949744866954829824, 'in_reply_to_user_id_str': '949744866954829824', 'in_reply_to_screen_name': 'vinxxehi', 'user': {'id': 949744866954829824, 'id_str': '949744866954829824', 'name': 'Ehiz🇳🇬', 'screen_name': 'vinxxehi', 'location': 'Nigeria', 'description': '- Mind Surgeon👨\\u200d⚕️\\n(Economist)\\n\\n-Sales Marine🔥\\n(vinxxehis@gmail.com)\\n\\n\\n- Professional Teacher🌟\\n\\n- Retired Goalkeeper ⚽\\n\\n- Man Utd fan🛑', 'url': None, 'entities': {'description': {'urls': []}}, 'protected': False, 'followers_count': 341, 'friends_count': 561, 'listed_count': 0, 'created_at': 'Sat Jan 06 20:49:56 +0000 2018', 'favourites_count': 7774, 'utc_offset': None, 'time_zone': None, 'geo_enabled': True, 'verified': False, 'statuses_count': 4594, 'lang': None, 'contributors_enabled': False, 'is_translator': False, 'is_translation_enabled': False, 'profile_background_color': 'F5F8FA', 'profile_background_image_url': None, 'profile_background_image_url_https': None, 'profile_background_tile': False, 'profile_image_url': 'http://pbs.twimg.com/profile_images/1313600794768400386/M1crdDA1_normal.jpg', 'profile_image_url_https': 'https://pbs.twimg.com/profile_images/1313600794768400386/M1crdDA1_normal.jpg', 'profile_banner_url': 'https://pbs.twimg.com/profile_banners/949744866954829824/1515318578', 'profile_link_color': '1DA1F2', 'profile_sidebar_border_color': 'C0DEED', 'profile_sidebar_fill_color': 'DDEEF6', 'profile_text_color': '333333', 'profile_use_background_image': True, 'has_extended_profile': True, 'default_profile': True, 'default_profile_image': False, 'following': False, 'follow_request_sent': False, 'notifications': False, 'translator_type': 'none'}, 'geo': None, 'coordinates': None, 'place': None, 'contributors': None, 'is_quote_status': False, 'retweet_count': 0, 'favorite_count': 0, 'favorited': False, 'retweeted': False, 'lang': 'en'}, created_at=datetime.datetime(2021, 1, 4, 15, 0, 50), id=1346109339027841024, id_str='1346109339027841024', text='profusely by a gate, i approach her to know what the problem was , and then there it was , staring me in the face,… https://t.co/WBsxdCLULz', truncated=True, entities={'hashtags': [], 'symbols': [], 'user_mentions': [], 'urls': [{'url': 'https://t.co/WBsxdCLULz', 'expanded_url': 'https://twitter.com/i/web/status/1346109339027841024', 'display_url': 'twitter.com/i/web/status/1…', 'indices': [116, 139]}]}, metadata={'iso_language_code': 'en', 'result_type': 'recent'}, source='Twitter for Android', source_url='http://twitter.com/download/android', in_reply_to_status_id=1346109336129589249, in_reply_to_status_id_str='1346109336129589249', in_reply_to_user_id=949744866954829824, in_reply_to_user_id_str='949744866954829824', in_reply_to_screen_name='vinxxehi', author=User(_api=<tweepy.api.API object at 0x7f2891c1e588>, _json={'id': 949744866954829824, 'id_str': '949744866954829824', 'name': 'Ehiz🇳🇬', 'screen_name': 'vinxxehi', 'location': 'Nigeria', 'description': '- Mind Surgeon👨\\u200d⚕️\\n(Economist)\\n\\n-Sales Marine🔥\\n(vinxxehis@gmail.com)\\n\\n\\n- Professional Teacher🌟\\n\\n- Retired Goalkeeper ⚽\\n\\n- Man Utd fan🛑', 'url': None, 'entities': {'description': {'urls': []}}, 'protected': False, 'followers_count': 341, 'friends_count': 561, 'listed_count': 0, 'created_at': 'Sat Jan 06 20:49:56 +0000 2018', 'favourites_count': 7774, 'utc_offset': None, 'time_zone': None, 'geo_enabled': True, 'verified': False, 'statuses_count': 4594, 'lang': None, 'contributors_enabled': False, 'is_translator': False, 'is_translation_enabled': False, 'profile_background_color': 'F5F8FA', 'profile_background_image_url': None, 'profile_background_image_url_https': None, 'profile_background_tile': False, 'profile_image_url': 'http://pbs.twimg.com/profile_images/1313600794768400386/M1crdDA1_normal.jpg', 'profile_image_url_https': 'https://pbs.twimg.com/profile_images/1313600794768400386/M1crdDA1_normal.jpg', 'profile_banner_url': 'https://pbs.twimg.com/profile_banners/949744866954829824/1515318578', 'profile_link_color': '1DA1F2', 'profile_sidebar_border_color': 'C0DEED', 'profile_sidebar_fill_color': 'DDEEF6', 'profile_text_color': '333333', 'profile_use_background_image': True, 'has_extended_profile': True, 'default_profile': True, 'default_profile_image': False, 'following': False, 'follow_request_sent': False, 'notifications': False, 'translator_type': 'none'}, id=949744866954829824, id_str='949744866954829824', name='Ehiz🇳🇬', screen_name='vinxxehi', location='Nigeria', description='- Mind Surgeon👨\\u200d⚕️\\n(Economist)\\n\\n-Sales Marine🔥\\n(vinxxehis@gmail.com)\\n\\n\\n- Professional Teacher🌟\\n\\n- Retired Goalkeeper ⚽\\n\\n- Man Utd fan🛑', url=None, entities={'description': {'urls': []}}, protected=False, followers_count=341, friends_count=561, listed_count=0, created_at=datetime.datetime(2018, 1, 6, 20, 49, 56), favourites_count=7774, utc_offset=None, time_zone=None, geo_enabled=True, verified=False, statuses_count=4594, lang=None, contributors_enabled=False, is_translator=False, is_translation_enabled=False, profile_background_color='F5F8FA', profile_background_image_url=None, profile_background_image_url_https=None, profile_background_tile=False, profile_image_url='http://pbs.twimg.com/profile_images/1313600794768400386/M1crdDA1_normal.jpg', profile_image_url_https='https://pbs.twimg.com/profile_images/1313600794768400386/M1crdDA1_normal.jpg', profile_banner_url='https://pbs.twimg.com/profile_banners/949744866954829824/1515318578', profile_link_color='1DA1F2', profile_sidebar_border_color='C0DEED', profile_sidebar_fill_color='DDEEF6', profile_text_color='333333', profile_use_background_image=True, has_extended_profile=True, default_profile=True, default_profile_image=False, following=False, follow_request_sent=False, notifications=False, translator_type='none'), user=User(_api=<tweepy.api.API object at 0x7f2891c1e588>, _json={'id': 949744866954829824, 'id_str': '949744866954829824', 'name': 'Ehiz🇳🇬', 'screen_name': 'vinxxehi', 'location': 'Nigeria', 'description': '- Mind Surgeon👨\\u200d⚕️\\n(Economist)\\n\\n-Sales Marine🔥\\n(vinxxehis@gmail.com)\\n\\n\\n- Professional Teacher🌟\\n\\n- Retired Goalkeeper ⚽\\n\\n- Man Utd fan🛑', 'url': None, 'entities': {'description': {'urls': []}}, 'protected': False, 'followers_count': 341, 'friends_count': 561, 'listed_count': 0, 'created_at': 'Sat Jan 06 20:49:56 +0000 2018', 'favourites_count': 7774, 'utc_offset': None, 'time_zone': None, 'geo_enabled': True, 'verified': False, 'statuses_count': 4594, 'lang': None, 'contributors_enabled': False, 'is_translator': False, 'is_translation_enabled': False, 'profile_background_color': 'F5F8FA', 'profile_background_image_url': None, 'profile_background_image_url_https': None, 'profile_background_tile': False, 'profile_image_url': 'http://pbs.twimg.com/profile_images/1313600794768400386/M1crdDA1_normal.jpg', 'profile_image_url_https': 'https://pbs.twimg.com/profile_images/1313600794768400386/M1crdDA1_normal.jpg', 'profile_banner_url': 'https://pbs.twimg.com/profile_banners/949744866954829824/1515318578', 'profile_link_color': '1DA1F2', 'profile_sidebar_border_color': 'C0DEED', 'profile_sidebar_fill_color': 'DDEEF6', 'profile_text_color': '333333', 'profile_use_background_image': True, 'has_extended_profile': True, 'default_profile': True, 'default_profile_image': False, 'following': False, 'follow_request_sent': False, 'notifications': False, 'translator_type': 'none'}, id=949744866954829824, id_str='949744866954829824', name='Ehiz🇳🇬', screen_name='vinxxehi', location='Nigeria', description='- Mind Surgeon👨\\u200d⚕️\\n(Economist)\\n\\n-Sales Marine🔥\\n(vinxxehis@gmail.com)\\n\\n\\n- Professional Teacher🌟\\n\\n- Retired Goalkeeper ⚽\\n\\n- Man Utd fan🛑', url=None, entities={'description': {'urls': []}}, protected=False, followers_count=341, friends_count=561, listed_count=0, created_at=datetime.datetime(2018, 1, 6, 20, 49, 56), favourites_count=7774, utc_offset=None, time_zone=None, geo_enabled=True, verified=False, statuses_count=4594, lang=None, contributors_enabled=False, is_translator=False, is_translation_enabled=False, profile_background_color='F5F8FA', profile_background_image_url=None, profile_background_image_url_https=None, profile_background_tile=False, profile_image_url='http://pbs.twimg.com/profile_images/1313600794768400386/M1crdDA1_normal.jpg', profile_image_url_https='https://pbs.twimg.com/profile_images/1313600794768400386/M1crdDA1_normal.jpg', profile_banner_url='https://pbs.twimg.com/profile_banners/949744866954829824/1515318578', profile_link_color='1DA1F2', profile_sidebar_border_color='C0DEED', profile_sidebar_fill_color='DDEEF6', profile_text_color='333333', profile_use_background_image=True, has_extended_profile=True, default_profile=True, default_profile_image=False, following=False, follow_request_sent=False, notifications=False, translator_type='none'), geo=None, coordinates=None, place=None, contributors=None, is_quote_status=False, retweet_count=0, favorite_count=0, favorited=False, retweeted=False, lang='en')\n",
            "Status(_api=<tweepy.api.API object at 0x7f2891c1e588>, _json={'created_at': 'Mon Jan 04 15:00:49 +0000 2021', 'id': 1346109336129589249, 'id_str': '1346109336129589249', 'text': 'See enh, i am so pissed right now😡😡\\nUna see this domestic Violence something enh, women enable it!!!\\n\\nSometime in o… https://t.co/hj8b6EfX6b', 'truncated': True, 'entities': {'hashtags': [], 'symbols': [], 'user_mentions': [], 'urls': [{'url': 'https://t.co/hj8b6EfX6b', 'expanded_url': 'https://twitter.com/i/web/status/1346109336129589249', 'display_url': 'twitter.com/i/web/status/1…', 'indices': [117, 140]}]}, 'metadata': {'iso_language_code': 'en', 'result_type': 'recent'}, 'source': '<a href=\"http://twitter.com/download/android\" rel=\"nofollow\">Twitter for Android</a>', 'in_reply_to_status_id': None, 'in_reply_to_status_id_str': None, 'in_reply_to_user_id': None, 'in_reply_to_user_id_str': None, 'in_reply_to_screen_name': None, 'user': {'id': 949744866954829824, 'id_str': '949744866954829824', 'name': 'Ehiz🇳🇬', 'screen_name': 'vinxxehi', 'location': 'Nigeria', 'description': '- Mind Surgeon👨\\u200d⚕️\\n(Economist)\\n\\n-Sales Marine🔥\\n(vinxxehis@gmail.com)\\n\\n\\n- Professional Teacher🌟\\n\\n- Retired Goalkeeper ⚽\\n\\n- Man Utd fan🛑', 'url': None, 'entities': {'description': {'urls': []}}, 'protected': False, 'followers_count': 341, 'friends_count': 561, 'listed_count': 0, 'created_at': 'Sat Jan 06 20:49:56 +0000 2018', 'favourites_count': 7774, 'utc_offset': None, 'time_zone': None, 'geo_enabled': True, 'verified': False, 'statuses_count': 4594, 'lang': None, 'contributors_enabled': False, 'is_translator': False, 'is_translation_enabled': False, 'profile_background_color': 'F5F8FA', 'profile_background_image_url': None, 'profile_background_image_url_https': None, 'profile_background_tile': False, 'profile_image_url': 'http://pbs.twimg.com/profile_images/1313600794768400386/M1crdDA1_normal.jpg', 'profile_image_url_https': 'https://pbs.twimg.com/profile_images/1313600794768400386/M1crdDA1_normal.jpg', 'profile_banner_url': 'https://pbs.twimg.com/profile_banners/949744866954829824/1515318578', 'profile_link_color': '1DA1F2', 'profile_sidebar_border_color': 'C0DEED', 'profile_sidebar_fill_color': 'DDEEF6', 'profile_text_color': '333333', 'profile_use_background_image': True, 'has_extended_profile': True, 'default_profile': True, 'default_profile_image': False, 'following': False, 'follow_request_sent': False, 'notifications': False, 'translator_type': 'none'}, 'geo': None, 'coordinates': None, 'place': None, 'contributors': None, 'is_quote_status': False, 'retweet_count': 0, 'favorite_count': 0, 'favorited': False, 'retweeted': False, 'lang': 'en'}, created_at=datetime.datetime(2021, 1, 4, 15, 0, 49), id=1346109336129589249, id_str='1346109336129589249', text='See enh, i am so pissed right now😡😡\\nUna see this domestic Violence something enh, women enable it!!!\\n\\nSometime in o… https://t.co/hj8b6EfX6b', truncated=True, entities={'hashtags': [], 'symbols': [], 'user_mentions': [], 'urls': [{'url': 'https://t.co/hj8b6EfX6b', 'expanded_url': 'https://twitter.com/i/web/status/1346109336129589249', 'display_url': 'twitter.com/i/web/status/1…', 'indices': [117, 140]}]}, metadata={'iso_language_code': 'en', 'result_type': 'recent'}, source='Twitter for Android', source_url='http://twitter.com/download/android', in_reply_to_status_id=None, in_reply_to_status_id_str=None, in_reply_to_user_id=None, in_reply_to_user_id_str=None, in_reply_to_screen_name=None, author=User(_api=<tweepy.api.API object at 0x7f2891c1e588>, _json={'id': 949744866954829824, 'id_str': '949744866954829824', 'name': 'Ehiz🇳🇬', 'screen_name': 'vinxxehi', 'location': 'Nigeria', 'description': '- Mind Surgeon👨\\u200d⚕️\\n(Economist)\\n\\n-Sales Marine🔥\\n(vinxxehis@gmail.com)\\n\\n\\n- Professional Teacher🌟\\n\\n- Retired Goalkeeper ⚽\\n\\n- Man Utd fan🛑', 'url': None, 'entities': {'description': {'urls': []}}, 'protected': False, 'followers_count': 341, 'friends_count': 561, 'listed_count': 0, 'created_at': 'Sat Jan 06 20:49:56 +0000 2018', 'favourites_count': 7774, 'utc_offset': None, 'time_zone': None, 'geo_enabled': True, 'verified': False, 'statuses_count': 4594, 'lang': None, 'contributors_enabled': False, 'is_translator': False, 'is_translation_enabled': False, 'profile_background_color': 'F5F8FA', 'profile_background_image_url': None, 'profile_background_image_url_https': None, 'profile_background_tile': False, 'profile_image_url': 'http://pbs.twimg.com/profile_images/1313600794768400386/M1crdDA1_normal.jpg', 'profile_image_url_https': 'https://pbs.twimg.com/profile_images/1313600794768400386/M1crdDA1_normal.jpg', 'profile_banner_url': 'https://pbs.twimg.com/profile_banners/949744866954829824/1515318578', 'profile_link_color': '1DA1F2', 'profile_sidebar_border_color': 'C0DEED', 'profile_sidebar_fill_color': 'DDEEF6', 'profile_text_color': '333333', 'profile_use_background_image': True, 'has_extended_profile': True, 'default_profile': True, 'default_profile_image': False, 'following': False, 'follow_request_sent': False, 'notifications': False, 'translator_type': 'none'}, id=949744866954829824, id_str='949744866954829824', name='Ehiz🇳🇬', screen_name='vinxxehi', location='Nigeria', description='- Mind Surgeon👨\\u200d⚕️\\n(Economist)\\n\\n-Sales Marine🔥\\n(vinxxehis@gmail.com)\\n\\n\\n- Professional Teacher🌟\\n\\n- Retired Goalkeeper ⚽\\n\\n- Man Utd fan🛑', url=None, entities={'description': {'urls': []}}, protected=False, followers_count=341, friends_count=561, listed_count=0, created_at=datetime.datetime(2018, 1, 6, 20, 49, 56), favourites_count=7774, utc_offset=None, time_zone=None, geo_enabled=True, verified=False, statuses_count=4594, lang=None, contributors_enabled=False, is_translator=False, is_translation_enabled=False, profile_background_color='F5F8FA', profile_background_image_url=None, profile_background_image_url_https=None, profile_background_tile=False, profile_image_url='http://pbs.twimg.com/profile_images/1313600794768400386/M1crdDA1_normal.jpg', profile_image_url_https='https://pbs.twimg.com/profile_images/1313600794768400386/M1crdDA1_normal.jpg', profile_banner_url='https://pbs.twimg.com/profile_banners/949744866954829824/1515318578', profile_link_color='1DA1F2', profile_sidebar_border_color='C0DEED', profile_sidebar_fill_color='DDEEF6', profile_text_color='333333', profile_use_background_image=True, has_extended_profile=True, default_profile=True, default_profile_image=False, following=False, follow_request_sent=False, notifications=False, translator_type='none'), user=User(_api=<tweepy.api.API object at 0x7f2891c1e588>, _json={'id': 949744866954829824, 'id_str': '949744866954829824', 'name': 'Ehiz🇳🇬', 'screen_name': 'vinxxehi', 'location': 'Nigeria', 'description': '- Mind Surgeon👨\\u200d⚕️\\n(Economist)\\n\\n-Sales Marine🔥\\n(vinxxehis@gmail.com)\\n\\n\\n- Professional Teacher🌟\\n\\n- Retired Goalkeeper ⚽\\n\\n- Man Utd fan🛑', 'url': None, 'entities': {'description': {'urls': []}}, 'protected': False, 'followers_count': 341, 'friends_count': 561, 'listed_count': 0, 'created_at': 'Sat Jan 06 20:49:56 +0000 2018', 'favourites_count': 7774, 'utc_offset': None, 'time_zone': None, 'geo_enabled': True, 'verified': False, 'statuses_count': 4594, 'lang': None, 'contributors_enabled': False, 'is_translator': False, 'is_translation_enabled': False, 'profile_background_color': 'F5F8FA', 'profile_background_image_url': None, 'profile_background_image_url_https': None, 'profile_background_tile': False, 'profile_image_url': 'http://pbs.twimg.com/profile_images/1313600794768400386/M1crdDA1_normal.jpg', 'profile_image_url_https': 'https://pbs.twimg.com/profile_images/1313600794768400386/M1crdDA1_normal.jpg', 'profile_banner_url': 'https://pbs.twimg.com/profile_banners/949744866954829824/1515318578', 'profile_link_color': '1DA1F2', 'profile_sidebar_border_color': 'C0DEED', 'profile_sidebar_fill_color': 'DDEEF6', 'profile_text_color': '333333', 'profile_use_background_image': True, 'has_extended_profile': True, 'default_profile': True, 'default_profile_image': False, 'following': False, 'follow_request_sent': False, 'notifications': False, 'translator_type': 'none'}, id=949744866954829824, id_str='949744866954829824', name='Ehiz🇳🇬', screen_name='vinxxehi', location='Nigeria', description='- Mind Surgeon👨\\u200d⚕️\\n(Economist)\\n\\n-Sales Marine🔥\\n(vinxxehis@gmail.com)\\n\\n\\n- Professional Teacher🌟\\n\\n- Retired Goalkeeper ⚽\\n\\n- Man Utd fan🛑', url=None, entities={'description': {'urls': []}}, protected=False, followers_count=341, friends_count=561, listed_count=0, created_at=datetime.datetime(2018, 1, 6, 20, 49, 56), favourites_count=7774, utc_offset=None, time_zone=None, geo_enabled=True, verified=False, statuses_count=4594, lang=None, contributors_enabled=False, is_translator=False, is_translation_enabled=False, profile_background_color='F5F8FA', profile_background_image_url=None, profile_background_image_url_https=None, profile_background_tile=False, profile_image_url='http://pbs.twimg.com/profile_images/1313600794768400386/M1crdDA1_normal.jpg', profile_image_url_https='https://pbs.twimg.com/profile_images/1313600794768400386/M1crdDA1_normal.jpg', profile_banner_url='https://pbs.twimg.com/profile_banners/949744866954829824/1515318578', profile_link_color='1DA1F2', profile_sidebar_border_color='C0DEED', profile_sidebar_fill_color='DDEEF6', profile_text_color='333333', profile_use_background_image=True, has_extended_profile=True, default_profile=True, default_profile_image=False, following=False, follow_request_sent=False, notifications=False, translator_type='none'), geo=None, coordinates=None, place=None, contributors=None, is_quote_status=False, retweet_count=0, favorite_count=0, favorited=False, retweeted=False, lang='en')\n",
            "Status(_api=<tweepy.api.API object at 0x7f2891c1e588>, _json={'created_at': 'Mon Jan 04 15:00:18 +0000 2021', 'id': 1346109204784963586, 'id_str': '1346109204784963586', 'text': 'New regulations on workplace violence and harassment took effect on Jan 1 for Canada’s federally regulated workplac… https://t.co/NzDW73R3Hq', 'truncated': True, 'entities': {'hashtags': [], 'symbols': [], 'user_mentions': [], 'urls': [{'url': 'https://t.co/NzDW73R3Hq', 'expanded_url': 'https://twitter.com/i/web/status/1346109204784963586', 'display_url': 'twitter.com/i/web/status/1…', 'indices': [117, 140]}]}, 'metadata': {'iso_language_code': 'en', 'result_type': 'recent'}, 'source': '<a href=\"https://sproutsocial.com\" rel=\"nofollow\">Sprout Social</a>', 'in_reply_to_status_id': None, 'in_reply_to_status_id_str': None, 'in_reply_to_user_id': None, 'in_reply_to_user_id_str': None, 'in_reply_to_screen_name': None, 'user': {'id': 2203127406, 'id_str': '2203127406', 'name': 'Make It Our Business', 'screen_name': 'MakeItOurBiz', 'location': 'Canada', 'description': 'We provide info & education to help employers & other workplace stakeholders meet their domestic violence obligations under OHSA.', 'url': 'https://t.co/udweiaSL8m', 'entities': {'url': {'urls': [{'url': 'https://t.co/udweiaSL8m', 'expanded_url': 'http://makeitourbusiness.com/', 'display_url': 'makeitourbusiness.com', 'indices': [0, 23]}]}, 'description': {'urls': []}}, 'protected': False, 'followers_count': 1431, 'friends_count': 594, 'listed_count': 53, 'created_at': 'Tue Nov 19 13:41:50 +0000 2013', 'favourites_count': 1711, 'utc_offset': None, 'time_zone': None, 'geo_enabled': False, 'verified': False, 'statuses_count': 9831, 'lang': None, 'contributors_enabled': False, 'is_translator': False, 'is_translation_enabled': False, 'profile_background_color': '9AE4E8', 'profile_background_image_url': 'http://abs.twimg.com/images/themes/theme16/bg.gif', 'profile_background_image_url_https': 'https://abs.twimg.com/images/themes/theme16/bg.gif', 'profile_background_tile': False, 'profile_image_url': 'http://pbs.twimg.com/profile_images/543058862194966528/Pvv1b5uV_normal.jpeg', 'profile_image_url_https': 'https://pbs.twimg.com/profile_images/543058862194966528/Pvv1b5uV_normal.jpeg', 'profile_banner_url': 'https://pbs.twimg.com/profile_banners/2203127406/1585526877', 'profile_link_color': '0084B4', 'profile_sidebar_border_color': 'BDDCAD', 'profile_sidebar_fill_color': 'DDFFCC', 'profile_text_color': '333333', 'profile_use_background_image': True, 'has_extended_profile': False, 'default_profile': False, 'default_profile_image': False, 'following': False, 'follow_request_sent': False, 'notifications': False, 'translator_type': 'none'}, 'geo': None, 'coordinates': None, 'place': None, 'contributors': None, 'is_quote_status': False, 'retweet_count': 0, 'favorite_count': 0, 'favorited': False, 'retweeted': False, 'possibly_sensitive': False, 'lang': 'en'}, created_at=datetime.datetime(2021, 1, 4, 15, 0, 18), id=1346109204784963586, id_str='1346109204784963586', text='New regulations on workplace violence and harassment took effect on Jan 1 for Canada’s federally regulated workplac… https://t.co/NzDW73R3Hq', truncated=True, entities={'hashtags': [], 'symbols': [], 'user_mentions': [], 'urls': [{'url': 'https://t.co/NzDW73R3Hq', 'expanded_url': 'https://twitter.com/i/web/status/1346109204784963586', 'display_url': 'twitter.com/i/web/status/1…', 'indices': [117, 140]}]}, metadata={'iso_language_code': 'en', 'result_type': 'recent'}, source='Sprout Social', source_url='https://sproutsocial.com', in_reply_to_status_id=None, in_reply_to_status_id_str=None, in_reply_to_user_id=None, in_reply_to_user_id_str=None, in_reply_to_screen_name=None, author=User(_api=<tweepy.api.API object at 0x7f2891c1e588>, _json={'id': 2203127406, 'id_str': '2203127406', 'name': 'Make It Our Business', 'screen_name': 'MakeItOurBiz', 'location': 'Canada', 'description': 'We provide info & education to help employers & other workplace stakeholders meet their domestic violence obligations under OHSA.', 'url': 'https://t.co/udweiaSL8m', 'entities': {'url': {'urls': [{'url': 'https://t.co/udweiaSL8m', 'expanded_url': 'http://makeitourbusiness.com/', 'display_url': 'makeitourbusiness.com', 'indices': [0, 23]}]}, 'description': {'urls': []}}, 'protected': False, 'followers_count': 1431, 'friends_count': 594, 'listed_count': 53, 'created_at': 'Tue Nov 19 13:41:50 +0000 2013', 'favourites_count': 1711, 'utc_offset': None, 'time_zone': None, 'geo_enabled': False, 'verified': False, 'statuses_count': 9831, 'lang': None, 'contributors_enabled': False, 'is_translator': False, 'is_translation_enabled': False, 'profile_background_color': '9AE4E8', 'profile_background_image_url': 'http://abs.twimg.com/images/themes/theme16/bg.gif', 'profile_background_image_url_https': 'https://abs.twimg.com/images/themes/theme16/bg.gif', 'profile_background_tile': False, 'profile_image_url': 'http://pbs.twimg.com/profile_images/543058862194966528/Pvv1b5uV_normal.jpeg', 'profile_image_url_https': 'https://pbs.twimg.com/profile_images/543058862194966528/Pvv1b5uV_normal.jpeg', 'profile_banner_url': 'https://pbs.twimg.com/profile_banners/2203127406/1585526877', 'profile_link_color': '0084B4', 'profile_sidebar_border_color': 'BDDCAD', 'profile_sidebar_fill_color': 'DDFFCC', 'profile_text_color': '333333', 'profile_use_background_image': True, 'has_extended_profile': False, 'default_profile': False, 'default_profile_image': False, 'following': False, 'follow_request_sent': False, 'notifications': False, 'translator_type': 'none'}, id=2203127406, id_str='2203127406', name='Make It Our Business', screen_name='MakeItOurBiz', location='Canada', description='We provide info & education to help employers & other workplace stakeholders meet their domestic violence obligations under OHSA.', url='https://t.co/udweiaSL8m', entities={'url': {'urls': [{'url': 'https://t.co/udweiaSL8m', 'expanded_url': 'http://makeitourbusiness.com/', 'display_url': 'makeitourbusiness.com', 'indices': [0, 23]}]}, 'description': {'urls': []}}, protected=False, followers_count=1431, friends_count=594, listed_count=53, created_at=datetime.datetime(2013, 11, 19, 13, 41, 50), favourites_count=1711, utc_offset=None, time_zone=None, geo_enabled=False, verified=False, statuses_count=9831, lang=None, contributors_enabled=False, is_translator=False, is_translation_enabled=False, profile_background_color='9AE4E8', profile_background_image_url='http://abs.twimg.com/images/themes/theme16/bg.gif', profile_background_image_url_https='https://abs.twimg.com/images/themes/theme16/bg.gif', profile_background_tile=False, profile_image_url='http://pbs.twimg.com/profile_images/543058862194966528/Pvv1b5uV_normal.jpeg', profile_image_url_https='https://pbs.twimg.com/profile_images/543058862194966528/Pvv1b5uV_normal.jpeg', profile_banner_url='https://pbs.twimg.com/profile_banners/2203127406/1585526877', profile_link_color='0084B4', profile_sidebar_border_color='BDDCAD', profile_sidebar_fill_color='DDFFCC', profile_text_color='333333', profile_use_background_image=True, has_extended_profile=False, default_profile=False, default_profile_image=False, following=False, follow_request_sent=False, notifications=False, translator_type='none'), user=User(_api=<tweepy.api.API object at 0x7f2891c1e588>, _json={'id': 2203127406, 'id_str': '2203127406', 'name': 'Make It Our Business', 'screen_name': 'MakeItOurBiz', 'location': 'Canada', 'description': 'We provide info & education to help employers & other workplace stakeholders meet their domestic violence obligations under OHSA.', 'url': 'https://t.co/udweiaSL8m', 'entities': {'url': {'urls': [{'url': 'https://t.co/udweiaSL8m', 'expanded_url': 'http://makeitourbusiness.com/', 'display_url': 'makeitourbusiness.com', 'indices': [0, 23]}]}, 'description': {'urls': []}}, 'protected': False, 'followers_count': 1431, 'friends_count': 594, 'listed_count': 53, 'created_at': 'Tue Nov 19 13:41:50 +0000 2013', 'favourites_count': 1711, 'utc_offset': None, 'time_zone': None, 'geo_enabled': False, 'verified': False, 'statuses_count': 9831, 'lang': None, 'contributors_enabled': False, 'is_translator': False, 'is_translation_enabled': False, 'profile_background_color': '9AE4E8', 'profile_background_image_url': 'http://abs.twimg.com/images/themes/theme16/bg.gif', 'profile_background_image_url_https': 'https://abs.twimg.com/images/themes/theme16/bg.gif', 'profile_background_tile': False, 'profile_image_url': 'http://pbs.twimg.com/profile_images/543058862194966528/Pvv1b5uV_normal.jpeg', 'profile_image_url_https': 'https://pbs.twimg.com/profile_images/543058862194966528/Pvv1b5uV_normal.jpeg', 'profile_banner_url': 'https://pbs.twimg.com/profile_banners/2203127406/1585526877', 'profile_link_color': '0084B4', 'profile_sidebar_border_color': 'BDDCAD', 'profile_sidebar_fill_color': 'DDFFCC', 'profile_text_color': '333333', 'profile_use_background_image': True, 'has_extended_profile': False, 'default_profile': False, 'default_profile_image': False, 'following': False, 'follow_request_sent': False, 'notifications': False, 'translator_type': 'none'}, id=2203127406, id_str='2203127406', name='Make It Our Business', screen_name='MakeItOurBiz', location='Canada', description='We provide info & education to help employers & other workplace stakeholders meet their domestic violence obligations under OHSA.', url='https://t.co/udweiaSL8m', entities={'url': {'urls': [{'url': 'https://t.co/udweiaSL8m', 'expanded_url': 'http://makeitourbusiness.com/', 'display_url': 'makeitourbusiness.com', 'indices': [0, 23]}]}, 'description': {'urls': []}}, protected=False, followers_count=1431, friends_count=594, listed_count=53, created_at=datetime.datetime(2013, 11, 19, 13, 41, 50), favourites_count=1711, utc_offset=None, time_zone=None, geo_enabled=False, verified=False, statuses_count=9831, lang=None, contributors_enabled=False, is_translator=False, is_translation_enabled=False, profile_background_color='9AE4E8', profile_background_image_url='http://abs.twimg.com/images/themes/theme16/bg.gif', profile_background_image_url_https='https://abs.twimg.com/images/themes/theme16/bg.gif', profile_background_tile=False, profile_image_url='http://pbs.twimg.com/profile_images/543058862194966528/Pvv1b5uV_normal.jpeg', profile_image_url_https='https://pbs.twimg.com/profile_images/543058862194966528/Pvv1b5uV_normal.jpeg', profile_banner_url='https://pbs.twimg.com/profile_banners/2203127406/1585526877', profile_link_color='0084B4', profile_sidebar_border_color='BDDCAD', profile_sidebar_fill_color='DDFFCC', profile_text_color='333333', profile_use_background_image=True, has_extended_profile=False, default_profile=False, default_profile_image=False, following=False, follow_request_sent=False, notifications=False, translator_type='none'), geo=None, coordinates=None, place=None, contributors=None, is_quote_status=False, retweet_count=0, favorite_count=0, favorited=False, retweeted=False, possibly_sensitive=False, lang='en')\n",
            "Status(_api=<tweepy.api.API object at 0x7f2891c1e588>, _json={'created_at': 'Mon Jan 04 15:00:18 +0000 2021', 'id': 1346109204344565765, 'id_str': '1346109204344565765', 'text': 'ODVN’s Training Director Alicia Williamson provides pivotal advice on how to recognize signs of DV and what to do i… https://t.co/xC0Un6gc0L', 'truncated': True, 'entities': {'hashtags': [], 'symbols': [], 'user_mentions': [], 'urls': [{'url': 'https://t.co/xC0Un6gc0L', 'expanded_url': 'https://twitter.com/i/web/status/1346109204344565765', 'display_url': 'twitter.com/i/web/status/1…', 'indices': [117, 140]}]}, 'metadata': {'iso_language_code': 'en', 'result_type': 'recent'}, 'source': '<a href=\"https://mobile.twitter.com\" rel=\"nofollow\">Twitter Web App</a>', 'in_reply_to_status_id': None, 'in_reply_to_status_id_str': None, 'in_reply_to_user_id': None, 'in_reply_to_user_id_str': None, 'in_reply_to_screen_name': None, 'user': {'id': 166630336, 'id_str': '166630336', 'name': 'ODVN', 'screen_name': 'OhioDVN', 'location': 'Ohio', 'description': \"The Ohio Domestic Violence Network (ODVN) is the statewide coalition that works to support and strengthen Ohio's response to domestic violence.\", 'url': 'http://t.co/Rn4dO2Hl3j', 'entities': {'url': {'urls': [{'url': 'http://t.co/Rn4dO2Hl3j', 'expanded_url': 'http://www.odvn.org', 'display_url': 'odvn.org', 'indices': [0, 22]}]}, 'description': {'urls': []}}, 'protected': False, 'followers_count': 985, 'friends_count': 242, 'listed_count': 42, 'created_at': 'Wed Jul 14 16:45:20 +0000 2010', 'favourites_count': 163, 'utc_offset': None, 'time_zone': None, 'geo_enabled': False, 'verified': False, 'statuses_count': 674, 'lang': None, 'contributors_enabled': False, 'is_translator': False, 'is_translation_enabled': False, 'profile_background_color': '4B0F99', 'profile_background_image_url': 'http://abs.twimg.com/images/themes/theme17/bg.gif', 'profile_background_image_url_https': 'https://abs.twimg.com/images/themes/theme17/bg.gif', 'profile_background_tile': False, 'profile_image_url': 'http://pbs.twimg.com/profile_images/1167061580695113728/33TKHMLY_normal.jpg', 'profile_image_url_https': 'https://pbs.twimg.com/profile_images/1167061580695113728/33TKHMLY_normal.jpg', 'profile_banner_url': 'https://pbs.twimg.com/profile_banners/166630336/1567084139', 'profile_link_color': 'B057F0', 'profile_sidebar_border_color': '6019CC', 'profile_sidebar_fill_color': '15031C', 'profile_text_color': 'CC14CC', 'profile_use_background_image': True, 'has_extended_profile': False, 'default_profile': False, 'default_profile_image': False, 'following': False, 'follow_request_sent': False, 'notifications': False, 'translator_type': 'none'}, 'geo': None, 'coordinates': None, 'place': None, 'contributors': None, 'is_quote_status': False, 'retweet_count': 0, 'favorite_count': 0, 'favorited': False, 'retweeted': False, 'possibly_sensitive': False, 'lang': 'en'}, created_at=datetime.datetime(2021, 1, 4, 15, 0, 18), id=1346109204344565765, id_str='1346109204344565765', text='ODVN’s Training Director Alicia Williamson provides pivotal advice on how to recognize signs of DV and what to do i… https://t.co/xC0Un6gc0L', truncated=True, entities={'hashtags': [], 'symbols': [], 'user_mentions': [], 'urls': [{'url': 'https://t.co/xC0Un6gc0L', 'expanded_url': 'https://twitter.com/i/web/status/1346109204344565765', 'display_url': 'twitter.com/i/web/status/1…', 'indices': [117, 140]}]}, metadata={'iso_language_code': 'en', 'result_type': 'recent'}, source='Twitter Web App', source_url='https://mobile.twitter.com', in_reply_to_status_id=None, in_reply_to_status_id_str=None, in_reply_to_user_id=None, in_reply_to_user_id_str=None, in_reply_to_screen_name=None, author=User(_api=<tweepy.api.API object at 0x7f2891c1e588>, _json={'id': 166630336, 'id_str': '166630336', 'name': 'ODVN', 'screen_name': 'OhioDVN', 'location': 'Ohio', 'description': \"The Ohio Domestic Violence Network (ODVN) is the statewide coalition that works to support and strengthen Ohio's response to domestic violence.\", 'url': 'http://t.co/Rn4dO2Hl3j', 'entities': {'url': {'urls': [{'url': 'http://t.co/Rn4dO2Hl3j', 'expanded_url': 'http://www.odvn.org', 'display_url': 'odvn.org', 'indices': [0, 22]}]}, 'description': {'urls': []}}, 'protected': False, 'followers_count': 985, 'friends_count': 242, 'listed_count': 42, 'created_at': 'Wed Jul 14 16:45:20 +0000 2010', 'favourites_count': 163, 'utc_offset': None, 'time_zone': None, 'geo_enabled': False, 'verified': False, 'statuses_count': 674, 'lang': None, 'contributors_enabled': False, 'is_translator': False, 'is_translation_enabled': False, 'profile_background_color': '4B0F99', 'profile_background_image_url': 'http://abs.twimg.com/images/themes/theme17/bg.gif', 'profile_background_image_url_https': 'https://abs.twimg.com/images/themes/theme17/bg.gif', 'profile_background_tile': False, 'profile_image_url': 'http://pbs.twimg.com/profile_images/1167061580695113728/33TKHMLY_normal.jpg', 'profile_image_url_https': 'https://pbs.twimg.com/profile_images/1167061580695113728/33TKHMLY_normal.jpg', 'profile_banner_url': 'https://pbs.twimg.com/profile_banners/166630336/1567084139', 'profile_link_color': 'B057F0', 'profile_sidebar_border_color': '6019CC', 'profile_sidebar_fill_color': '15031C', 'profile_text_color': 'CC14CC', 'profile_use_background_image': True, 'has_extended_profile': False, 'default_profile': False, 'default_profile_image': False, 'following': False, 'follow_request_sent': False, 'notifications': False, 'translator_type': 'none'}, id=166630336, id_str='166630336', name='ODVN', screen_name='OhioDVN', location='Ohio', description=\"The Ohio Domestic Violence Network (ODVN) is the statewide coalition that works to support and strengthen Ohio's response to domestic violence.\", url='http://t.co/Rn4dO2Hl3j', entities={'url': {'urls': [{'url': 'http://t.co/Rn4dO2Hl3j', 'expanded_url': 'http://www.odvn.org', 'display_url': 'odvn.org', 'indices': [0, 22]}]}, 'description': {'urls': []}}, protected=False, followers_count=985, friends_count=242, listed_count=42, created_at=datetime.datetime(2010, 7, 14, 16, 45, 20), favourites_count=163, utc_offset=None, time_zone=None, geo_enabled=False, verified=False, statuses_count=674, lang=None, contributors_enabled=False, is_translator=False, is_translation_enabled=False, profile_background_color='4B0F99', profile_background_image_url='http://abs.twimg.com/images/themes/theme17/bg.gif', profile_background_image_url_https='https://abs.twimg.com/images/themes/theme17/bg.gif', profile_background_tile=False, profile_image_url='http://pbs.twimg.com/profile_images/1167061580695113728/33TKHMLY_normal.jpg', profile_image_url_https='https://pbs.twimg.com/profile_images/1167061580695113728/33TKHMLY_normal.jpg', profile_banner_url='https://pbs.twimg.com/profile_banners/166630336/1567084139', profile_link_color='B057F0', profile_sidebar_border_color='6019CC', profile_sidebar_fill_color='15031C', profile_text_color='CC14CC', profile_use_background_image=True, has_extended_profile=False, default_profile=False, default_profile_image=False, following=False, follow_request_sent=False, notifications=False, translator_type='none'), user=User(_api=<tweepy.api.API object at 0x7f2891c1e588>, _json={'id': 166630336, 'id_str': '166630336', 'name': 'ODVN', 'screen_name': 'OhioDVN', 'location': 'Ohio', 'description': \"The Ohio Domestic Violence Network (ODVN) is the statewide coalition that works to support and strengthen Ohio's response to domestic violence.\", 'url': 'http://t.co/Rn4dO2Hl3j', 'entities': {'url': {'urls': [{'url': 'http://t.co/Rn4dO2Hl3j', 'expanded_url': 'http://www.odvn.org', 'display_url': 'odvn.org', 'indices': [0, 22]}]}, 'description': {'urls': []}}, 'protected': False, 'followers_count': 985, 'friends_count': 242, 'listed_count': 42, 'created_at': 'Wed Jul 14 16:45:20 +0000 2010', 'favourites_count': 163, 'utc_offset': None, 'time_zone': None, 'geo_enabled': False, 'verified': False, 'statuses_count': 674, 'lang': None, 'contributors_enabled': False, 'is_translator': False, 'is_translation_enabled': False, 'profile_background_color': '4B0F99', 'profile_background_image_url': 'http://abs.twimg.com/images/themes/theme17/bg.gif', 'profile_background_image_url_https': 'https://abs.twimg.com/images/themes/theme17/bg.gif', 'profile_background_tile': False, 'profile_image_url': 'http://pbs.twimg.com/profile_images/1167061580695113728/33TKHMLY_normal.jpg', 'profile_image_url_https': 'https://pbs.twimg.com/profile_images/1167061580695113728/33TKHMLY_normal.jpg', 'profile_banner_url': 'https://pbs.twimg.com/profile_banners/166630336/1567084139', 'profile_link_color': 'B057F0', 'profile_sidebar_border_color': '6019CC', 'profile_sidebar_fill_color': '15031C', 'profile_text_color': 'CC14CC', 'profile_use_background_image': True, 'has_extended_profile': False, 'default_profile': False, 'default_profile_image': False, 'following': False, 'follow_request_sent': False, 'notifications': False, 'translator_type': 'none'}, id=166630336, id_str='166630336', name='ODVN', screen_name='OhioDVN', location='Ohio', description=\"The Ohio Domestic Violence Network (ODVN) is the statewide coalition that works to support and strengthen Ohio's response to domestic violence.\", url='http://t.co/Rn4dO2Hl3j', entities={'url': {'urls': [{'url': 'http://t.co/Rn4dO2Hl3j', 'expanded_url': 'http://www.odvn.org', 'display_url': 'odvn.org', 'indices': [0, 22]}]}, 'description': {'urls': []}}, protected=False, followers_count=985, friends_count=242, listed_count=42, created_at=datetime.datetime(2010, 7, 14, 16, 45, 20), favourites_count=163, utc_offset=None, time_zone=None, geo_enabled=False, verified=False, statuses_count=674, lang=None, contributors_enabled=False, is_translator=False, is_translation_enabled=False, profile_background_color='4B0F99', profile_background_image_url='http://abs.twimg.com/images/themes/theme17/bg.gif', profile_background_image_url_https='https://abs.twimg.com/images/themes/theme17/bg.gif', profile_background_tile=False, profile_image_url='http://pbs.twimg.com/profile_images/1167061580695113728/33TKHMLY_normal.jpg', profile_image_url_https='https://pbs.twimg.com/profile_images/1167061580695113728/33TKHMLY_normal.jpg', profile_banner_url='https://pbs.twimg.com/profile_banners/166630336/1567084139', profile_link_color='B057F0', profile_sidebar_border_color='6019CC', profile_sidebar_fill_color='15031C', profile_text_color='CC14CC', profile_use_background_image=True, has_extended_profile=False, default_profile=False, default_profile_image=False, following=False, follow_request_sent=False, notifications=False, translator_type='none'), geo=None, coordinates=None, place=None, contributors=None, is_quote_status=False, retweet_count=0, favorite_count=0, favorited=False, retweeted=False, possibly_sensitive=False, lang='en')\n",
            "Status(_api=<tweepy.api.API object at 0x7f2891c1e588>, _json={'created_at': 'Mon Jan 04 15:00:17 +0000 2021', 'id': 1346109201718910978, 'id_str': '1346109201718910978', 'text': 'Are you a domestic violence survivor? https://t.co/zPgmmXgPQn', 'truncated': False, 'entities': {'hashtags': [], 'symbols': [], 'user_mentions': [], 'urls': [], 'media': [{'id': 1346109197813952514, 'id_str': '1346109197813952514', 'indices': [38, 61], 'media_url': 'http://pbs.twimg.com/media/Eq5XLvSWMAIZWbB.jpg', 'media_url_https': 'https://pbs.twimg.com/media/Eq5XLvSWMAIZWbB.jpg', 'url': 'https://t.co/zPgmmXgPQn', 'display_url': 'pic.twitter.com/zPgmmXgPQn', 'expanded_url': 'https://twitter.com/ToolboxSingle/status/1346109201718910978/photo/1', 'type': 'photo', 'sizes': {'thumb': {'w': 150, 'h': 150, 'resize': 'crop'}, 'small': {'w': 680, 'h': 382, 'resize': 'fit'}, 'medium': {'w': 1200, 'h': 675, 'resize': 'fit'}, 'large': {'w': 1499, 'h': 843, 'resize': 'fit'}}}]}, 'extended_entities': {'media': [{'id': 1346109197813952514, 'id_str': '1346109197813952514', 'indices': [38, 61], 'media_url': 'http://pbs.twimg.com/media/Eq5XLvSWMAIZWbB.jpg', 'media_url_https': 'https://pbs.twimg.com/media/Eq5XLvSWMAIZWbB.jpg', 'url': 'https://t.co/zPgmmXgPQn', 'display_url': 'pic.twitter.com/zPgmmXgPQn', 'expanded_url': 'https://twitter.com/ToolboxSingle/status/1346109201718910978/photo/1', 'type': 'photo', 'sizes': {'thumb': {'w': 150, 'h': 150, 'resize': 'crop'}, 'small': {'w': 680, 'h': 382, 'resize': 'fit'}, 'medium': {'w': 1200, 'h': 675, 'resize': 'fit'}, 'large': {'w': 1499, 'h': 843, 'resize': 'fit'}}}]}, 'metadata': {'iso_language_code': 'en', 'result_type': 'recent'}, 'source': '<a href=\"https://www.canva.com\" rel=\"nofollow\">Canva</a>', 'in_reply_to_status_id': None, 'in_reply_to_status_id_str': None, 'in_reply_to_user_id': None, 'in_reply_to_user_id_str': None, 'in_reply_to_screen_name': None, 'user': {'id': 1211680706281136128, 'id_str': '1211680706281136128', 'name': 'Single Parents Toolbox', 'screen_name': 'ToolboxSingle', 'location': '', 'description': 'Single Parents Toolbox is a self-help YouTube channel. I give advice to single parents that took me years to figure out.', 'url': None, 'entities': {'description': {'urls': []}}, 'protected': False, 'followers_count': 16, 'friends_count': 95, 'listed_count': 0, 'created_at': 'Mon Dec 30 16:09:37 +0000 2019', 'favourites_count': 176, 'utc_offset': None, 'time_zone': None, 'geo_enabled': False, 'verified': False, 'statuses_count': 128, 'lang': None, 'contributors_enabled': False, 'is_translator': False, 'is_translation_enabled': False, 'profile_background_color': 'F5F8FA', 'profile_background_image_url': None, 'profile_background_image_url_https': None, 'profile_background_tile': False, 'profile_image_url': 'http://pbs.twimg.com/profile_images/1253145953189736449/QnggfZ9w_normal.jpg', 'profile_image_url_https': 'https://pbs.twimg.com/profile_images/1253145953189736449/QnggfZ9w_normal.jpg', 'profile_banner_url': 'https://pbs.twimg.com/profile_banners/1211680706281136128/1587608331', 'profile_link_color': '1DA1F2', 'profile_sidebar_border_color': 'C0DEED', 'profile_sidebar_fill_color': 'DDEEF6', 'profile_text_color': '333333', 'profile_use_background_image': True, 'has_extended_profile': True, 'default_profile': True, 'default_profile_image': False, 'following': False, 'follow_request_sent': False, 'notifications': False, 'translator_type': 'none'}, 'geo': None, 'coordinates': None, 'place': None, 'contributors': None, 'is_quote_status': False, 'retweet_count': 0, 'favorite_count': 0, 'favorited': False, 'retweeted': False, 'possibly_sensitive': False, 'lang': 'en'}, created_at=datetime.datetime(2021, 1, 4, 15, 0, 17), id=1346109201718910978, id_str='1346109201718910978', text='Are you a domestic violence survivor? https://t.co/zPgmmXgPQn', truncated=False, entities={'hashtags': [], 'symbols': [], 'user_mentions': [], 'urls': [], 'media': [{'id': 1346109197813952514, 'id_str': '1346109197813952514', 'indices': [38, 61], 'media_url': 'http://pbs.twimg.com/media/Eq5XLvSWMAIZWbB.jpg', 'media_url_https': 'https://pbs.twimg.com/media/Eq5XLvSWMAIZWbB.jpg', 'url': 'https://t.co/zPgmmXgPQn', 'display_url': 'pic.twitter.com/zPgmmXgPQn', 'expanded_url': 'https://twitter.com/ToolboxSingle/status/1346109201718910978/photo/1', 'type': 'photo', 'sizes': {'thumb': {'w': 150, 'h': 150, 'resize': 'crop'}, 'small': {'w': 680, 'h': 382, 'resize': 'fit'}, 'medium': {'w': 1200, 'h': 675, 'resize': 'fit'}, 'large': {'w': 1499, 'h': 843, 'resize': 'fit'}}}]}, extended_entities={'media': [{'id': 1346109197813952514, 'id_str': '1346109197813952514', 'indices': [38, 61], 'media_url': 'http://pbs.twimg.com/media/Eq5XLvSWMAIZWbB.jpg', 'media_url_https': 'https://pbs.twimg.com/media/Eq5XLvSWMAIZWbB.jpg', 'url': 'https://t.co/zPgmmXgPQn', 'display_url': 'pic.twitter.com/zPgmmXgPQn', 'expanded_url': 'https://twitter.com/ToolboxSingle/status/1346109201718910978/photo/1', 'type': 'photo', 'sizes': {'thumb': {'w': 150, 'h': 150, 'resize': 'crop'}, 'small': {'w': 680, 'h': 382, 'resize': 'fit'}, 'medium': {'w': 1200, 'h': 675, 'resize': 'fit'}, 'large': {'w': 1499, 'h': 843, 'resize': 'fit'}}}]}, metadata={'iso_language_code': 'en', 'result_type': 'recent'}, source='Canva', source_url='https://www.canva.com', in_reply_to_status_id=None, in_reply_to_status_id_str=None, in_reply_to_user_id=None, in_reply_to_user_id_str=None, in_reply_to_screen_name=None, author=User(_api=<tweepy.api.API object at 0x7f2891c1e588>, _json={'id': 1211680706281136128, 'id_str': '1211680706281136128', 'name': 'Single Parents Toolbox', 'screen_name': 'ToolboxSingle', 'location': '', 'description': 'Single Parents Toolbox is a self-help YouTube channel. I give advice to single parents that took me years to figure out.', 'url': None, 'entities': {'description': {'urls': []}}, 'protected': False, 'followers_count': 16, 'friends_count': 95, 'listed_count': 0, 'created_at': 'Mon Dec 30 16:09:37 +0000 2019', 'favourites_count': 176, 'utc_offset': None, 'time_zone': None, 'geo_enabled': False, 'verified': False, 'statuses_count': 128, 'lang': None, 'contributors_enabled': False, 'is_translator': False, 'is_translation_enabled': False, 'profile_background_color': 'F5F8FA', 'profile_background_image_url': None, 'profile_background_image_url_https': None, 'profile_background_tile': False, 'profile_image_url': 'http://pbs.twimg.com/profile_images/1253145953189736449/QnggfZ9w_normal.jpg', 'profile_image_url_https': 'https://pbs.twimg.com/profile_images/1253145953189736449/QnggfZ9w_normal.jpg', 'profile_banner_url': 'https://pbs.twimg.com/profile_banners/1211680706281136128/1587608331', 'profile_link_color': '1DA1F2', 'profile_sidebar_border_color': 'C0DEED', 'profile_sidebar_fill_color': 'DDEEF6', 'profile_text_color': '333333', 'profile_use_background_image': True, 'has_extended_profile': True, 'default_profile': True, 'default_profile_image': False, 'following': False, 'follow_request_sent': False, 'notifications': False, 'translator_type': 'none'}, id=1211680706281136128, id_str='1211680706281136128', name='Single Parents Toolbox', screen_name='ToolboxSingle', location='', description='Single Parents Toolbox is a self-help YouTube channel. I give advice to single parents that took me years to figure out.', url=None, entities={'description': {'urls': []}}, protected=False, followers_count=16, friends_count=95, listed_count=0, created_at=datetime.datetime(2019, 12, 30, 16, 9, 37), favourites_count=176, utc_offset=None, time_zone=None, geo_enabled=False, verified=False, statuses_count=128, lang=None, contributors_enabled=False, is_translator=False, is_translation_enabled=False, profile_background_color='F5F8FA', profile_background_image_url=None, profile_background_image_url_https=None, profile_background_tile=False, profile_image_url='http://pbs.twimg.com/profile_images/1253145953189736449/QnggfZ9w_normal.jpg', profile_image_url_https='https://pbs.twimg.com/profile_images/1253145953189736449/QnggfZ9w_normal.jpg', profile_banner_url='https://pbs.twimg.com/profile_banners/1211680706281136128/1587608331', profile_link_color='1DA1F2', profile_sidebar_border_color='C0DEED', profile_sidebar_fill_color='DDEEF6', profile_text_color='333333', profile_use_background_image=True, has_extended_profile=True, default_profile=True, default_profile_image=False, following=False, follow_request_sent=False, notifications=False, translator_type='none'), user=User(_api=<tweepy.api.API object at 0x7f2891c1e588>, _json={'id': 1211680706281136128, 'id_str': '1211680706281136128', 'name': 'Single Parents Toolbox', 'screen_name': 'ToolboxSingle', 'location': '', 'description': 'Single Parents Toolbox is a self-help YouTube channel. I give advice to single parents that took me years to figure out.', 'url': None, 'entities': {'description': {'urls': []}}, 'protected': False, 'followers_count': 16, 'friends_count': 95, 'listed_count': 0, 'created_at': 'Mon Dec 30 16:09:37 +0000 2019', 'favourites_count': 176, 'utc_offset': None, 'time_zone': None, 'geo_enabled': False, 'verified': False, 'statuses_count': 128, 'lang': None, 'contributors_enabled': False, 'is_translator': False, 'is_translation_enabled': False, 'profile_background_color': 'F5F8FA', 'profile_background_image_url': None, 'profile_background_image_url_https': None, 'profile_background_tile': False, 'profile_image_url': 'http://pbs.twimg.com/profile_images/1253145953189736449/QnggfZ9w_normal.jpg', 'profile_image_url_https': 'https://pbs.twimg.com/profile_images/1253145953189736449/QnggfZ9w_normal.jpg', 'profile_banner_url': 'https://pbs.twimg.com/profile_banners/1211680706281136128/1587608331', 'profile_link_color': '1DA1F2', 'profile_sidebar_border_color': 'C0DEED', 'profile_sidebar_fill_color': 'DDEEF6', 'profile_text_color': '333333', 'profile_use_background_image': True, 'has_extended_profile': True, 'default_profile': True, 'default_profile_image': False, 'following': False, 'follow_request_sent': False, 'notifications': False, 'translator_type': 'none'}, id=1211680706281136128, id_str='1211680706281136128', name='Single Parents Toolbox', screen_name='ToolboxSingle', location='', description='Single Parents Toolbox is a self-help YouTube channel. I give advice to single parents that took me years to figure out.', url=None, entities={'description': {'urls': []}}, protected=False, followers_count=16, friends_count=95, listed_count=0, created_at=datetime.datetime(2019, 12, 30, 16, 9, 37), favourites_count=176, utc_offset=None, time_zone=None, geo_enabled=False, verified=False, statuses_count=128, lang=None, contributors_enabled=False, is_translator=False, is_translation_enabled=False, profile_background_color='F5F8FA', profile_background_image_url=None, profile_background_image_url_https=None, profile_background_tile=False, profile_image_url='http://pbs.twimg.com/profile_images/1253145953189736449/QnggfZ9w_normal.jpg', profile_image_url_https='https://pbs.twimg.com/profile_images/1253145953189736449/QnggfZ9w_normal.jpg', profile_banner_url='https://pbs.twimg.com/profile_banners/1211680706281136128/1587608331', profile_link_color='1DA1F2', profile_sidebar_border_color='C0DEED', profile_sidebar_fill_color='DDEEF6', profile_text_color='333333', profile_use_background_image=True, has_extended_profile=True, default_profile=True, default_profile_image=False, following=False, follow_request_sent=False, notifications=False, translator_type='none'), geo=None, coordinates=None, place=None, contributors=None, is_quote_status=False, retweet_count=0, favorite_count=0, favorited=False, retweeted=False, possibly_sensitive=False, lang='en')\n",
            "Status(_api=<tweepy.api.API object at 0x7f2891c1e588>, _json={'created_at': 'Mon Jan 04 14:59:44 +0000 2021', 'id': 1346109060735635457, 'id_str': '1346109060735635457', 'text': '@Ps5Consoles I am a domestic violence, cancer survivor, and single mom struggling to find ends meet everyday in lif… https://t.co/heRbaR9OKZ', 'truncated': True, 'entities': {'hashtags': [], 'symbols': [], 'user_mentions': [{'screen_name': 'Ps5Consoles', 'name': 'PS5 - PlayStation 5 News', 'id': 1284997199911362563, 'id_str': '1284997199911362563', 'indices': [0, 12]}], 'urls': [{'url': 'https://t.co/heRbaR9OKZ', 'expanded_url': 'https://twitter.com/i/web/status/1346109060735635457', 'display_url': 'twitter.com/i/web/status/1…', 'indices': [117, 140]}]}, 'metadata': {'iso_language_code': 'en', 'result_type': 'recent'}, 'source': '<a href=\"http://twitter.com/download/android\" rel=\"nofollow\">Twitter for Android</a>', 'in_reply_to_status_id': 1345604274668101632, 'in_reply_to_status_id_str': '1345604274668101632', 'in_reply_to_user_id': 1284997199911362563, 'in_reply_to_user_id_str': '1284997199911362563', 'in_reply_to_screen_name': 'Ps5Consoles', 'user': {'id': 84199855, 'id_str': '84199855', 'name': 'Angie Arredondo', 'screen_name': 'hazelgreen18', 'location': '', 'description': '', 'url': None, 'entities': {'description': {'urls': []}}, 'protected': False, 'followers_count': 38, 'friends_count': 524, 'listed_count': 1, 'created_at': 'Thu Oct 22 00:33:57 +0000 2009', 'favourites_count': 2433, 'utc_offset': None, 'time_zone': None, 'geo_enabled': True, 'verified': False, 'statuses_count': 347, 'lang': None, 'contributors_enabled': False, 'is_translator': False, 'is_translation_enabled': False, 'profile_background_color': '642D8B', 'profile_background_image_url': 'http://abs.twimg.com/images/themes/theme10/bg.gif', 'profile_background_image_url_https': 'https://abs.twimg.com/images/themes/theme10/bg.gif', 'profile_background_tile': True, 'profile_image_url': 'http://pbs.twimg.com/profile_images/787883089166934016/Y0SgOrNw_normal.jpg', 'profile_image_url_https': 'https://pbs.twimg.com/profile_images/787883089166934016/Y0SgOrNw_normal.jpg', 'profile_banner_url': 'https://pbs.twimg.com/profile_banners/84199855/1417997135', 'profile_link_color': 'FF0000', 'profile_sidebar_border_color': '65B0DA', 'profile_sidebar_fill_color': '7AC3EE', 'profile_text_color': '3D1957', 'profile_use_background_image': True, 'has_extended_profile': False, 'default_profile': False, 'default_profile_image': False, 'following': False, 'follow_request_sent': False, 'notifications': False, 'translator_type': 'none'}, 'geo': None, 'coordinates': None, 'place': None, 'contributors': None, 'is_quote_status': False, 'retweet_count': 0, 'favorite_count': 0, 'favorited': False, 'retweeted': False, 'lang': 'en'}, created_at=datetime.datetime(2021, 1, 4, 14, 59, 44), id=1346109060735635457, id_str='1346109060735635457', text='@Ps5Consoles I am a domestic violence, cancer survivor, and single mom struggling to find ends meet everyday in lif… https://t.co/heRbaR9OKZ', truncated=True, entities={'hashtags': [], 'symbols': [], 'user_mentions': [{'screen_name': 'Ps5Consoles', 'name': 'PS5 - PlayStation 5 News', 'id': 1284997199911362563, 'id_str': '1284997199911362563', 'indices': [0, 12]}], 'urls': [{'url': 'https://t.co/heRbaR9OKZ', 'expanded_url': 'https://twitter.com/i/web/status/1346109060735635457', 'display_url': 'twitter.com/i/web/status/1…', 'indices': [117, 140]}]}, metadata={'iso_language_code': 'en', 'result_type': 'recent'}, source='Twitter for Android', source_url='http://twitter.com/download/android', in_reply_to_status_id=1345604274668101632, in_reply_to_status_id_str='1345604274668101632', in_reply_to_user_id=1284997199911362563, in_reply_to_user_id_str='1284997199911362563', in_reply_to_screen_name='Ps5Consoles', author=User(_api=<tweepy.api.API object at 0x7f2891c1e588>, _json={'id': 84199855, 'id_str': '84199855', 'name': 'Angie Arredondo', 'screen_name': 'hazelgreen18', 'location': '', 'description': '', 'url': None, 'entities': {'description': {'urls': []}}, 'protected': False, 'followers_count': 38, 'friends_count': 524, 'listed_count': 1, 'created_at': 'Thu Oct 22 00:33:57 +0000 2009', 'favourites_count': 2433, 'utc_offset': None, 'time_zone': None, 'geo_enabled': True, 'verified': False, 'statuses_count': 347, 'lang': None, 'contributors_enabled': False, 'is_translator': False, 'is_translation_enabled': False, 'profile_background_color': '642D8B', 'profile_background_image_url': 'http://abs.twimg.com/images/themes/theme10/bg.gif', 'profile_background_image_url_https': 'https://abs.twimg.com/images/themes/theme10/bg.gif', 'profile_background_tile': True, 'profile_image_url': 'http://pbs.twimg.com/profile_images/787883089166934016/Y0SgOrNw_normal.jpg', 'profile_image_url_https': 'https://pbs.twimg.com/profile_images/787883089166934016/Y0SgOrNw_normal.jpg', 'profile_banner_url': 'https://pbs.twimg.com/profile_banners/84199855/1417997135', 'profile_link_color': 'FF0000', 'profile_sidebar_border_color': '65B0DA', 'profile_sidebar_fill_color': '7AC3EE', 'profile_text_color': '3D1957', 'profile_use_background_image': True, 'has_extended_profile': False, 'default_profile': False, 'default_profile_image': False, 'following': False, 'follow_request_sent': False, 'notifications': False, 'translator_type': 'none'}, id=84199855, id_str='84199855', name='Angie Arredondo', screen_name='hazelgreen18', location='', description='', url=None, entities={'description': {'urls': []}}, protected=False, followers_count=38, friends_count=524, listed_count=1, created_at=datetime.datetime(2009, 10, 22, 0, 33, 57), favourites_count=2433, utc_offset=None, time_zone=None, geo_enabled=True, verified=False, statuses_count=347, lang=None, contributors_enabled=False, is_translator=False, is_translation_enabled=False, profile_background_color='642D8B', profile_background_image_url='http://abs.twimg.com/images/themes/theme10/bg.gif', profile_background_image_url_https='https://abs.twimg.com/images/themes/theme10/bg.gif', profile_background_tile=True, profile_image_url='http://pbs.twimg.com/profile_images/787883089166934016/Y0SgOrNw_normal.jpg', profile_image_url_https='https://pbs.twimg.com/profile_images/787883089166934016/Y0SgOrNw_normal.jpg', profile_banner_url='https://pbs.twimg.com/profile_banners/84199855/1417997135', profile_link_color='FF0000', profile_sidebar_border_color='65B0DA', profile_sidebar_fill_color='7AC3EE', profile_text_color='3D1957', profile_use_background_image=True, has_extended_profile=False, default_profile=False, default_profile_image=False, following=False, follow_request_sent=False, notifications=False, translator_type='none'), user=User(_api=<tweepy.api.API object at 0x7f2891c1e588>, _json={'id': 84199855, 'id_str': '84199855', 'name': 'Angie Arredondo', 'screen_name': 'hazelgreen18', 'location': '', 'description': '', 'url': None, 'entities': {'description': {'urls': []}}, 'protected': False, 'followers_count': 38, 'friends_count': 524, 'listed_count': 1, 'created_at': 'Thu Oct 22 00:33:57 +0000 2009', 'favourites_count': 2433, 'utc_offset': None, 'time_zone': None, 'geo_enabled': True, 'verified': False, 'statuses_count': 347, 'lang': None, 'contributors_enabled': False, 'is_translator': False, 'is_translation_enabled': False, 'profile_background_color': '642D8B', 'profile_background_image_url': 'http://abs.twimg.com/images/themes/theme10/bg.gif', 'profile_background_image_url_https': 'https://abs.twimg.com/images/themes/theme10/bg.gif', 'profile_background_tile': True, 'profile_image_url': 'http://pbs.twimg.com/profile_images/787883089166934016/Y0SgOrNw_normal.jpg', 'profile_image_url_https': 'https://pbs.twimg.com/profile_images/787883089166934016/Y0SgOrNw_normal.jpg', 'profile_banner_url': 'https://pbs.twimg.com/profile_banners/84199855/1417997135', 'profile_link_color': 'FF0000', 'profile_sidebar_border_color': '65B0DA', 'profile_sidebar_fill_color': '7AC3EE', 'profile_text_color': '3D1957', 'profile_use_background_image': True, 'has_extended_profile': False, 'default_profile': False, 'default_profile_image': False, 'following': False, 'follow_request_sent': False, 'notifications': False, 'translator_type': 'none'}, id=84199855, id_str='84199855', name='Angie Arredondo', screen_name='hazelgreen18', location='', description='', url=None, entities={'description': {'urls': []}}, protected=False, followers_count=38, friends_count=524, listed_count=1, created_at=datetime.datetime(2009, 10, 22, 0, 33, 57), favourites_count=2433, utc_offset=None, time_zone=None, geo_enabled=True, verified=False, statuses_count=347, lang=None, contributors_enabled=False, is_translator=False, is_translation_enabled=False, profile_background_color='642D8B', profile_background_image_url='http://abs.twimg.com/images/themes/theme10/bg.gif', profile_background_image_url_https='https://abs.twimg.com/images/themes/theme10/bg.gif', profile_background_tile=True, profile_image_url='http://pbs.twimg.com/profile_images/787883089166934016/Y0SgOrNw_normal.jpg', profile_image_url_https='https://pbs.twimg.com/profile_images/787883089166934016/Y0SgOrNw_normal.jpg', profile_banner_url='https://pbs.twimg.com/profile_banners/84199855/1417997135', profile_link_color='FF0000', profile_sidebar_border_color='65B0DA', profile_sidebar_fill_color='7AC3EE', profile_text_color='3D1957', profile_use_background_image=True, has_extended_profile=False, default_profile=False, default_profile_image=False, following=False, follow_request_sent=False, notifications=False, translator_type='none'), geo=None, coordinates=None, place=None, contributors=None, is_quote_status=False, retweet_count=0, favorite_count=0, favorited=False, retweeted=False, lang='en')\n",
            "Status(_api=<tweepy.api.API object at 0x7f2891c1e588>, _json={'created_at': 'Mon Jan 04 14:57:51 +0000 2021', 'id': 1346108587391606784, 'id_str': '1346108587391606784', 'text': '@thegreatcinco This is so hard for me to watch 😔. The domestic violence parts piss me off so bad I wanna jump throu… https://t.co/eBVK5j2RIL', 'truncated': True, 'entities': {'hashtags': [], 'symbols': [], 'user_mentions': [{'screen_name': 'thegreatcinco', 'name': 'CINCO', 'id': 2661953215, 'id_str': '2661953215', 'indices': [0, 14]}], 'urls': [{'url': 'https://t.co/eBVK5j2RIL', 'expanded_url': 'https://twitter.com/i/web/status/1346108587391606784', 'display_url': 'twitter.com/i/web/status/1…', 'indices': [117, 140]}]}, 'metadata': {'iso_language_code': 'en', 'result_type': 'recent'}, 'source': '<a href=\"http://twitter.com/download/android\" rel=\"nofollow\">Twitter for Android</a>', 'in_reply_to_status_id': 1346069166055325696, 'in_reply_to_status_id_str': '1346069166055325696', 'in_reply_to_user_id': 2661953215, 'in_reply_to_user_id_str': '2661953215', 'in_reply_to_screen_name': 'thegreatcinco', 'user': {'id': 1002073116, 'id_str': '1002073116', 'name': 'e.los79', 'screen_name': 'eRb79_', 'location': '', 'description': '', 'url': None, 'entities': {'description': {'urls': []}}, 'protected': False, 'followers_count': 2, 'friends_count': 75, 'listed_count': 0, 'created_at': 'Mon Dec 10 17:12:36 +0000 2012', 'favourites_count': 434, 'utc_offset': None, 'time_zone': None, 'geo_enabled': False, 'verified': False, 'statuses_count': 73, 'lang': None, 'contributors_enabled': False, 'is_translator': False, 'is_translation_enabled': False, 'profile_background_color': 'C0DEED', 'profile_background_image_url': 'http://abs.twimg.com/images/themes/theme1/bg.png', 'profile_background_image_url_https': 'https://abs.twimg.com/images/themes/theme1/bg.png', 'profile_background_tile': False, 'profile_image_url': 'http://pbs.twimg.com/profile_images/935298204777590784/voTYMHYG_normal.jpg', 'profile_image_url_https': 'https://pbs.twimg.com/profile_images/935298204777590784/voTYMHYG_normal.jpg', 'profile_link_color': '1DA1F2', 'profile_sidebar_border_color': 'C0DEED', 'profile_sidebar_fill_color': 'DDEEF6', 'profile_text_color': '333333', 'profile_use_background_image': True, 'has_extended_profile': False, 'default_profile': True, 'default_profile_image': False, 'following': False, 'follow_request_sent': False, 'notifications': False, 'translator_type': 'none'}, 'geo': None, 'coordinates': None, 'place': None, 'contributors': None, 'is_quote_status': False, 'retweet_count': 0, 'favorite_count': 0, 'favorited': False, 'retweeted': False, 'lang': 'en'}, created_at=datetime.datetime(2021, 1, 4, 14, 57, 51), id=1346108587391606784, id_str='1346108587391606784', text='@thegreatcinco This is so hard for me to watch 😔. The domestic violence parts piss me off so bad I wanna jump throu… https://t.co/eBVK5j2RIL', truncated=True, entities={'hashtags': [], 'symbols': [], 'user_mentions': [{'screen_name': 'thegreatcinco', 'name': 'CINCO', 'id': 2661953215, 'id_str': '2661953215', 'indices': [0, 14]}], 'urls': [{'url': 'https://t.co/eBVK5j2RIL', 'expanded_url': 'https://twitter.com/i/web/status/1346108587391606784', 'display_url': 'twitter.com/i/web/status/1…', 'indices': [117, 140]}]}, metadata={'iso_language_code': 'en', 'result_type': 'recent'}, source='Twitter for Android', source_url='http://twitter.com/download/android', in_reply_to_status_id=1346069166055325696, in_reply_to_status_id_str='1346069166055325696', in_reply_to_user_id=2661953215, in_reply_to_user_id_str='2661953215', in_reply_to_screen_name='thegreatcinco', author=User(_api=<tweepy.api.API object at 0x7f2891c1e588>, _json={'id': 1002073116, 'id_str': '1002073116', 'name': 'e.los79', 'screen_name': 'eRb79_', 'location': '', 'description': '', 'url': None, 'entities': {'description': {'urls': []}}, 'protected': False, 'followers_count': 2, 'friends_count': 75, 'listed_count': 0, 'created_at': 'Mon Dec 10 17:12:36 +0000 2012', 'favourites_count': 434, 'utc_offset': None, 'time_zone': None, 'geo_enabled': False, 'verified': False, 'statuses_count': 73, 'lang': None, 'contributors_enabled': False, 'is_translator': False, 'is_translation_enabled': False, 'profile_background_color': 'C0DEED', 'profile_background_image_url': 'http://abs.twimg.com/images/themes/theme1/bg.png', 'profile_background_image_url_https': 'https://abs.twimg.com/images/themes/theme1/bg.png', 'profile_background_tile': False, 'profile_image_url': 'http://pbs.twimg.com/profile_images/935298204777590784/voTYMHYG_normal.jpg', 'profile_image_url_https': 'https://pbs.twimg.com/profile_images/935298204777590784/voTYMHYG_normal.jpg', 'profile_link_color': '1DA1F2', 'profile_sidebar_border_color': 'C0DEED', 'profile_sidebar_fill_color': 'DDEEF6', 'profile_text_color': '333333', 'profile_use_background_image': True, 'has_extended_profile': False, 'default_profile': True, 'default_profile_image': False, 'following': False, 'follow_request_sent': False, 'notifications': False, 'translator_type': 'none'}, id=1002073116, id_str='1002073116', name='e.los79', screen_name='eRb79_', location='', description='', url=None, entities={'description': {'urls': []}}, protected=False, followers_count=2, friends_count=75, listed_count=0, created_at=datetime.datetime(2012, 12, 10, 17, 12, 36), favourites_count=434, utc_offset=None, time_zone=None, geo_enabled=False, verified=False, statuses_count=73, lang=None, contributors_enabled=False, is_translator=False, is_translation_enabled=False, profile_background_color='C0DEED', profile_background_image_url='http://abs.twimg.com/images/themes/theme1/bg.png', profile_background_image_url_https='https://abs.twimg.com/images/themes/theme1/bg.png', profile_background_tile=False, profile_image_url='http://pbs.twimg.com/profile_images/935298204777590784/voTYMHYG_normal.jpg', profile_image_url_https='https://pbs.twimg.com/profile_images/935298204777590784/voTYMHYG_normal.jpg', profile_link_color='1DA1F2', profile_sidebar_border_color='C0DEED', profile_sidebar_fill_color='DDEEF6', profile_text_color='333333', profile_use_background_image=True, has_extended_profile=False, default_profile=True, default_profile_image=False, following=False, follow_request_sent=False, notifications=False, translator_type='none'), user=User(_api=<tweepy.api.API object at 0x7f2891c1e588>, _json={'id': 1002073116, 'id_str': '1002073116', 'name': 'e.los79', 'screen_name': 'eRb79_', 'location': '', 'description': '', 'url': None, 'entities': {'description': {'urls': []}}, 'protected': False, 'followers_count': 2, 'friends_count': 75, 'listed_count': 0, 'created_at': 'Mon Dec 10 17:12:36 +0000 2012', 'favourites_count': 434, 'utc_offset': None, 'time_zone': None, 'geo_enabled': False, 'verified': False, 'statuses_count': 73, 'lang': None, 'contributors_enabled': False, 'is_translator': False, 'is_translation_enabled': False, 'profile_background_color': 'C0DEED', 'profile_background_image_url': 'http://abs.twimg.com/images/themes/theme1/bg.png', 'profile_background_image_url_https': 'https://abs.twimg.com/images/themes/theme1/bg.png', 'profile_background_tile': False, 'profile_image_url': 'http://pbs.twimg.com/profile_images/935298204777590784/voTYMHYG_normal.jpg', 'profile_image_url_https': 'https://pbs.twimg.com/profile_images/935298204777590784/voTYMHYG_normal.jpg', 'profile_link_color': '1DA1F2', 'profile_sidebar_border_color': 'C0DEED', 'profile_sidebar_fill_color': 'DDEEF6', 'profile_text_color': '333333', 'profile_use_background_image': True, 'has_extended_profile': False, 'default_profile': True, 'default_profile_image': False, 'following': False, 'follow_request_sent': False, 'notifications': False, 'translator_type': 'none'}, id=1002073116, id_str='1002073116', name='e.los79', screen_name='eRb79_', location='', description='', url=None, entities={'description': {'urls': []}}, protected=False, followers_count=2, friends_count=75, listed_count=0, created_at=datetime.datetime(2012, 12, 10, 17, 12, 36), favourites_count=434, utc_offset=None, time_zone=None, geo_enabled=False, verified=False, statuses_count=73, lang=None, contributors_enabled=False, is_translator=False, is_translation_enabled=False, profile_background_color='C0DEED', profile_background_image_url='http://abs.twimg.com/images/themes/theme1/bg.png', profile_background_image_url_https='https://abs.twimg.com/images/themes/theme1/bg.png', profile_background_tile=False, profile_image_url='http://pbs.twimg.com/profile_images/935298204777590784/voTYMHYG_normal.jpg', profile_image_url_https='https://pbs.twimg.com/profile_images/935298204777590784/voTYMHYG_normal.jpg', profile_link_color='1DA1F2', profile_sidebar_border_color='C0DEED', profile_sidebar_fill_color='DDEEF6', profile_text_color='333333', profile_use_background_image=True, has_extended_profile=False, default_profile=True, default_profile_image=False, following=False, follow_request_sent=False, notifications=False, translator_type='none'), geo=None, coordinates=None, place=None, contributors=None, is_quote_status=False, retweet_count=0, favorite_count=0, favorited=False, retweeted=False, lang='en')\n",
            "Status(_api=<tweepy.api.API object at 0x7f2891c1e588>, _json={'created_at': 'Mon Jan 04 14:56:50 +0000 2021', 'id': 1346108330213720065, 'id_str': '1346108330213720065', 'text': 'Home is not a safe place for everyone. The pandemic has forced domestic violence victims to isolate at home with th… https://t.co/8Nghd1z2nY', 'truncated': True, 'entities': {'hashtags': [], 'symbols': [], 'user_mentions': [], 'urls': [{'url': 'https://t.co/8Nghd1z2nY', 'expanded_url': 'https://twitter.com/i/web/status/1346108330213720065', 'display_url': 'twitter.com/i/web/status/1…', 'indices': [117, 140]}]}, 'metadata': {'iso_language_code': 'en', 'result_type': 'recent'}, 'source': '<a href=\"http://hearsaysystems.com\" rel=\"nofollow\">Hearsay Social</a>', 'in_reply_to_status_id': None, 'in_reply_to_status_id_str': None, 'in_reply_to_user_id': None, 'in_reply_to_user_id_str': None, 'in_reply_to_screen_name': None, 'user': {'id': 1683314528, 'id_str': '1683314528', 'name': 'Bill Cochran Jr', 'screen_name': 'billcochranjr', 'location': 'Conroe, TX', 'description': '\\U0001f9d9\\u200d♂️', 'url': None, 'entities': {'description': {'urls': []}}, 'protected': False, 'followers_count': 77, 'friends_count': 270, 'listed_count': 0, 'created_at': 'Mon Aug 19 13:46:08 +0000 2013', 'favourites_count': 177, 'utc_offset': None, 'time_zone': None, 'geo_enabled': False, 'verified': False, 'statuses_count': 646, 'lang': None, 'contributors_enabled': False, 'is_translator': False, 'is_translation_enabled': False, 'profile_background_color': '000000', 'profile_background_image_url': 'http://abs.twimg.com/images/themes/theme1/bg.png', 'profile_background_image_url_https': 'https://abs.twimg.com/images/themes/theme1/bg.png', 'profile_background_tile': False, 'profile_image_url': 'http://pbs.twimg.com/profile_images/378800000340679837/69eafb556743612aa11f719da11435fe_normal.jpeg', 'profile_image_url_https': 'https://pbs.twimg.com/profile_images/378800000340679837/69eafb556743612aa11f719da11435fe_normal.jpeg', 'profile_link_color': 'FF691F', 'profile_sidebar_border_color': '000000', 'profile_sidebar_fill_color': '000000', 'profile_text_color': '000000', 'profile_use_background_image': False, 'has_extended_profile': True, 'default_profile': False, 'default_profile_image': False, 'following': False, 'follow_request_sent': False, 'notifications': False, 'translator_type': 'none'}, 'geo': None, 'coordinates': None, 'place': None, 'contributors': None, 'is_quote_status': False, 'retweet_count': 0, 'favorite_count': 0, 'favorited': False, 'retweeted': False, 'possibly_sensitive': False, 'lang': 'en'}, created_at=datetime.datetime(2021, 1, 4, 14, 56, 50), id=1346108330213720065, id_str='1346108330213720065', text='Home is not a safe place for everyone. The pandemic has forced domestic violence victims to isolate at home with th… https://t.co/8Nghd1z2nY', truncated=True, entities={'hashtags': [], 'symbols': [], 'user_mentions': [], 'urls': [{'url': 'https://t.co/8Nghd1z2nY', 'expanded_url': 'https://twitter.com/i/web/status/1346108330213720065', 'display_url': 'twitter.com/i/web/status/1…', 'indices': [117, 140]}]}, metadata={'iso_language_code': 'en', 'result_type': 'recent'}, source='Hearsay Social', source_url='http://hearsaysystems.com', in_reply_to_status_id=None, in_reply_to_status_id_str=None, in_reply_to_user_id=None, in_reply_to_user_id_str=None, in_reply_to_screen_name=None, author=User(_api=<tweepy.api.API object at 0x7f2891c1e588>, _json={'id': 1683314528, 'id_str': '1683314528', 'name': 'Bill Cochran Jr', 'screen_name': 'billcochranjr', 'location': 'Conroe, TX', 'description': '\\U0001f9d9\\u200d♂️', 'url': None, 'entities': {'description': {'urls': []}}, 'protected': False, 'followers_count': 77, 'friends_count': 270, 'listed_count': 0, 'created_at': 'Mon Aug 19 13:46:08 +0000 2013', 'favourites_count': 177, 'utc_offset': None, 'time_zone': None, 'geo_enabled': False, 'verified': False, 'statuses_count': 646, 'lang': None, 'contributors_enabled': False, 'is_translator': False, 'is_translation_enabled': False, 'profile_background_color': '000000', 'profile_background_image_url': 'http://abs.twimg.com/images/themes/theme1/bg.png', 'profile_background_image_url_https': 'https://abs.twimg.com/images/themes/theme1/bg.png', 'profile_background_tile': False, 'profile_image_url': 'http://pbs.twimg.com/profile_images/378800000340679837/69eafb556743612aa11f719da11435fe_normal.jpeg', 'profile_image_url_https': 'https://pbs.twimg.com/profile_images/378800000340679837/69eafb556743612aa11f719da11435fe_normal.jpeg', 'profile_link_color': 'FF691F', 'profile_sidebar_border_color': '000000', 'profile_sidebar_fill_color': '000000', 'profile_text_color': '000000', 'profile_use_background_image': False, 'has_extended_profile': True, 'default_profile': False, 'default_profile_image': False, 'following': False, 'follow_request_sent': False, 'notifications': False, 'translator_type': 'none'}, id=1683314528, id_str='1683314528', name='Bill Cochran Jr', screen_name='billcochranjr', location='Conroe, TX', description='\\U0001f9d9\\u200d♂️', url=None, entities={'description': {'urls': []}}, protected=False, followers_count=77, friends_count=270, listed_count=0, created_at=datetime.datetime(2013, 8, 19, 13, 46, 8), favourites_count=177, utc_offset=None, time_zone=None, geo_enabled=False, verified=False, statuses_count=646, lang=None, contributors_enabled=False, is_translator=False, is_translation_enabled=False, profile_background_color='000000', profile_background_image_url='http://abs.twimg.com/images/themes/theme1/bg.png', profile_background_image_url_https='https://abs.twimg.com/images/themes/theme1/bg.png', profile_background_tile=False, profile_image_url='http://pbs.twimg.com/profile_images/378800000340679837/69eafb556743612aa11f719da11435fe_normal.jpeg', profile_image_url_https='https://pbs.twimg.com/profile_images/378800000340679837/69eafb556743612aa11f719da11435fe_normal.jpeg', profile_link_color='FF691F', profile_sidebar_border_color='000000', profile_sidebar_fill_color='000000', profile_text_color='000000', profile_use_background_image=False, has_extended_profile=True, default_profile=False, default_profile_image=False, following=False, follow_request_sent=False, notifications=False, translator_type='none'), user=User(_api=<tweepy.api.API object at 0x7f2891c1e588>, _json={'id': 1683314528, 'id_str': '1683314528', 'name': 'Bill Cochran Jr', 'screen_name': 'billcochranjr', 'location': 'Conroe, TX', 'description': '\\U0001f9d9\\u200d♂️', 'url': None, 'entities': {'description': {'urls': []}}, 'protected': False, 'followers_count': 77, 'friends_count': 270, 'listed_count': 0, 'created_at': 'Mon Aug 19 13:46:08 +0000 2013', 'favourites_count': 177, 'utc_offset': None, 'time_zone': None, 'geo_enabled': False, 'verified': False, 'statuses_count': 646, 'lang': None, 'contributors_enabled': False, 'is_translator': False, 'is_translation_enabled': False, 'profile_background_color': '000000', 'profile_background_image_url': 'http://abs.twimg.com/images/themes/theme1/bg.png', 'profile_background_image_url_https': 'https://abs.twimg.com/images/themes/theme1/bg.png', 'profile_background_tile': False, 'profile_image_url': 'http://pbs.twimg.com/profile_images/378800000340679837/69eafb556743612aa11f719da11435fe_normal.jpeg', 'profile_image_url_https': 'https://pbs.twimg.com/profile_images/378800000340679837/69eafb556743612aa11f719da11435fe_normal.jpeg', 'profile_link_color': 'FF691F', 'profile_sidebar_border_color': '000000', 'profile_sidebar_fill_color': '000000', 'profile_text_color': '000000', 'profile_use_background_image': False, 'has_extended_profile': True, 'default_profile': False, 'default_profile_image': False, 'following': False, 'follow_request_sent': False, 'notifications': False, 'translator_type': 'none'}, id=1683314528, id_str='1683314528', name='Bill Cochran Jr', screen_name='billcochranjr', location='Conroe, TX', description='\\U0001f9d9\\u200d♂️', url=None, entities={'description': {'urls': []}}, protected=False, followers_count=77, friends_count=270, listed_count=0, created_at=datetime.datetime(2013, 8, 19, 13, 46, 8), favourites_count=177, utc_offset=None, time_zone=None, geo_enabled=False, verified=False, statuses_count=646, lang=None, contributors_enabled=False, is_translator=False, is_translation_enabled=False, profile_background_color='000000', profile_background_image_url='http://abs.twimg.com/images/themes/theme1/bg.png', profile_background_image_url_https='https://abs.twimg.com/images/themes/theme1/bg.png', profile_background_tile=False, profile_image_url='http://pbs.twimg.com/profile_images/378800000340679837/69eafb556743612aa11f719da11435fe_normal.jpeg', profile_image_url_https='https://pbs.twimg.com/profile_images/378800000340679837/69eafb556743612aa11f719da11435fe_normal.jpeg', profile_link_color='FF691F', profile_sidebar_border_color='000000', profile_sidebar_fill_color='000000', profile_text_color='000000', profile_use_background_image=False, has_extended_profile=True, default_profile=False, default_profile_image=False, following=False, follow_request_sent=False, notifications=False, translator_type='none'), geo=None, coordinates=None, place=None, contributors=None, is_quote_status=False, retweet_count=0, favorite_count=0, favorited=False, retweeted=False, possibly_sensitive=False, lang='en')\n"
          ],
          "name": "stdout"
        }
      ]
    }
  ]
}