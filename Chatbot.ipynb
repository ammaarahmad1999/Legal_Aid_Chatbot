{
  "nbformat": 4,
  "nbformat_minor": 0,
  "metadata": {
    "accelerator": "TPU",
    "colab": {
      "name": "Project.ipynb",
      "provenance": [],
      "collapsed_sections": [],
      "include_colab_link": true
    },
    "kernelspec": {
      "display_name": "Python 3",
      "name": "python3"
    }
  },
  "cells": [
    {
      "cell_type": "markdown",
      "metadata": {
        "id": "view-in-github",
        "colab_type": "text"
      },
      "source": [
        "<a href=\"https://colab.research.google.com/github/ammaarahmad1999/Legal_Aid_Chatbot/blob/main/Chatbot.ipynb\" target=\"_parent\"><img src=\"https://colab.research.google.com/assets/colab-badge.svg\" alt=\"Open In Colab\"/></a>"
      ]
    },
    {
      "cell_type": "code",
      "metadata": {
        "colab": {
          "base_uri": "https://localhost:8080/"
        },
        "id": "KG4IFALFZ_-e",
        "outputId": "443ad86a-3cdd-4c55-9774-c10ac55804d2"
      },
      "source": [
        "from google.colab import drive\n",
        "drive.mount('/content/drive')"
      ],
      "execution_count": null,
      "outputs": [
        {
          "output_type": "stream",
          "text": [
            "Mounted at /content/drive\n"
          ],
          "name": "stdout"
        }
      ]
    },
    {
      "cell_type": "code",
      "metadata": {
        "id": "V2dSiEHGMNMO",
        "colab": {
          "base_uri": "https://localhost:8080/"
        },
        "outputId": "11910d4f-cacf-400e-c6eb-12c3f1c0fe03"
      },
      "source": [
        "import nltk\r\n",
        "import collections\r\n",
        "nltk.download('punkt')\r\n",
        "nltk.download('stopwords')\r\n",
        "nltk.download('wordnet')\r\n",
        "nltk.download('averaged_perceptron_tagger')"
      ],
      "execution_count": null,
      "outputs": [
        {
          "output_type": "stream",
          "text": [
            "[nltk_data] Downloading package punkt to /root/nltk_data...\n",
            "[nltk_data]   Unzipping tokenizers/punkt.zip.\n",
            "[nltk_data] Downloading package stopwords to /root/nltk_data...\n",
            "[nltk_data]   Unzipping corpora/stopwords.zip.\n",
            "[nltk_data] Downloading package wordnet to /root/nltk_data...\n",
            "[nltk_data]   Unzipping corpora/wordnet.zip.\n",
            "[nltk_data] Downloading package averaged_perceptron_tagger to\n",
            "[nltk_data]     /root/nltk_data...\n",
            "[nltk_data]   Unzipping taggers/averaged_perceptron_tagger.zip.\n"
          ],
          "name": "stdout"
        },
        {
          "output_type": "execute_result",
          "data": {
            "text/plain": [
              "True"
            ]
          },
          "metadata": {
            "tags": []
          },
          "execution_count": 2
        }
      ]
    },
    {
      "cell_type": "code",
      "metadata": {
        "id": "FpUpkYlCb2TH"
      },
      "source": [
        "#Cyber Crime intents and sections\r\n",
        "intent_cyber_crime=[['private part', False, 0], ['genitals', False, 0], ['photo', False, 0], ['video', False, 0], ['consent', False, 0], ['share', False], ['pornography', False, 1], \r\n",
        "                    ['obscene', False, 1], ['child', False, 2], ['offensive', False, 3], ['threaten', False, 4], ['defame', False, 5], ['blackmailing', False, 6], ['extortion', False, 7], \r\n",
        "                    ['illegal', False, 8], ['sex', False, 8], ['stalking', False, 9], ['insulting', False],  ['modesty',False, 12], ['date', False, 10], ['matrimonial', False, 11], \r\n",
        "                    ['cheat',False], ['message',False], ['remark',False], ['harass',False]]\r\n",
        "sections_cyber_crime=[['IPC Section 504 2 years jail or fine or both', False], ['IPC Section 292 fine 2000-5000 jail 2-5 years', False], \r\n",
        "                      ['IPC Section 384 upto 3 years jail or fine or both', False], ['IPC Section 354A upto 3 years jail or fine or both', False], \r\n",
        "                      ['IPC Section 354D: First time-3 years jail or fine or both, Second time onwards-upto 5 years jail or fine or both', False], \r\n",
        "                      ['IPC Section 417 1 year jail or fine or both ', False], ['IPC Section 509 1 year jail or fine or both', False], \r\n",
        "                      ['IPC Section 508 2 years jail or fine or both', False], ['Section 66E of IT Act 2000: fine 2 lakhs, 3 years jail or both', False],\r\n",
        "                      ['Section 67 of IT Act 2000 – first conviction up to 3 years and 5 lakhs Second and subsequent conviction – upto 5 years and upto 10 lakhs', False],\r\n",
        "                      ['Section 66D of IT Act 2000: upto 3 years jail and fine upto 1 lakh', False], ['IPC Section 507 2 years jail with Section 506', False], \r\n",
        "                      ['Section 79(3)(A) of IT Act 2000', False], ['IPC Section 506 2 years jail or fine or both', False], \r\n",
        "                      ['IPC Section 503 2-4 years jail or fine or both', False], ['IPC Section 500 2 years jail or fine or both', False], \r\n",
        "                      ['IPC Section 419 3 years jail or fine or both', False], ['IPC Section 416', False], \r\n",
        "                      ['section 67 B of IT act 2000 - first conviction upto 5 years and upto 10 lakhs fine  second conviction upto 7 year and upto 10 lakhs', False]]"
      ],
      "execution_count": null,
      "outputs": []
    },
    {
      "cell_type": "code",
      "metadata": {
        "id": "TsE9Lo9qpvV5"
      },
      "source": [
        "questions_cyber_crime = [[\"Did anyone click or share your private pictures/videos without your consent?\",False], \r\n",
        "                         [\"Did anyone send any obscene pictures or videos to disturb you?\",False],\r\n",
        "                         [\"Did obscene content have any child involved?\",False], \r\n",
        "                         [\"Did anyone send offensive messages to you?\",False], \r\n",
        "                         [\"Did anyone send threatening messages to you?\",False],\r\n",
        "                         [\"Did anyone try to defame you on social media or any other platform?\",False],\r\n",
        "                         [\"Did someone blackmail you on social media or any other platform?\", False],\r\n",
        "                         [\"Did they demand money or any property while blackmailing?\", False],\r\n",
        "                         [\"Have anyone ever approached you and demand for illegal sex?\", False],\r\n",
        "                         [\"Have you ever undergone the unpleasant experience of being stalked?\", False],\r\n",
        "                         [\"In the world of social media online dating as well as scam related to it is on a rise. Have you ever been victim of online dating?\",False],\r\n",
        "                         [\"Did someone dupe you for money on matrimonial websites?\", False],\r\n",
        "                         [\"Did someone try to insult your modesty with some kind of act, word or gesture?\", False]]"
      ],
      "execution_count": null,
      "outputs": []
    },
    {
      "cell_type": "code",
      "metadata": {
        "id": "I-k9v270iTGF"
      },
      "source": [
        "order_cyber_crime = [[2,4,7], [2,4,7], [0,4,6], [0,4,6], [0,3,7], [0,2,4,7], [8,0], [8,0], [6], [10,11], [9,11], [9,10], [13,14,15], [14,15], [15], [14], \r\n",
        "                     [12,14,15], [18,7,11], [], [20], [], [19,20], [9,10,11], [9,10,11], [16]]"
      ],
      "execution_count": null,
      "outputs": []
    },
    {
      "cell_type": "code",
      "metadata": {
        "id": "i2D6QQPeaTWU"
      },
      "source": [
        "#Domestic violence intents and sections\r\n",
        "intent_domestic_violence = [['salary', False, 0],  ['evict', False, 1], ['force', False, 1], ['intimidate', False, 2], ['manipulate', False, 2], ['shouting', False, 3], \r\n",
        "                            ['criticise', False, 3], ['threaten', False, 4], ['hit', False, 5], ['beating',False, 5], ['insulting', False], ['abuse', False], \r\n",
        "                            ['psychological', False],  ['physically', False], ['alcohol', False], ['maintenance', False, 6], ['restriction', False, 7], ['job', False, 7], \r\n",
        "                            ['restriction', False, 8], ['house', False, 8], ['restriction', False, 9], ['marriage', False, 9], ['force', False, 10], ['marriage', False, 10], \r\n",
        "                            ['snatch', False, 0], ['dowry', False], ['molest', False], ['torture',False]]\r\n",
        "sections_domestic_violence = [['Section 3 of Domestic violence Act under sexual abuse', False], ['Section 3 of Domestic violence Act under economic abuse', False], \r\n",
        "                              ['Section 3 of Domestic violence Act under verbal abuse', False], ['Section 3 of Domestic violence Act under emotional abuse', False], \r\n",
        "                              ['Section 3 of Domestic violence Act under physical abuse', False]]"
      ],
      "execution_count": null,
      "outputs": []
    },
    {
      "cell_type": "code",
      "metadata": {
        "id": "SqUQTKC8sEpe"
      },
      "source": [
        "questions_domestic_violence = [[\"Did anyone of your family members try to take away your income?\",False],\r\n",
        "                               [\"Did your family members evicted you from home anytime?\",False],\r\n",
        "                               [\"Did your family members abuse you mentally or emotionally?\",False],\r\n",
        "                               [\"Did they abuse you verbally like speaking ill of you, mocking or insulting you in anyway?\",False],\r\n",
        "                               [\"Does any of your family members trying to threaten you by any action or gesture?\",False],\r\n",
        "                               [\"Have you ever been abused physically like beating, hitting etc… by your family members?\",False],\r\n",
        "                               [\"Are your basic needs being fulfilled by your family members?\",False],\r\n",
        "                               [\"Do you face any restrictions on taking jobs or working outside home from your family members?\",False],\r\n",
        "                               [\"Do you face any other restrictions on using household items from your family members?\",False],\r\n",
        "                               [\"Are you being restricted to marry the person of your choice?\",False],\r\n",
        "                               [\"Are you being forced to marry against your will?\",False],\r\n",
        "                               [\"Are you a victim of any kind of sexual abuse?\",False]]"
      ],
      "execution_count": null,
      "outputs": []
    },
    {
      "cell_type": "code",
      "metadata": {
        "id": "QyCaIolUnrAU"
      },
      "source": [
        "order_domestic_violence = [[24,1,16,17,18,19], [16,17,18,19], [1,23], [], [], [7], [7], [5], [], [], [5,7], [3,5,7,9], [3,5,7,9], [3,5,7,9], [8,5,3], \r\n",
        "                           [0,1,16,17,18,19], [17,19,21], [16,18,19,0,1], [17,19,21], [18,1,16,17], [17,19,21], [20], [1,23], [22], [0,1], [3,5,7,9], [], [3,9]]"
      ],
      "execution_count": null,
      "outputs": []
    },
    {
      "cell_type": "code",
      "metadata": {
        "id": "Hfj_wjfXgJ-p"
      },
      "source": [
        "l = len(intent_domestic_violence)\r\n",
        "for i in range(0,l):\r\n",
        "  print(i, intent_domestic_violence[i][0])"
      ],
      "execution_count": null,
      "outputs": []
    },
    {
      "cell_type": "code",
      "metadata": {
        "id": "qKaDa6f5B4Xn"
      },
      "source": [
        "def update_cyber_crime():\r\n",
        "  intent_cyber_crime[0][1]=intent_cyber_crime[0][1]|intent_cyber_crime[1][1]\r\n",
        "  intent_cyber_crime[1][1]=intent_cyber_crime[0][1]\r\n",
        "  intent_cyber_crime[2][1]=intent_cyber_crime[2][1]|intent_cyber_crime[3][1]\r\n",
        "  intent_cyber_crime[3][1]=intent_cyber_crime[2][1]\r\n",
        "  intent_cyber_crime[6][1]=intent_cyber_crime[6][1]|intent_cyber_crime[7][1]\r\n",
        "  intent_cyber_crime[7][1]=intent_cyber_crime[6][1]\r\n",
        "  id = intent_cyber_crime[7][2]\r\n",
        "  if intent_cyber_crime[7][1]==False and questions_cyber_crime[id][1]==True:\r\n",
        "    questions_cyber_crime[id+1][1]==True\r\n",
        "  id = intent_cyber_crime[12][2]\r\n",
        "  if intent_cyber_crime[12][1]==False and questions_cyber_crime[id][1]==True:\r\n",
        "    questions_cyber_crime[id+1][1]==True\r\n",
        "  id = intent_cyber_crime[19][2]\r\n",
        "  if intent_cyber_crime[19][1]==False and questions_cyber_crime[id][1]==True:\r\n",
        "    questions_cyber_crime[id+1][1]==True"
      ],
      "execution_count": null,
      "outputs": []
    },
    {
      "cell_type": "code",
      "metadata": {
        "id": "aaLlLbkTKOAj"
      },
      "source": [
        "def update_domestic_violence():\r\n",
        "  intent_domestic_violence[3][1]=intent_domestic_violence[3][1]|intent_domestic_violence[4][1]\r\n",
        "  intent_domestic_violence[4][1]=intent_domestic_violence[3][1]\r\n",
        "  intent_domestic_violence[5][1]=intent_domestic_violence[5][1]|intent_domestic_violence[6][1]\r\n",
        "  intent_domestic_violence[6][1]=intent_domestic_violence[5][1]\r\n",
        "  intent_domestic_violence[8][1]=intent_domestic_violence[8][1]|intent_domestic_violence[9][1]\r\n",
        "  intent_domestic_violence[9][1]=intent_domestic_violence[8][1]"
      ],
      "execution_count": null,
      "outputs": []
    },
    {
      "cell_type": "code",
      "metadata": {
        "id": "-V5piUkQblse"
      },
      "source": [
        "%cp /content/drive/MyDrive/doc2vec20_100.model ./"
      ],
      "execution_count": null,
      "outputs": []
    },
    {
      "cell_type": "code",
      "metadata": {
        "id": "WYkbNXhp_Xkd"
      },
      "source": [
        "from gensim.models.doc2vec import Doc2Vec \r\n",
        "model=\"doc2vec20_100.model\"  #point to downloaded pre-trained doc2vec model\r\n",
        "m = Doc2Vec.load(model)"
      ],
      "execution_count": null,
      "outputs": []
    },
    {
      "cell_type": "code",
      "metadata": {
        "id": "M6pUMiNVrFtC",
        "colab": {
          "base_uri": "https://localhost:8080/"
        },
        "outputId": "9b0bd8f9-031d-4a99-e1ca-a9ae236c7ec9"
      },
      "source": [
        "print(m.wv.most_similar(\"intimidating\", topn=50))"
      ],
      "execution_count": null,
      "outputs": [
        {
          "output_type": "stream",
          "text": [
            "[('agressive', 0.6781207323074341), ('threatening', 0.6701663732528687), ('argumentative', 0.660290539264679), ('erratic', 0.6497961282730103), ('domineering', 0.6487255096435547), ('insulting', 0.6344987154006958), ('pushy', 0.63239586353302), ('unpleasant', 0.6303631663322449), ('demeaning', 0.627422571182251), ('hostile', 0.6203800439834595), ('aggressive', 0.6191757321357727), ('unpredictable', 0.6138052344322205), ('annoying', 0.6106954216957092), ('childish', 0.603320837020874), ('embarrassing', 0.6004969477653503), ('disrespectful', 0.5943245887756348), ('egotistical', 0.5895531177520752), ('heartbreakingly', 0.5892499685287476), ('shirty', 0.5890860557556152), ('vindictive', 0.5869518518447876), ('impatient', 0.5866142511367798), ('impulsive', 0.5861508846282959), ('domineer', 0.5823655128479004), ('degrading', 0.5821319818496704), ('humiliating', 0.5815277099609375), ('accusatory', 0.5813024044036865), ('clingy', 0.580519437789917), ('irresponsible', 0.5802348852157593), ('contemptuous', 0.5790532231330872), ('uncaring', 0.5757490396499634), ('unkind', 0.5747330188751221), ('creepy', 0.5697559118270874), ('sulky', 0.5690523386001587), ('calculating', 0.5658615827560425), ('abrupt', 0.5644341707229614), ('spiteful', 0.563818097114563), ('nasty', 0.5591005086898804), ('edgy', 0.5585590600967407), ('unaffectionate', 0.5581852197647095), ('dictatorial', 0.5564994812011719), ('cruel', 0.5561922192573547), ('shouty', 0.5560050010681152), ('inconsiderate', 0.5552443861961365), ('manipulative', 0.5551968812942505), ('withdrawn', 0.5545080304145813), ('possessive', 0.554350733757019), ('cordial', 0.5535882711410522), ('controling', 0.5533080697059631), ('exploitative', 0.5510503053665161), ('pissy', 0.5491822957992554)]\n"
          ],
          "name": "stdout"
        }
      ]
    },
    {
      "cell_type": "code",
      "metadata": {
        "id": "XLnh3TKfTKbl"
      },
      "source": [
        "#crude, vile, repulsive"
      ],
      "execution_count": null,
      "outputs": []
    },
    {
      "cell_type": "code",
      "metadata": {
        "id": "jV25uv26E5Cf"
      },
      "source": [
        "x=\"filthy\"\r\n",
        "y=\"offence\"\r\n",
        "print(m.wv.n_similarity(x.lower().split(),y.lower().split()))"
      ],
      "execution_count": null,
      "outputs": []
    },
    {
      "cell_type": "code",
      "metadata": {
        "id": "ojswsObr_hrk"
      },
      "source": [
        "def related_intent_cyber(id,signal):\r\n",
        "  related = [0,1,2,3,4]\r\n",
        "  if id in related and signal == 1:\r\n",
        "    for id in related:\r\n",
        "      intent_cyber_crime[id][1]=True\r\n",
        "      \r\n",
        "  related = [14,15]\r\n",
        "  if id in related and signal == 1:\r\n",
        "    for id in related:\r\n",
        "      intent_cyber_crime[id][1]=True"
      ],
      "execution_count": null,
      "outputs": []
    },
    {
      "cell_type": "code",
      "metadata": {
        "id": "-DhTNEOL6Yg6"
      },
      "source": [
        "def related_intent_domestic(id,signal):\r\n",
        "  if id in [0,24] and signal == 1:\r\n",
        "    for id in [0,24]:\r\n",
        "      intent_cyber_crime[id][1]=True\r\n",
        "\r\n",
        "  if id in [16,17] and signal == 1:\r\n",
        "    for id in [16,17]:\r\n",
        "      intent_cyber_crime[id][1]=True\r\n",
        "\r\n",
        "  if id in [18,19] and signal == 1:\r\n",
        "    for id in [18,19]:\r\n",
        "      intent_cyber_crime[id][1]=True\r\n",
        "\r\n",
        "  if id in [20,21] and signal == 1:\r\n",
        "    for id in [20,21]:\r\n",
        "      intent_cyber_crime[id][1]=True\r\n",
        "\r\n",
        "  if id in [22,23] and signal == 1:\r\n",
        "    for id in [22,23]:\r\n",
        "      intent_cyber_crime[id][1]=True"
      ],
      "execution_count": null,
      "outputs": []
    },
    {
      "cell_type": "code",
      "metadata": {
        "id": "vCKPLvaDT-7e"
      },
      "source": [
        "contractions = {\r\n",
        "\"ain't\": \"am not\",\r\n",
        "\"aren't\": \"are not\",\r\n",
        "\"can't\": \"cannot\",\r\n",
        "\"can't've\": \"cannot have\",\r\n",
        "\"'cause\": \"because\",\r\n",
        "\"could've\": \"could have\",\r\n",
        "\"couldn't\": \"could not\",\r\n",
        "\"couldn't've\": \"could not have\",\r\n",
        "\"didn't\": \"did not\",\r\n",
        "\"doesn't\": \"does not\",\r\n",
        "\"don't\": \"do not\",\r\n",
        "\"hadn't\": \"had not\",\r\n",
        "\"hadn't've\": \"had not have\",\r\n",
        "\"hasn't\": \"has not\",\r\n",
        "\"haven't\": \"have not\",\r\n",
        "\"he'd\": \"he had\",\r\n",
        "\"he'd've\": \"he would have\",\r\n",
        "\"he'll\": \"he shall\",\r\n",
        "\"he'll've\": \"he shall have\",\r\n",
        "\"he's\": \"he has\",\r\n",
        "\"how'd\": \"how did\",\r\n",
        "\"how'd'y\": \"how do you\",\r\n",
        "\"how'll\": \"how will\",\r\n",
        "\"how's\": \"how has\",\r\n",
        "\"i'd\": \"I had\",\r\n",
        "\"i'd've\": \"I would have\",\r\n",
        "\"i'll\": \"I shall\",\r\n",
        "\"i'll've\": \"I shall have\",\r\n",
        "\"i'm\": \"I am\",\r\n",
        "\"i've\": \"I have\",\r\n",
        "\"isn't\": \"is not\",\r\n",
        "\"it'd\": \"it had\",\r\n",
        "\"it'd've\": \"it would have\",\r\n",
        "\"it'll\": \"it shall\",\r\n",
        "\"it'll've\": \"it shall have\",\r\n",
        "\"it's\": \"it has\",\r\n",
        "\"let's\": \"let us\",\r\n",
        "\"ma'am\": \"madam\",\r\n",
        "\"mayn't\": \"may not\",\r\n",
        "\"might've\": \"might have\",\r\n",
        "\"mightn't\": \"might not\",\r\n",
        "\"mightn't've\": \"might not have\",\r\n",
        "\"must've\": \"must have\",\r\n",
        "\"mustn't\": \"must not\",\r\n",
        "\"mustn't've\": \"must not have\",\r\n",
        "\"needn't\": \"need not\",\r\n",
        "\"needn't've\": \"need not have\",\r\n",
        "\"o'clock\": \"of the clock\",\r\n",
        "\"oughtn't\": \"ought not\",\r\n",
        "\"oughtn't've\": \"ought not have\",\r\n",
        "\"shan't\": \"shall not\",\r\n",
        "\"sha'n't\": \"shall not\",\r\n",
        "\"shan't've\": \"shall not have\",\r\n",
        "\"she'd\": \"she had\",\r\n",
        "\"she'd've\": \"she would have\",\r\n",
        "\"she'll\": \"she shall\",\r\n",
        "\"she'll've\": \"she shall have\",\r\n",
        "\"she's\": \"she has\",\r\n",
        "\"should've\": \"should have\",\r\n",
        "\"shouldn't\": \"should not\",\r\n",
        "\"shouldn't've\": \"should not have\",\r\n",
        "\"so've\": \"so have\",\r\n",
        "\"so's\": \"so as\",\r\n",
        "\"that'd\": \"that would\",\r\n",
        "\"that'd've\": \"that would have\",\r\n",
        "\"that's\": \"that is\",\r\n",
        "\"there'd\": \"there had\",\r\n",
        "\"there'd've\": \"there would have\",\r\n",
        "\"there's\": \"there has\",\r\n",
        "\"they'd\": \"they had\",\r\n",
        "\"they'd've\": \"they would have\",\r\n",
        "\"they'll\": \"they shall\",\r\n",
        "\"they'll've\": \"they shall have\",\r\n",
        "\"they're\": \"they are\",\r\n",
        "\"they've\": \"they have\",\r\n",
        "\"to've\": \"to have\",\r\n",
        "\"wasn't\": \"was not\",\r\n",
        "\"we'd\": \"we had\",\r\n",
        "\"we'd've\": \"we would have\",\r\n",
        "\"we'll\": \"we will\",\r\n",
        "\"we'll've\": \"we will have\",\r\n",
        "\"we're\": \"we are\",\r\n",
        "\"we've\": \"we have\",\r\n",
        "\"weren't\": \"were not\",\r\n",
        "\"what'll\": \"what shall\",\r\n",
        "\"what'll've\": \"what shall have\",\r\n",
        "\"what're\": \"what are\",\r\n",
        "\"what's\": \"what is\",\r\n",
        "\"what've\": \"what have\",\r\n",
        "\"when's\": \"when has\",\r\n",
        "\"when've\": \"when have\",\r\n",
        "\"where'd\": \"where did\",\r\n",
        "\"where's\": \"where is\",\r\n",
        "\"where've\": \"where have\",\r\n",
        "\"who'll\": \"who will\",\r\n",
        "\"who'll've\": \"who will have\",\r\n",
        "\"who's\": \"who is\",\r\n",
        "\"who've\": \"who have\",\r\n",
        "\"why's\": \"why is\",\r\n",
        "\"why've\": \"why have\",\r\n",
        "\"will've\": \"will have\",\r\n",
        "\"won't\": \"will not\",\r\n",
        "\"won't've\": \"will not have\",\r\n",
        "\"would've\": \"would have\",\r\n",
        "\"wouldn't\": \"would not\",\r\n",
        "\"wouldn't've\": \"would not have\",\r\n",
        "\"y'all\": \"you all\",\r\n",
        "\"y'all'd\": \"you all would\",\r\n",
        "\"y'all'd've\": \"you all would have\",\r\n",
        "\"y'all're\": \"you all are\",\r\n",
        "\"y'all've\": \"you all have\",\r\n",
        "\"you'd\": \"you would\",\r\n",
        "\"you'd've\": \"you would have\",\r\n",
        "\"you'll\": \"you will\",\r\n",
        "\"you'll've\": \"you will have\",\r\n",
        "\"you're\": \"you are\",\r\n",
        "\"you've\": \"you have\"\r\n",
        "}"
      ],
      "execution_count": null,
      "outputs": []
    },
    {
      "cell_type": "code",
      "metadata": {
        "id": "si6lhIk2vA12"
      },
      "source": [
        "from nltk.corpus import stopwords\r\n",
        "stop_words = set(stopwords.words('english'))\r\n",
        "married = 0\r\n",
        "working = 0\r\n",
        "age = 0"
      ],
      "execution_count": null,
      "outputs": []
    },
    {
      "cell_type": "code",
      "metadata": {
        "id": "1n8zaFGEC0V2"
      },
      "source": [
        "from nltk.corpus import wordnet\r\n",
        "lemmatizer = nltk.WordNetLemmatizer()\r\n",
        "def lemmatization(sentence):\r\n",
        "  \r\n",
        "  sentence=sentence.lower()\r\n",
        "  tokens = []\r\n",
        "  for word,tag in nltk.pos_tag(nltk.word_tokenize(sentence)):\r\n",
        "    if (tag[0] == 'N') or (tag[0]== 'V'):\r\n",
        "      token = lemmatizer.lemmatize(word,pos=tag[0].lower())\r\n",
        "    else:\r\n",
        "      token = lemmatizer.lemmatize(word,pos='a')\r\n",
        "    tokens.append(token)\r\n",
        "  return tokens\r\n",
        "#lemmatization(input())"
      ],
      "execution_count": null,
      "outputs": []
    },
    {
      "cell_type": "code",
      "metadata": {
        "id": "5l3P2vqzNsD-"
      },
      "source": [
        "import re\r\n",
        "def cleaning_text(text):\r\n",
        "\r\n",
        "  text=text.lower()\r\n",
        "  for word in text.split():\r\n",
        "    if word.lower in contractions:\r\n",
        "      text=text.replace(word,contractions[word])\r\n",
        "  sentence=\"\"\r\n",
        "  text=re.sub(r'[^\\w\\s]', ' ', text)\r\n",
        "  tokens=lemmatization(text)\r\n",
        "  tokens = [word for word in tokens if word.isalpha() and word in m.wv.vocab]\r\n",
        "  sentence = \" \".join(tokens)\r\n",
        "  tokens = [word for word in tokens if word not in stop_words]\r\n",
        "  return tokens\r\n",
        "#cleaning_text(input())"
      ],
      "execution_count": null,
      "outputs": []
    },
    {
      "cell_type": "code",
      "metadata": {
        "id": "ytCNIhIv8XMe"
      },
      "source": [
        "from nltk import word_tokenize, pos_tag\r\n",
        "from nltk.corpus import wordnet\r\n",
        "import re\r\n",
        "lemmatizer = nltk.WordNetLemmatizer()\r\n",
        "\r\n",
        "#word tokenizeing and part-of-speech tagger\r\n",
        "def find_phrase(document):\r\n",
        "  \r\n",
        "  tokens = [nltk.word_tokenize(sent) for sent in [document]]\r\n",
        "  postag = [nltk.pos_tag(sent) for sent in tokens][0]\r\n",
        "  # Rule for NP chunk and VB Chunk\r\n",
        "  grammar = r\"\"\"\r\n",
        "    NBAR:\r\n",
        "        {<NN.*|JJ>*<NN.*>}  # Nouns and Adjectives, terminated with Nouns\r\n",
        "        {<RB.?>*<VB.?>*<JJ>*<VB.?>+<VB>?} # Verbs and Verb Phrases\r\n",
        "    NP:\r\n",
        "        {<NBAR>}\r\n",
        "        {<NBAR><IN><NBAR>}  # Above, connected with in/of/etc...\r\n",
        "  \"\"\"  \r\n",
        "  #Chunking\r\n",
        "  cp = nltk.RegexpParser(grammar)\r\n",
        "\r\n",
        "  # the result is a tree\r\n",
        "  tree = cp.parse(postag)\r\n",
        "  terms = get_terms(tree)\r\n",
        "  features = []\r\n",
        "  for term in terms:\r\n",
        "    _term = ''\r\n",
        "    for word in term:\r\n",
        "        _term += ' ' + word\r\n",
        "    features.append(_term.strip())\r\n",
        "  return features\r\n",
        "\r\n",
        "def leaves(tree):\r\n",
        "    \"\"\"Finds NP (nounphrase) leaf nodes of a chunk tree.\"\"\"\r\n",
        "    for subtree in tree.subtrees(filter = lambda t: t.label() =='NP'):\r\n",
        "        yield subtree.leaves()\r\n",
        "        \r\n",
        "def get_word_postag(word):\r\n",
        "    if pos_tag([word])[0][1].startswith('J'):\r\n",
        "        return wordnet.ADJ\r\n",
        "    if pos_tag([word])[0][1].startswith('V'):\r\n",
        "        return wordnet.VERB\r\n",
        "    if pos_tag([word])[0][1].startswith('N'):\r\n",
        "        return wordnet.NOUN\r\n",
        "    else:\r\n",
        "        return wordnet.NOUN\r\n",
        "    \r\n",
        "def normalise(word):\r\n",
        "    \"\"\"Normalises words to lowercase and stems and lemmatizes it.\"\"\"\r\n",
        "    word = word.lower()\r\n",
        "    postag = get_word_postag(word)\r\n",
        "    token = lemmatizer.lemmatize(word,postag)\r\n",
        "    if (token in m.wv.vocab):\r\n",
        "      word = token\r\n",
        "    return word\r\n",
        "\r\n",
        "def get_terms(tree):    \r\n",
        "    for leaf in leaves(tree):\r\n",
        "        terms = [normalise(w) for w,t in leaf]\r\n",
        "        yield terms\r\n",
        "#find_phrase(input())"
      ],
      "execution_count": null,
      "outputs": []
    },
    {
      "cell_type": "code",
      "metadata": {
        "id": "g1etd66anlWK"
      },
      "source": [
        "def list_phrases(text):\r\n",
        "  features=find_phrase(text)\r\n",
        "  phrases=cleaning_text(text)\r\n",
        "  for sen in features:\r\n",
        "    tokens = lemmatization(sen)\r\n",
        "    uni_gram = [word for word in tokens if word.isalpha() and  word not in stop_words and word in m.wv.vocab]\r\n",
        "    filtered_sentence = (\" \").join(uni_gram)\r\n",
        "    phrases.extend(uni_gram)\r\n",
        "    if filtered_sentence != \"\" and len(uni_gram)>1:\r\n",
        "      phrases.append(filtered_sentence)\r\n",
        "  return phrases\r\n",
        "#list_phrases(input())"
      ],
      "execution_count": null,
      "outputs": []
    },
    {
      "cell_type": "code",
      "metadata": {
        "id": "RvnVkZpvpepN"
      },
      "source": [
        "#Doc2vec Domestic violence implementation\r\n",
        "#Function to take bi_gram list as input and generate the changes in global variables\r\n",
        "def check(phrases):\r\n",
        "  intent=[]\r\n",
        "  for x in intent_domestic_violence:\r\n",
        "    intent.append(x[0])\r\n",
        "  for y in intent_cyber_crime:\r\n",
        "    intent.append(y[0])\r\n",
        "\r\n",
        "  for x in phrases:\r\n",
        "    for y in intent:\r\n",
        "      sim = m.wv.n_similarity(x.lower().split(), y.lower().split())\r\n",
        "      if sim>=0.54:\r\n",
        "       print(x,\":\",y,\" \",sim)\r\n",
        "#check(list_phrases(input()))"
      ],
      "execution_count": null,
      "outputs": []
    },
    {
      "cell_type": "code",
      "metadata": {
        "id": "AasKwuXXfTZH"
      },
      "source": [
        "from nltk.tokenize import word_tokenize\r\n",
        "from nltk.corpus import stopwords\r\n",
        "def statements_processing(Human_text):\r\n",
        "  te=Human_text\r\n",
        "  for word in te.split():\r\n",
        "    if word.lower() in contractions:\r\n",
        "      te = te.replace(word, contractions[word.lower()])\r\n",
        "\r\n",
        "  te=te.lower()\r\n",
        "  tokens = word_tokenize(te)\r\n",
        "  \r\n",
        "  words_yes_no = [word for word in tokens if word.isalpha()]\r\n",
        "  #print(words_yes_no)\r\n",
        "  list_len=len(words_yes_no)\r\n",
        "  for i in words_yes_no:\r\n",
        "    if i=='yes':\r\n",
        "      return 1\r\n",
        "    if i=='no':\r\n",
        "      return 0 \r\n",
        "  return 0"
      ],
      "execution_count": null,
      "outputs": []
    },
    {
      "cell_type": "code",
      "metadata": {
        "id": "w0V1tZfJw451"
      },
      "source": [
        "#Given domestic violence intent finding index\r\n",
        "def find_domestic_intent_index(intent):\r\n",
        "  l = len(intent_domestic_violence)\r\n",
        "  for i in range(0,l):\r\n",
        "    if intent==intent_domestic_violence[i][0]:\r\n",
        "      return i"
      ],
      "execution_count": null,
      "outputs": []
    },
    {
      "cell_type": "code",
      "metadata": {
        "id": "XFCvf_dbcN6g"
      },
      "source": [
        "#Given domestic sections finding index\r\n",
        "def find_domestic_section_index(section):\r\n",
        "  l = len(sections_domestic_violence)\r\n",
        "  for i in range(0,l):\r\n",
        "    if section==sections_domestic_violence[i][0]:\r\n",
        "      return i"
      ],
      "execution_count": null,
      "outputs": []
    },
    {
      "cell_type": "code",
      "metadata": {
        "id": "L5-tYoXIPInj"
      },
      "source": [
        "from collections import deque\r\n",
        "def implemented_domestic_violence():\r\n",
        "\r\n",
        "  asking_questions = deque()\r\n",
        "  l = len(intent_domestic_violence)\r\n",
        "  for i in range(0,l):\r\n",
        "    if(intent_domestic_violence[i][1]==True):\r\n",
        "      for j in order_domestic_violence[i]:\r\n",
        "        asking_questions.append(j)\r\n",
        "\r\n",
        "  while asking_questions:\r\n",
        "    j=asking_questions[0]\r\n",
        "    asking_questions.popleft()\r\n",
        "    if intent_domestic_violence[j][1]==False:\r\n",
        "      qid = intent_domestic_violence[j][2]\r\n",
        "      if questions_domestic_violence[qid][1]==False:\r\n",
        "        print(questions_domestic_violence[qid][0])\r\n",
        "        questions_domestic_violence[qid][1]=True\r\n",
        "        response=input().lower()\r\n",
        "        signal = statements_processing(response)\r\n",
        "        if j==17:\r\n",
        "          signal = signal^1\r\n",
        "        update_domestic_violence()\r\n",
        "        related_intent_domestic(id,signal)\r\n",
        "        if signal==1:\r\n",
        "          intent_domestic_violence[j][1] = True\r\n",
        "          for i in reversed(order_domestic_violence[j]):\r\n",
        "            if i not in asking_questions:\r\n",
        "              asking_questions.appendleft(i)"
      ],
      "execution_count": null,
      "outputs": []
    },
    {
      "cell_type": "code",
      "metadata": {
        "id": "IFqoh__Egxbj"
      },
      "source": [
        "def final_output_domestic():\r\n",
        "  ans_domestic_set=set()\r\n",
        "  \r\n",
        "  if intent_domestic_violence[8][1]==True or intent_domestic_violence[9][1]==True :\r\n",
        "    ans_domestic_set.add(4)\r\n",
        "  if intent_domestic_violence[22][1]==True and intent_domestic_violence[23][1]==True and married == 0 :\r\n",
        "    ans_domestic_set.add(3)\r\n",
        "  if intent_domestic_violence[20][1]==True and intent_domestic_violence[21][1]==True and married == 0 :\r\n",
        "    ans_domestic_set.add(3)\r\n",
        "  if intent_domestic_violence[3][1]==True or intent_domestic_violence[4][1]==True :\r\n",
        "    ans_domestic_set.add(3)\r\n",
        "  if intent_domestic_violence[5][1]==True or intent_domestic_violence[6][1]==True or intent_domestic_violence[7][1]==True :\r\n",
        "    ans_domestic_set.add(2)\r\n",
        "  if intent_domestic_violence[16][1]==True and intent_domestic_violence[17][1]==True :\r\n",
        "    ans_domestic_set.add(1)\r\n",
        "  if intent_domestic_violence[0][1]==True and intent_domestic_violence[24][1]==True and working == 1 :\r\n",
        "    ans_domestic_set.add(1)\r\n",
        "  if intent_domestic_violence[1][1]==True and intent_domestic_violence[19][1]==True :\r\n",
        "    ans_domestic_set.add(1)\r\n",
        "  if intent_domestic_violence[15][1]==True :\r\n",
        "    ans_domestic_set.add(1)\r\n",
        "\r\n",
        "  ans_domestic = []\r\n",
        "  for i in ans_domestic_set:\r\n",
        "    ans_domestic.append(sections_domestic_violence[i][0])\r\n",
        "\r\n",
        "  return ans_domestic\r\n",
        "       "
      ],
      "execution_count": null,
      "outputs": []
    },
    {
      "cell_type": "code",
      "metadata": {
        "id": "fcd0bL3UP5kT"
      },
      "source": [
        "#Doc2vec Domestic violence implementation\r\n",
        "#Function to take bi_gram list as input and generate the changes in global variables\r\n",
        "def domestic_function(phrases):\r\n",
        "\r\n",
        "  for x in phrases:\r\n",
        "    l = len(intent_domestic_violence)\r\n",
        "    for id in range(0,l):\r\n",
        "      y = intent_domestic_violence[id][0]\r\n",
        "      sim = m.wv.n_similarity(x.lower().split(), y.lower().split())\r\n",
        "      if sim>=0.50:\r\n",
        "        print(x,\":\",y,\" \",sim)\r\n",
        "        intent_domestic_violence[id][1] = True\r\n",
        "  implemented_domestic_violence()"
      ],
      "execution_count": null,
      "outputs": []
    },
    {
      "cell_type": "code",
      "metadata": {
        "id": "wA35DodD0P16"
      },
      "source": [
        "def domestic_violence_input_new(phrases):\r\n",
        "  for intent in intent_domestic_violence:\r\n",
        "    intent[1]=False\r\n",
        "  for sections in sections_domestic_violence:\r\n",
        "    sections[1]=False\r\n",
        "  for question in questions_domestic_violence:\r\n",
        "    question[1]=False\r\n",
        "  if(working==0):\r\n",
        "    questions_domestic_violence[0][1]=True\r\n",
        "  if(married==1):\r\n",
        "    questions_domestic_violence[9][1]=True\r\n",
        "    questions_domestic_violence[10][1]=True\r\n",
        "  domestic_function(phrases)\r\n",
        "  ans_domestic=final_output_domestic()\r\n",
        "  return ans_domestic"
      ],
      "execution_count": null,
      "outputs": []
    },
    {
      "cell_type": "markdown",
      "metadata": {
        "id": "4_Rq0Wt1Oe1o"
      },
      "source": [
        "Cyber Crime form here\r\n"
      ]
    },
    {
      "cell_type": "code",
      "metadata": {
        "id": "EHWyH1gHVdQ7"
      },
      "source": [
        "#Given cyber crime intent finding index\r\n",
        "def find_cyber_intent_index(intent):\r\n",
        "  l = len(intent_cyber_crime)\r\n",
        "  for i in range(0,l):\r\n",
        "    if intent==intent_cyber_crime[i][0]:\r\n",
        "      return i"
      ],
      "execution_count": null,
      "outputs": []
    },
    {
      "cell_type": "code",
      "metadata": {
        "id": "CKcHbpVNhPvo"
      },
      "source": [
        "from collections import deque\r\n",
        "def implemented_cyber_crime():\r\n",
        "\r\n",
        "  asking_questions = deque()\r\n",
        "  l = len(intent_cyber_crime)\r\n",
        "  for i in range(0,l):\r\n",
        "    if(intent_cyber_crime[i][1]==True):\r\n",
        "      for j in order_cyber_crime[i]:\r\n",
        "        asking_questions.append(j)\r\n",
        "\r\n",
        "  while asking_questions:\r\n",
        "    j=asking_questions[0]\r\n",
        "    asking_questions.popleft()\r\n",
        "    if intent_cyber_crime[j][1]==False:\r\n",
        "      qid = intent_cyber_crime[j][2]\r\n",
        "      if questions_cyber_crime[qid][1]==False:\r\n",
        "        print(questions_cyber_crime[qid][0])\r\n",
        "        questions_cyber_crime[qid][1]=True\r\n",
        "        response=input().lower()\r\n",
        "        signal = statements_processing(response)\r\n",
        "        update_cyber_crime()\r\n",
        "        related_intent_cyber(j,signal)\r\n",
        "        if signal==1:\r\n",
        "          intent_cyber_crime[j][1] = True\r\n",
        "          for i in reversed(order_cyber_crime[j]):\r\n",
        "            if i not in asking_questions:\r\n",
        "              asking_questions.appendleft(i)"
      ],
      "execution_count": null,
      "outputs": []
    },
    {
      "cell_type": "code",
      "metadata": {
        "id": "s3ArZ9wo99-P"
      },
      "source": [
        "def final_output_cyber():\r\n",
        "  ans_cyber_set=set()\r\n",
        "  if intent_cyber_crime[10][1]==True :\r\n",
        "    ans_cyber_set.update([0])\r\n",
        "  if intent_cyber_crime[9][1]==True :\r\n",
        "    ans_cyber_set.update([0,6,7,11,13,15])\r\n",
        "  if (intent_cyber_crime[2][1]==True or intent_cyber_crime[3][1]) and (intent_cyber_crime[0][1]==True or intent_cyber_crime[1][1]==True) and intent_cyber_crime[4][1]==True :\r\n",
        "    ans_cyber_set.update([1,8])\r\n",
        "  if (intent_cyber_crime[6][1]==True or intent_cyber_crime[7][1]) :\r\n",
        "    ans_cyber_set.update([1,9])\r\n",
        "  if (intent_cyber_crime[6][1]==True or intent_cyber_crime[7][1]) and intent_cyber_crime[8][1]==True :\r\n",
        "    ans_cyber_set.update([1,9,18])\r\n",
        "  if intent_cyber_crime[12][1]==True :\r\n",
        "    ans_cyber_set.update([14])\r\n",
        "  if intent_cyber_crime[13][1]==True :\r\n",
        "    ans_cyber_set.update([2,14])\r\n",
        "  if intent_cyber_crime[14][1]==True and intent_cyber_crime[15][1]==True :\r\n",
        "    ans_cyber_set.update([3])\r\n",
        "  if intent_cyber_crime[16][1]==True :\r\n",
        "    ans_cyber_set.update([4])\r\n",
        "  if intent_cyber_crime[19][1]==True :\r\n",
        "    ans_cyber_set.update([5,10,16,17,12])\r\n",
        "  if intent_cyber_crime[18][1]==True :\r\n",
        "    ans_cyber_set.update([6])\r\n",
        "  if intent_cyber_crime[20][1]==True :\r\n",
        "    ans_cyber_set.update([12])\r\n",
        "  if intent_cyber_crime[11][1]==True :\r\n",
        "    ans_cyber_set.update([15])\r\n",
        "  \r\n",
        "  ans_cyber = []\r\n",
        "  for i in ans_cyber_set:\r\n",
        "    ans_cyber.append(sections_cyber_crime[i][0])\r\n",
        "  \r\n",
        "  return ans_cyber"
      ],
      "execution_count": null,
      "outputs": []
    },
    {
      "cell_type": "code",
      "metadata": {
        "id": "QGB50DVrUKt9"
      },
      "source": [
        "#cyber crimes Doc2vec\r\n",
        "def cyber_function(bi_gram):\r\n",
        "\r\n",
        "  for x in bi_gram:\r\n",
        "    l = len(intent_cyber_crime)\r\n",
        "    for id in range(0,l):\r\n",
        "      y = intent_cyber_crime[id][0]\r\n",
        "      sim = m.wv.n_similarity(x.lower().split(), y.lower().split())\r\n",
        "      if sim>=0.54:\r\n",
        "        print(x,\":\",y,\" \",sim)\r\n",
        "        intent_cyber_crime[id][1] = True\r\n",
        "  implemented_cyber_crime()"
      ],
      "execution_count": null,
      "outputs": []
    },
    {
      "cell_type": "code",
      "metadata": {
        "id": "5Y57ULx6s9rN"
      },
      "source": [
        "def cyber_crime_input_new(phrases):\r\n",
        "  for intent in intent_cyber_crime:\r\n",
        "    intent[1]=False\r\n",
        "  for sections in sections_cyber_crime:\r\n",
        "    sections[1]=False\r\n",
        "  for question in questions_cyber_crime:\r\n",
        "    question[1]=False\r\n",
        "  cyber_function(phrases)\r\n",
        "  ans_cyber=final_output_cyber()\r\n",
        "  return ans_cyber"
      ],
      "execution_count": null,
      "outputs": []
    },
    {
      "cell_type": "code",
      "metadata": {
        "id": "cfvryrlGCd7W"
      },
      "source": [
        "def diff1(phrases):\r\n",
        "  \r\n",
        "  intent_domestic=[]\r\n",
        "  for x in intent_domestic_violence:\r\n",
        "    intent_domestic.append(x[0])\r\n",
        "  intent_cyber=[]\r\n",
        "  for y in intent_cyber_crime:\r\n",
        "    intent_cyber.append(y[0])\r\n",
        "  \r\n",
        "  c1=0\r\n",
        "  c2=0\r\n",
        "  a1=set()\r\n",
        "  a2=set()\r\n",
        "  for x in phrases:\r\n",
        "    for y in intent_domestic:\r\n",
        "      sim = m.wv.n_similarity(x.lower().split(), y.lower().split())\r\n",
        "      if sim > 0.50:\r\n",
        "        #print(x,\":\",y,\" \",sim)\r\n",
        "        a1.add(y)\r\n",
        "        \r\n",
        "  for x in phrases:\r\n",
        "    for y in intent_cyber:\r\n",
        "      sim = m.wv.n_similarity(x.lower().split(), y.lower().split())\r\n",
        "      if sim > 0.54:\r\n",
        "        #print(x,\":\",y,\" \",sim)\r\n",
        "        a2.add(y)\r\n",
        "\r\n",
        "  c1=len(a1)\r\n",
        "  c2=len(a2)   \r\n",
        "  print(c1,c2)   \r\n",
        "  if c2 >= 3 and c1 >= 3:\r\n",
        "    return 0\r\n",
        "  if c1 > c2:\r\n",
        "    return 2\r\n",
        "  if c2 > c1:\r\n",
        "    return 1\r\n",
        "  return 0"
      ],
      "execution_count": null,
      "outputs": []
    },
    {
      "cell_type": "code",
      "metadata": {
        "id": "aXbku1B7V70X"
      },
      "source": [
        "def introduction_questions():\r\n",
        "  global working\r\n",
        "  global married\r\n",
        "  global age\r\n",
        "  print(\"My introduction: I am Anita, What about you?\")\r\n",
        "  introduction = input()\r\n",
        "  print(\"What is your age?\")\r\n",
        "  age = int(input())\r\n",
        "  if (age>=18):\r\n",
        "    print(\"Are you married?\")\r\n",
        "    reply = input()\r\n",
        "    married = statements_processing(reply)\r\n",
        "  print(\"Do you do some kind of work for living?\")\r\n",
        "  reply = input()\r\n",
        "  working = statements_processing(reply)"
      ],
      "execution_count": null,
      "outputs": []
    },
    {
      "cell_type": "code",
      "metadata": {
        "id": "3kHwMfZ8EraD"
      },
      "source": [
        "def general_questions():\r\n",
        "  answer_sections = []\r\n",
        "  introduction_questions()\r\n",
        "  print(\"What brings you here. How can I help you?\")\r\n",
        "  reply = input()\r\n",
        "  phrases = list_phrases(reply)\r\n",
        "  while True:\r\n",
        "    check = diff1(phrases)\r\n",
        "    print(check)\r\n",
        "    if check == 2:\r\n",
        "      answer_sections.extend(domestic_violence_input_new(phrases))\r\n",
        "    if check == 1:\r\n",
        "      answer_sections.extend(cyber_crime_input_new(phrases))\r\n",
        "    if check == 0:\r\n",
        "      answer_sections.extend(cyber_crime_input_new(phrases))\r\n",
        "      answer_sections.extend(domestic_violence_input_new(phrases))\r\n",
        "    print(\"Do you want to share anything else?\")\r\n",
        "    reply = input()\r\n",
        "    response = statements_processing(reply)\r\n",
        "    if(response == 0):\r\n",
        "      break\r\n",
        "  print(\"You may file a case under the following sections:\")\r\n",
        "  for x in answer_sections:\r\n",
        "    print(\"  * \",x)\r\n",
        "general_questions()"
      ],
      "execution_count": null,
      "outputs": []
    },
    {
      "cell_type": "code",
      "metadata": {
        "id": "uKp9QM1rm_M6"
      },
      "source": [
        "def differentiate(phrases):\r\n",
        "  cyber_keywords=[\"privacy\",\"social medium\",\"internet\",\"video\",\"cyberbullying\",\"stalking\",\"message\",\"emails\",\"facebook\",\"instagram\",\"website\",\"photo\",\"obscene\",\"online\"]\r\n",
        "  domestic_keywords=[\"husband\",\"family\",\"marriage\",\"dowry\",\"alcohol\",\"beating\",\"alcohol\",\"hit\",\"manipulate\",\"restriction\",\"violence\",\"house\",\"divorce\"]\r\n",
        "  count1 = 0\r\n",
        "  count2 = 0\r\n",
        "  a1=set()\r\n",
        "  a2=set()\r\n",
        "  for x in phrases:\r\n",
        "    for y in cyber_keywords:\r\n",
        "      sim = m.wv.n_similarity(x.lower().split(), y.lower().split())\r\n",
        "      if sim >= 0.54:\r\n",
        "        #print(x,\":\",y,\" \",sim)\r\n",
        "        a1.add(y)\r\n",
        "    for y in domestic_keywords:\r\n",
        "      sim = m.wv.n_similarity(x.lower().split(), y.lower().split())\r\n",
        "      if sim >= 0.50:\r\n",
        "        #print(x,\":\",y,\" \",sim)\r\n",
        "        a2.add(y)\r\n",
        "  count1=len(a1)\r\n",
        "  count2=len(a2)\r\n",
        "  print(count1, count2)\r\n",
        "  if count2 >= 2 and count1 >= 2:\r\n",
        "    print(\"both\")\r\n",
        "    return 0\r\n",
        "  if count1 > count2:\r\n",
        "    print(\"cyber\")\r\n",
        "    return 1\r\n",
        "  if count2 > count1:\r\n",
        "    print(\"domestic\")\r\n",
        "    return 2\r\n",
        "  \r\n",
        "  return 0 "
      ],
      "execution_count": null,
      "outputs": []
    },
    {
      "cell_type": "code",
      "metadata": {
        "id": "5kqslLtED8VF"
      },
      "source": [
        "def general_questions():\r\n",
        "  answer_sections = []\r\n",
        "  introduction_questions()\r\n",
        "  print(\"What brings you here. How can I help you?\")\r\n",
        "  reply = input()\r\n",
        "  phrases = list_phrases(reply)\r\n",
        "  while True:\r\n",
        "    check = differentiate(phrases)\r\n",
        "    if check == 2:\r\n",
        "      answer_sections.extend(domestic_violence_input_new(phrases))\r\n",
        "    if check == 1:\r\n",
        "      answer_sections.extend(cyber_crime_input_new(phrases))\r\n",
        "    if check == 0:\r\n",
        "      answer_sections.extend(cyber_crime_input_new(phrases))\r\n",
        "      answer_sections.extend(domestic_violence_input_new(phrases))\r\n",
        "    print(\"Do you want to share anything else?\")\r\n",
        "    reply = input()\r\n",
        "    response = statements_processing(reply)\r\n",
        "    if(response == 0):\r\n",
        "      break\r\n",
        "  print(\"You may file a case under the following sections:\")\r\n",
        "  for x in answer_sections:\r\n",
        "    print(\"  * \",x)\r\n",
        "general_questions()"
      ],
      "execution_count": null,
      "outputs": []
    }
  ]
}